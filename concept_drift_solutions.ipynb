{
 "cells": [
  {
   "cell_type": "markdown",
   "source": [
    "# Solution 1: Weighting Input Data"
   ],
   "metadata": {
    "collapsed": false
   }
  },
  {
   "cell_type": "markdown",
   "source": [
    "## Load Packages and Libraries"
   ],
   "metadata": {
    "collapsed": false
   }
  },
  {
   "cell_type": "code",
   "execution_count": 79,
   "outputs": [
    {
     "name": "stdout",
     "output_type": "stream",
     "text": [
      "The autoreload extension is already loaded. To reload it, use:\n",
      "  %reload_ext autoreload\n"
     ]
    }
   ],
   "source": [
    "%load_ext autoreload\n",
    "%autoreload 2"
   ],
   "metadata": {
    "collapsed": false,
    "pycharm": {
     "name": "#%%\n"
    }
   }
  },
  {
   "cell_type": "code",
   "execution_count": 80,
   "outputs": [],
   "source": [
    "import pandas as pd\n",
    "import numpy as np\n",
    "from matplotlib import pyplot as plt\n",
    "\n",
    "\n",
    "import data_prep_model_fit, drift\n",
    "from sklearn.metrics import accuracy_score\n",
    "from mleng_workshop_drift import addressing_solutions\n"
   ],
   "metadata": {
    "collapsed": false,
    "pycharm": {
     "name": "#%%\n"
    }
   }
  },
  {
   "cell_type": "markdown",
   "source": [
    "## Preparing the model"
   ],
   "metadata": {
    "collapsed": false
   }
  },
  {
   "cell_type": "code",
   "execution_count": 81,
   "outputs": [],
   "source": [
    "red_wine_dataset = pd.read_csv(\n",
    "    \"https://archive.ics.uci.edu/ml/machine-learning-databases/wine-quality/winequality-red.csv\", sep=\";\")\n",
    "white_wine_dataset = pd.read_csv(\n",
    "    \"https://archive.ics.uci.edu/ml/machine-learning-databases/wine-quality/winequality-white.csv\", sep=\";\")"
   ],
   "metadata": {
    "collapsed": false,
    "pycharm": {
     "name": "#%%\n"
    }
   }
  },
  {
   "cell_type": "code",
   "execution_count": 82,
   "outputs": [
    {
     "name": "stderr",
     "output_type": "stream",
     "text": [
      "C:\\Users\\c.fraisse\\PycharmProjects\\pythonProject3\\venv\\lib\\site-packages\\lightgbm\\basic.py:1487: UserWarning: categorical_feature keyword has been found in `params` and will be ignored.\n",
      "Please use categorical_feature argument of the Dataset constructor to pass this parameter.\n",
      "  _log_warning(f'{key} keyword has been found in `params` and will be ignored.\\n'\n"
     ]
    }
   ],
   "source": [
    "wine_dataset = data_prep_model_fit.data_transform(red_wine_dataset, white_wine_dataset)\n",
    "wine_dataset_train, wine_dataset_test = data_prep_model_fit.data_labels_change(wine_dataset)\n",
    "X_train, y_train, X_test, y_test = data_prep_model_fit.data_split(wine_dataset_train, wine_dataset_test)\n",
    "lgbm_model, params = data_prep_model_fit.lgbm_fit(X_train, y_train)"
   ],
   "metadata": {
    "collapsed": false,
    "pycharm": {
     "name": "#%%\n"
    }
   }
  },
  {
   "cell_type": "markdown",
   "source": [
    "We start with a 86% accuracy. Our model can be put in production."
   ],
   "metadata": {
    "collapsed": false
   }
  },
  {
   "cell_type": "code",
   "execution_count": 83,
   "outputs": [],
   "source": [
    "accuracy_list = []"
   ],
   "metadata": {
    "collapsed": false,
    "pycharm": {
     "name": "#%%\n"
    }
   }
  },
  {
   "cell_type": "code",
   "execution_count": 84,
   "outputs": [
    {
     "name": "stdout",
     "output_type": "stream",
     "text": [
      "0.865332820315506\n"
     ]
    }
   ],
   "source": [
    "y_pred = lgbm_model.predict(X_test)\n",
    "accuracy_list.append(accuracy_score(y_pred, y_test))\n",
    "print(accuracy_score(y_pred, y_test))"
   ],
   "metadata": {
    "collapsed": false,
    "pycharm": {
     "name": "#%%\n"
    }
   }
  },
  {
   "cell_type": "markdown",
   "source": [
    "## Corrupting the model : batch 1"
   ],
   "metadata": {
    "collapsed": false
   }
  },
  {
   "cell_type": "markdown",
   "source": [
    "We now corrupt our dataset with a real concept drift"
   ],
   "metadata": {
    "collapsed": false
   }
  },
  {
   "cell_type": "code",
   "execution_count": 85,
   "outputs": [],
   "source": [
    "data_generated = drift.dataset_generator_yield(data=wine_dataset_test, nb_sample=500)\n",
    "dataset_sample = next(data_generated)\n",
    "wine_dataset_corrupted_batch_1 = drift.drift_generator_concept_drift(data=dataset_sample,\n",
    "                                                             column_name=\"alcohol\",\n",
    "                                                             value=11,\n",
    "                                                             action=\"greater\",\n",
    "                                                             label_col=\"quality\",\n",
    "                                                             label_value=0)"
   ],
   "metadata": {
    "collapsed": false,
    "pycharm": {
     "name": "#%%\n"
    }
   }
  },
  {
   "cell_type": "code",
   "execution_count": 86,
   "outputs": [],
   "source": [
    "X_test_corrupted_batch_1 = wine_dataset_corrupted_batch_1.loc[:, wine_dataset_corrupted_batch_1.columns != \"quality\"]\n",
    "y_test_corrupted_batch_1 = wine_dataset_corrupted_batch_1[\"quality\"]"
   ],
   "metadata": {
    "collapsed": false,
    "pycharm": {
     "name": "#%%\n"
    }
   }
  },
  {
   "cell_type": "markdown",
   "source": [
    "Drift alarm, our accuracy score has decreased !!"
   ],
   "metadata": {
    "collapsed": false
   }
  },
  {
   "cell_type": "code",
   "execution_count": 87,
   "outputs": [
    {
     "name": "stdout",
     "output_type": "stream",
     "text": [
      "0.648\n"
     ]
    }
   ],
   "source": [
    "y_pred = lgbm_model.predict(X_test_corrupted_batch_1)\n",
    "accuracy_list.append(accuracy_score(y_pred, y_test_corrupted_batch_1))\n",
    "print(accuracy_score(y_pred, y_test_corrupted_batch_1))"
   ],
   "metadata": {
    "collapsed": false,
    "pycharm": {
     "name": "#%%\n"
    }
   }
  },
  {
   "cell_type": "markdown",
   "source": [
    "## Our solution: weighting input with time"
   ],
   "metadata": {
    "collapsed": false
   }
  },
  {
   "cell_type": "markdown",
   "source": [
    "We will weigh the importance of input data.\n",
    "We will use a weighting that is inversely proportional to the age of the data such that more attention is paid to the most recent data (higher weight) and less attention is paid to the least recent data (smaller weight)."
   ],
   "metadata": {
    "collapsed": false
   }
  },
  {
   "cell_type": "markdown",
   "source": [
    "Retrain the model with the training and corrupted dataset"
   ],
   "metadata": {
    "collapsed": false
   }
  },
  {
   "cell_type": "code",
   "execution_count": 88,
   "outputs": [],
   "source": [
    "X_test_corrupted, y_test_corrupted = addressing_solutions.dataset_concat(wine_dataset_train, wine_dataset_corrupted_batch_1)"
   ],
   "metadata": {
    "collapsed": false,
    "pycharm": {
     "name": "#%%\n"
    }
   }
  },
  {
   "cell_type": "code",
   "execution_count": 89,
   "outputs": [
    {
     "name": "stderr",
     "output_type": "stream",
     "text": [
      "C:\\Users\\c.fraisse\\PycharmProjects\\pythonProject3\\venv\\lib\\site-packages\\lightgbm\\basic.py:1487: UserWarning: categorical_feature keyword has been found in `params` and will be ignored.\n",
      "Please use categorical_feature argument of the Dataset constructor to pass this parameter.\n",
      "  _log_warning(f'{key} keyword has been found in `params` and will be ignored.\\n'\n"
     ]
    }
   ],
   "source": [
    "weighted_X_test, weighted_lgbm_model = addressing_solutions.weighted_dataset(X_test_corrupted, y_test_corrupted, params)"
   ],
   "metadata": {
    "collapsed": false,
    "pycharm": {
     "name": "#%%\n"
    }
   }
  },
  {
   "cell_type": "markdown",
   "source": [
    "#### Testing if accuracy has improved with a new corrupted batch"
   ],
   "metadata": {
    "collapsed": false
   }
  },
  {
   "cell_type": "code",
   "execution_count": 90,
   "outputs": [],
   "source": [
    "dataset_sample_batch_2 = next(data_generated)\n",
    "wine_dataset_corrupted_batch_2 = drift.drift_generator_concept_drift(data=dataset_sample_batch_2,\n",
    "                                                             column_name=\"alcohol\",\n",
    "                                                             value=11,\n",
    "                                                             action=\"greater\",\n",
    "                                                             label_col=\"quality\",\n",
    "                                                             label_value=0)"
   ],
   "metadata": {
    "collapsed": false,
    "pycharm": {
     "name": "#%%\n"
    }
   }
  },
  {
   "cell_type": "code",
   "execution_count": 91,
   "outputs": [],
   "source": [
    "X_test_corrupted_batch_2 = wine_dataset_corrupted_batch_2.loc[:, wine_dataset_corrupted_batch_2.columns != \"quality\"]\n",
    "y_test_corrupted_batch_2 = wine_dataset_corrupted_batch_2[\"quality\"]"
   ],
   "metadata": {
    "collapsed": false,
    "pycharm": {
     "name": "#%%\n"
    }
   }
  },
  {
   "cell_type": "markdown",
   "source": [
    "It has increased again!"
   ],
   "metadata": {
    "collapsed": false
   }
  },
  {
   "cell_type": "code",
   "execution_count": 92,
   "outputs": [
    {
     "name": "stdout",
     "output_type": "stream",
     "text": [
      "0.716\n"
     ]
    }
   ],
   "source": [
    "y_pred = weighted_lgbm_model.predict(X_test_corrupted_batch_2)\n",
    "accuracy_list.append(accuracy_score(y_pred, y_test_corrupted_batch_2))\n",
    "print(accuracy_score(y_pred, y_test_corrupted_batch_2))"
   ],
   "metadata": {
    "collapsed": false,
    "pycharm": {
     "name": "#%%\n"
    }
   }
  },
  {
   "cell_type": "code",
   "execution_count": 93,
   "outputs": [
    {
     "data": {
      "text/plain": "<Figure size 432x288 with 1 Axes>",
      "image/png": "[encoded data removed]"
     },
     "metadata": {
      "needs_background": "light"
     },
     "output_type": "display_data"
    }
   ],
   "source": [
    "plt.plot(accuracy_list)\n",
    "plt.title(\"Performance accross time before and after reweighting\");"
   ],
   "metadata": {
    "collapsed": false,
    "pycharm": {
     "name": "#%%\n"
    }
   }
  },
  {
   "cell_type": "markdown",
   "source": [
    "## How about retraining without reweighting?"
   ],
   "metadata": {
    "collapsed": false
   }
  },
  {
   "cell_type": "code",
   "execution_count": 94,
   "outputs": [],
   "source": [
    "X_test_corrupted, y_test_corrupted = addressing_solutions.dataset_concat(wine_dataset_train, wine_dataset_corrupted_batch_1)"
   ],
   "metadata": {
    "collapsed": false,
    "pycharm": {
     "name": "#%%\n"
    }
   }
  },
  {
   "cell_type": "code",
   "execution_count": 95,
   "outputs": [
    {
     "name": "stderr",
     "output_type": "stream",
     "text": [
      "C:\\Users\\c.fraisse\\PycharmProjects\\pythonProject3\\venv\\lib\\site-packages\\lightgbm\\basic.py:1487: UserWarning: categorical_feature keyword has been found in `params` and will be ignored.\n",
      "Please use categorical_feature argument of the Dataset constructor to pass this parameter.\n",
      "  _log_warning(f'{key} keyword has been found in `params` and will be ignored.\\n'\n"
     ]
    }
   ],
   "source": [
    "no_reweight_lgbm_model, params = data_prep_model_fit.lgbm_fit(X_test_corrupted, y_test_corrupted)"
   ],
   "metadata": {
    "collapsed": false,
    "pycharm": {
     "name": "#%%\n"
    }
   }
  },
  {
   "cell_type": "code",
   "execution_count": 96,
   "outputs": [
    {
     "data": {
      "text/plain": "0.716"
     },
     "execution_count": 96,
     "metadata": {},
     "output_type": "execute_result"
    }
   ],
   "source": [
    "y_pred = no_reweight_lgbm_model.predict(X_test_corrupted_batch_2)\n",
    "accuracy_score(y_pred, y_test_corrupted_batch_2)"
   ],
   "metadata": {
    "collapsed": false,
    "pycharm": {
     "name": "#%%\n"
    }
   }
  },
  {
   "cell_type": "code",
   "execution_count": 97,
   "outputs": [],
   "source": [
    "def gradual_drift(data_train: pd.DataFrame,\n",
    "                  data_to_compare: pd.DataFrame,\n",
    "                  column_name: str,\n",
    "                  value_drift: float,\n",
    "                  params,\n",
    "                  action: str = \"increase\",\n",
    "                  nb_sample: int = 100,\n",
    "                  nb_days: int = 5):\n",
    "    \"\"\"\n",
    "    Generates a gradual drift\n",
    "    Prints an alarm or a warning if a feature drift or anomaly has happened throughout a period of days\n",
    "    \"\"\"\n",
    "    days = 0\n",
    "    accuracy_list_weights = []\n",
    "    accuracy_list_no_weights = []\n",
    "    init_value_drift = value_drift\n",
    "    data_generated = drift.dataset_generator_yield(data=data_to_compare, nb_sample=nb_sample)\n",
    "    while days <= nb_days:\n",
    "        #Fit\n",
    "        print(\"Day\", days, \":\")\n",
    "        dataset_corrupted_batch_1 = drift.drift_generator(data_generated=next(data_generated),\n",
    "                                                  column_name=column_name,\n",
    "                                                  value_of_drift=value_drift,\n",
    "                                                  action=action)\n",
    "        X_test_corrupted, y_test_corrupted = addressing_solutions.dataset_concat(data_train, dataset_corrupted_batch_1)\n",
    "        weighted_X_test, weighted_lgbm_model = addressing_solutions.weighted_dataset(X_test_corrupted, y_test_corrupted, params)\n",
    "        no_reweight_lgbm_model, params = data_prep_model_fit.lgbm_fit(X_test_corrupted, y_test_corrupted)\n",
    "        #Predict\n",
    "        dataset_corrupted_batch_2 = drift.drift_generator(data_generated=next(data_generated),\n",
    "                                                  column_name=column_name,\n",
    "                                                  value_of_drift=value_drift,\n",
    "                                                  action=action)\n",
    "        y_test_corrupted_batch_2 = dataset_corrupted_batch_2[\"quality\"]\n",
    "        X_test_corrupted_batch_2 = wine_dataset_corrupted_batch_2.loc[:, wine_dataset_corrupted_batch_2.columns != \"quality\"]\n",
    "        y_pred_no_weigth = no_reweight_lgbm_model.predict(X_test_corrupted_batch_2)\n",
    "        accuracy_list_no_weights.append(accuracy_score(y_pred_no_weigth, y_test_corrupted_batch_2))\n",
    "        y_pred_weigth = weighted_lgbm_model.predict(X_test_corrupted_batch_2)\n",
    "        accuracy_list_weights.append(accuracy_score(y_pred_weigth, y_test_corrupted_batch_2))\n",
    "        data_train = pd.concat([data_train, dataset_corrupted_batch_1, dataset_corrupted_batch_2], axis=0)\n",
    "        days += 1\n",
    "        value_drift += init_value_drift\n",
    "    return accuracy_list_weights, accuracy_list_no_weights"
   ],
   "metadata": {
    "collapsed": false,
    "pycharm": {
     "name": "#%%\n"
    }
   }
  },
  {
   "cell_type": "code",
   "execution_count": 98,
   "outputs": [
    {
     "name": "stdout",
     "output_type": "stream",
     "text": [
      "Day 0 :\n"
     ]
    },
    {
     "name": "stderr",
     "output_type": "stream",
     "text": [
      "C:\\Users\\c.fraisse\\PycharmProjects\\pythonProject3\\venv\\lib\\site-packages\\lightgbm\\basic.py:1487: UserWarning: categorical_feature keyword has been found in `params` and will be ignored.\n",
      "Please use categorical_feature argument of the Dataset constructor to pass this parameter.\n",
      "  _log_warning(f'{key} keyword has been found in `params` and will be ignored.\\n'\n",
      "C:\\Users\\c.fraisse\\PycharmProjects\\pythonProject3\\venv\\lib\\site-packages\\lightgbm\\basic.py:1487: UserWarning: categorical_feature keyword has been found in `params` and will be ignored.\n",
      "Please use categorical_feature argument of the Dataset constructor to pass this parameter.\n",
      "  _log_warning(f'{key} keyword has been found in `params` and will be ignored.\\n'\n"
     ]
    },
    {
     "name": "stdout",
     "output_type": "stream",
     "text": [
      "Day 1 :\n"
     ]
    },
    {
     "name": "stderr",
     "output_type": "stream",
     "text": [
      "C:\\Users\\c.fraisse\\PycharmProjects\\pythonProject3\\venv\\lib\\site-packages\\lightgbm\\basic.py:1487: UserWarning: categorical_feature keyword has been found in `params` and will be ignored.\n",
      "Please use categorical_feature argument of the Dataset constructor to pass this parameter.\n",
      "  _log_warning(f'{key} keyword has been found in `params` and will be ignored.\\n'\n",
      "C:\\Users\\c.fraisse\\PycharmProjects\\pythonProject3\\venv\\lib\\site-packages\\lightgbm\\basic.py:1487: UserWarning: categorical_feature keyword has been found in `params` and will be ignored.\n",
      "Please use categorical_feature argument of the Dataset constructor to pass this parameter.\n",
      "  _log_warning(f'{key} keyword has been found in `params` and will be ignored.\\n'\n"
     ]
    },
    {
     "name": "stdout",
     "output_type": "stream",
     "text": [
      "Day 2 :\n"
     ]
    },
    {
     "name": "stderr",
     "output_type": "stream",
     "text": [
      "C:\\Users\\c.fraisse\\PycharmProjects\\pythonProject3\\venv\\lib\\site-packages\\lightgbm\\basic.py:1487: UserWarning: categorical_feature keyword has been found in `params` and will be ignored.\n",
      "Please use categorical_feature argument of the Dataset constructor to pass this parameter.\n",
      "  _log_warning(f'{key} keyword has been found in `params` and will be ignored.\\n'\n",
      "C:\\Users\\c.fraisse\\PycharmProjects\\pythonProject3\\venv\\lib\\site-packages\\lightgbm\\basic.py:1487: UserWarning: categorical_feature keyword has been found in `params` and will be ignored.\n",
      "Please use categorical_feature argument of the Dataset constructor to pass this parameter.\n",
      "  _log_warning(f'{key} keyword has been found in `params` and will be ignored.\\n'\n"
     ]
    },
    {
     "name": "stdout",
     "output_type": "stream",
     "text": [
      "Day 3 :\n"
     ]
    },
    {
     "name": "stderr",
     "output_type": "stream",
     "text": [
      "C:\\Users\\c.fraisse\\PycharmProjects\\pythonProject3\\venv\\lib\\site-packages\\lightgbm\\basic.py:1487: UserWarning: categorical_feature keyword has been found in `params` and will be ignored.\n",
      "Please use categorical_feature argument of the Dataset constructor to pass this parameter.\n",
      "  _log_warning(f'{key} keyword has been found in `params` and will be ignored.\\n'\n",
      "C:\\Users\\c.fraisse\\PycharmProjects\\pythonProject3\\venv\\lib\\site-packages\\lightgbm\\basic.py:1487: UserWarning: categorical_feature keyword has been found in `params` and will be ignored.\n",
      "Please use categorical_feature argument of the Dataset constructor to pass this parameter.\n",
      "  _log_warning(f'{key} keyword has been found in `params` and will be ignored.\\n'\n"
     ]
    },
    {
     "name": "stdout",
     "output_type": "stream",
     "text": [
      "Day 4 :\n"
     ]
    },
    {
     "name": "stderr",
     "output_type": "stream",
     "text": [
      "C:\\Users\\c.fraisse\\PycharmProjects\\pythonProject3\\venv\\lib\\site-packages\\lightgbm\\basic.py:1487: UserWarning: categorical_feature keyword has been found in `params` and will be ignored.\n",
      "Please use categorical_feature argument of the Dataset constructor to pass this parameter.\n",
      "  _log_warning(f'{key} keyword has been found in `params` and will be ignored.\\n'\n",
      "C:\\Users\\c.fraisse\\PycharmProjects\\pythonProject3\\venv\\lib\\site-packages\\lightgbm\\basic.py:1487: UserWarning: categorical_feature keyword has been found in `params` and will be ignored.\n",
      "Please use categorical_feature argument of the Dataset constructor to pass this parameter.\n",
      "  _log_warning(f'{key} keyword has been found in `params` and will be ignored.\\n'\n"
     ]
    },
    {
     "name": "stdout",
     "output_type": "stream",
     "text": [
      "Day 5 :\n"
     ]
    },
    {
     "name": "stderr",
     "output_type": "stream",
     "text": [
      "C:\\Users\\c.fraisse\\PycharmProjects\\pythonProject3\\venv\\lib\\site-packages\\lightgbm\\basic.py:1487: UserWarning: categorical_feature keyword has been found in `params` and will be ignored.\n",
      "Please use categorical_feature argument of the Dataset constructor to pass this parameter.\n",
      "  _log_warning(f'{key} keyword has been found in `params` and will be ignored.\\n'\n",
      "C:\\Users\\c.fraisse\\PycharmProjects\\pythonProject3\\venv\\lib\\site-packages\\lightgbm\\basic.py:1487: UserWarning: categorical_feature keyword has been found in `params` and will be ignored.\n",
      "Please use categorical_feature argument of the Dataset constructor to pass this parameter.\n",
      "  _log_warning(f'{key} keyword has been found in `params` and will be ignored.\\n'\n"
     ]
    }
   ],
   "source": [
    "accuracy_list_weights, accuracy_list_no_weights = gradual_drift(wine_dataset_train,\n",
    "                                                                wine_dataset_test,\n",
    "                                                                \"alcohol\",\n",
    "                                                                5,\n",
    "                                                                params,\n",
    "                                                                \"increase\",\n",
    "                                                                500,\n",
    "                                                                5)"
   ],
   "metadata": {
    "collapsed": false,
    "pycharm": {
     "name": "#%%\n"
    }
   }
  },
  {
   "cell_type": "code",
   "execution_count": 100,
   "outputs": [
    {
     "data": {
      "text/plain": "<Figure size 432x288 with 1 Axes>",
      "image/png": "[encoded data removed]"
     },
     "metadata": {
      "needs_background": "light"
     },
     "output_type": "display_data"
    }
   ],
   "source": [
    "plt.plot(accuracy_list_no_weights)\n",
    "plt.plot(accuracy_list_weights)\n",
    "plt.title(\"Performance accross time before and after reweighting\");"
   ],
   "metadata": {
    "collapsed": false,
    "pycharm": {
     "name": "#%%\n"
    }
   }
  },
  {
   "cell_type": "markdown",
   "source": [
    "## To try with another model maybe?"
   ],
   "metadata": {
    "collapsed": false
   }
  },
  {
   "cell_type": "code",
   "execution_count": null,
   "outputs": [],
   "source": [],
   "metadata": {
    "collapsed": false,
    "pycharm": {
     "name": "#%%\n"
    }
   }
  }
 ],
 "metadata": {
  "kernelspec": {
   "display_name": "Python 3",
   "language": "python",
   "name": "python3"
  },
  "language_info": {
   "codemirror_mode": {
    "name": "ipython",
    "version": 2
   },
   "file_extension": ".py",
   "mimetype": "text/x-python",
   "name": "python",
   "nbconvert_exporter": "python",
   "pygments_lexer": "ipython2",
   "version": "2.7.6"
  }
 },
 "nbformat": 4,
 "nbformat_minor": 0
}