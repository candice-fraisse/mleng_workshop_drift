{
 "cells": [
  {
   "cell_type": "markdown",
   "metadata": {
    "collapsed": false
   },
   "source": [
    "# Experiment Virtual Concept Drifts"
   ]
  },
  {
   "cell_type": "markdown",
   "metadata": {
    "collapsed": false
   },
   "source": [
    "## Install Packages"
   ]
  },
  {
   "cell_type": "code",
   "execution_count": null,
   "metadata": {
    "pycharm": {
     "name": "#%%\n"
    }
   },
   "outputs": [],
   "source": [
    "%load_ext autoreload\n",
    "%autoreload 2"
   ]
  },
  {
   "cell_type": "code",
   "execution_count": null,
   "metadata": {
    "pycharm": {
     "name": "#%%\n"
    }
   },
   "outputs": [],
   "source": [
    "!pip install --quiet seaborn numpy pandas river scikit-learn lightgbm matplotlib deepchecks evidently menelaus tensorflow-data-validation"
   ]
  },
  {
   "cell_type": "code",
   "execution_count": null,
   "metadata": {
    "pycharm": {
     "name": "#%%\n"
    }
   },
   "outputs": [],
   "source": [
    "import warnings\n",
    "\n",
    "import pandas as pd\n",
    "import numpy as np\n",
    "from sklearn.model_selection import train_test_split\n",
    "from sklearn.metrics import accuracy_score\n",
    "from lightgbm import LGBMClassifier\n",
    "import drift_detector_with_labels, deepcheck_detectors, evidently_ai_detectors, drift, drift_detector_multivariate_hdddm, drift_detector_multivariate_md3, drift_detector_multivariate_ollindda, tensorflow_detectors\n",
    "\n",
    "warnings.filterwarnings('ignore')\n",
    "warnings.simplefilter('ignore')"
   ]
  },
  {
   "cell_type": "markdown",
   "metadata": {
    "collapsed": false
   },
   "source": [
    "# Load Dataset & EDA"
   ]
  },
  {
   "cell_type": "code",
   "execution_count": null,
   "metadata": {
    "pycharm": {
     "name": "#%%\n"
    }
   },
   "outputs": [],
   "source": [
    "red_wine_dataset = pd.read_csv(\n",
    "    \"https://archive.ics.uci.edu/ml/machine-learning-databases/wine-quality/winequality-red.csv\", sep=\";\")\n",
    "white_wine_dataset = pd.read_csv(\n",
    "    \"https://archive.ics.uci.edu/ml/machine-learning-databases/wine-quality/winequality-white.csv\", sep=\";\")"
   ]
  },
  {
   "cell_type": "code",
   "execution_count": null,
   "metadata": {
    "pycharm": {
     "name": "#%%\n"
    }
   },
   "outputs": [],
   "source": [
    "red_wine_dataset['wine_type'] = \"red\"\n",
    "white_wine_dataset['wine_type'] = \"white\""
   ]
  },
  {
   "cell_type": "code",
   "execution_count": null,
   "metadata": {
    "pycharm": {
     "name": "#%%\n"
    }
   },
   "outputs": [],
   "source": [
    "wine_dataset = pd.concat([red_wine_dataset, white_wine_dataset], axis=0)\n",
    "wine_dataset[\"wine_type\"] = np.where(wine_dataset[\"wine_type\"] == \"red\", 1, 0)\n",
    "wine_dataset.head()"
   ]
  },
  {
   "cell_type": "code",
   "execution_count": null,
   "metadata": {
    "pycharm": {
     "name": "#%%\n"
    }
   },
   "outputs": [],
   "source": [
    "conditions = [\n",
    "    (wine_dataset[\"quality\"] <= 3),\n",
    "    (wine_dataset.quality > 3) & (wine_dataset.quality <= 6),\n",
    "    (wine_dataset[\"quality\"] > 6)\n",
    "]\n",
    "\n",
    "values = [0, 1, 2]\n",
    "\n",
    "wine_dataset['quality'] = np.select(conditions, values)\n",
    "\n",
    "wine_dataset['quality'].value_counts()"
   ]
  },
  {
   "cell_type": "code",
   "execution_count": null,
   "metadata": {
    "pycharm": {
     "name": "#%%\n"
    }
   },
   "outputs": [],
   "source": [
    "wine_dataset_train, wine_dataset_test = train_test_split(wine_dataset, test_size=0.4, shuffle=True)\n",
    "X_train = wine_dataset_train.loc[:, wine_dataset_train.columns != \"quality\"]\n",
    "y_train = wine_dataset_train[\"quality\"]\n",
    "X_test = wine_dataset_test.loc[:, wine_dataset_test.columns != \"quality\"]\n",
    "y_test = wine_dataset_test[\"quality\"]"
   ]
  },
  {
   "cell_type": "markdown",
   "metadata": {
    "collapsed": false
   },
   "source": [
    "## Fit Light GBM"
   ]
  },
  {
   "cell_type": "code",
   "execution_count": null,
   "metadata": {
    "pycharm": {
     "name": "#%%\n"
    }
   },
   "outputs": [],
   "source": [
    "categorical_features_names = [\"wine_type\"]\n",
    "features_names = X_train.columns\n",
    "cat_features_index = [index for index, feature_name in enumerate(features_names) if\n",
    "                      feature_name in categorical_features_names]"
   ]
  },
  {
   "cell_type": "code",
   "execution_count": null,
   "metadata": {
    "pycharm": {
     "name": "#%%\n"
    }
   },
   "outputs": [],
   "source": [
    "model_params = {\n",
    "    'learning_rate': 0.1,\n",
    "    'max_depth': None,\n",
    "    'n_estimators': 500,\n",
    "    'min_child_samples': 10,\n",
    "    'categorical_feature': cat_features_index,\n",
    "    'n_jobs': 1,\n",
    "    'random_state': 1234,\n",
    "}\n",
    "lgbm_model = LGBMClassifier(**model_params)\n",
    "lgbm_model.fit(X_train, y_train)"
   ]
  },
  {
   "cell_type": "code",
   "execution_count": null,
   "metadata": {
    "pycharm": {
     "name": "#%%\n"
    }
   },
   "outputs": [],
   "source": [
    "y_pred = lgbm_model.predict(X_test)\n",
    "accuracy_score(y_pred, y_test)"
   ]
  },
  {
   "cell_type": "markdown",
   "metadata": {
    "collapsed": false
   },
   "source": [
    "## Virtual Concept Drift: alcohol increase by 2"
   ]
  },
  {
   "cell_type": "markdown",
   "metadata": {
    "collapsed": false
   },
   "source": [
    "### Induce the drift"
   ]
  },
  {
   "cell_type": "code",
   "execution_count": null,
   "metadata": {
    "pycharm": {
     "name": "#%%\n"
    }
   },
   "outputs": [],
   "source": [
    "wine_dataset_corrupted_alcohol = drift.drift_generator_univariate_increase(data=wine_dataset_test,\n",
    "                                                                           column_name='alcohol',\n",
    "                                                                           value=2)"
   ]
  },
  {
   "cell_type": "markdown",
   "metadata": {
    "collapsed": false
   },
   "source": [
    "### Deepcheck"
   ]
  },
  {
   "cell_type": "code",
   "execution_count": null,
   "metadata": {
    "pycharm": {
     "name": "#%%\n"
    }
   },
   "outputs": [],
   "source": [
    "deepcheck_detectors.deepcheck_detect_drift(data_train=wine_dataset_train,\n",
    "                                           data_to_compare=wine_dataset_corrupted_alcohol,\n",
    "                                           label_col=\"quality\",\n",
    "                                           cat_features=categorical_features_names,\n",
    "                                           model=lgbm_model,\n",
    "                                           test_type=\"feature_drift\")"
   ]
  },
  {
   "cell_type": "code",
   "execution_count": null,
   "metadata": {
    "pycharm": {
     "name": "#%%\n"
    }
   },
   "outputs": [],
   "source": [
    "deepcheck_detectors.deepcheck_detect_drift(data_train=wine_dataset_train,\n",
    "                                           data_to_compare=wine_dataset_corrupted_alcohol,\n",
    "                                           label_col=\"quality\",\n",
    "                                           cat_features=categorical_features_names,\n",
    "                                           model=lgbm_model,\n",
    "                                           test_type=\"prediction_drift\")"
   ]
  },
  {
   "cell_type": "code",
   "execution_count": null,
   "metadata": {
    "pycharm": {
     "name": "#%%\n"
    }
   },
   "outputs": [],
   "source": [
    "deepcheck_detectors.deepcheck_detect_drift(data_train=wine_dataset_train,\n",
    "                                           data_to_compare=wine_dataset_corrupted_alcohol,\n",
    "                                           label_col=\"quality\",\n",
    "                                           cat_features=categorical_features_names,\n",
    "                                           model=lgbm_model,\n",
    "                                           test_type=\"dataset_drift\")"
   ]
  },
  {
   "cell_type": "markdown",
   "metadata": {
    "collapsed": false
   },
   "source": [
    "### Evidently AI"
   ]
  },
  {
   "cell_type": "code",
   "execution_count": null,
   "metadata": {
    "pycharm": {
     "name": "#%%\n"
    }
   },
   "outputs": [],
   "source": [
    "evidently_ai_detectors.evidently_ai_detect_drift(data_train=wine_dataset_train,\n",
    "                                                 data_to_compare=wine_dataset_corrupted_alcohol,\n",
    "                                                 label_col=\"quality\",\n",
    "                                                 cat_features=categorical_features_names)"
   ]
  },
  {
   "cell_type": "markdown",
   "metadata": {
    "collapsed": false
   },
   "source": [
    "### Tensorflow"
   ]
  },
  {
   "cell_type": "code",
   "execution_count": null,
   "metadata": {
    "pycharm": {
     "name": "#%%\n"
    }
   },
   "outputs": [],
   "source": [
    "tensorflow_detectors.tensorflow_detect_drift(data_train=wine_dataset_train,\n",
    "                                             data_to_compare=wine_dataset_corrupted_alcohol,\n",
    "                                             label_col=\"quality\")"
   ]
  },
  {
   "cell_type": "markdown",
   "metadata": {
    "collapsed": false
   },
   "source": []
  },
  {
   "cell_type": "markdown",
   "metadata": {
    "collapsed": false
   },
   "source": [
    "### Drift Detectors with Labels"
   ]
  },
  {
   "cell_type": "code",
   "execution_count": null,
   "metadata": {
    "pycharm": {
     "name": "#%%\n"
    }
   },
   "outputs": [],
   "source": [
    "data_wine_alcohol = pd.concat([wine_dataset_train, wine_dataset_corrupted_alcohol], axis=0)"
   ]
  },
  {
   "cell_type": "markdown",
   "metadata": {
    "collapsed": false
   },
   "source": [
    "#### EDDM"
   ]
  },
  {
   "cell_type": "code",
   "execution_count": null,
   "metadata": {
    "pycharm": {
     "name": "#%%\n"
    }
   },
   "outputs": [],
   "source": [
    "drift_detector_with_labels.drift_detector_with_labels_test(data_to_compare=data_wine_alcohol,\n",
    "                                                           label_col=\"quality\",\n",
    "                                                           model=lgbm_model,\n",
    "                                                           test_name=\"EDDM\")"
   ]
  },
  {
   "cell_type": "markdown",
   "metadata": {
    "collapsed": false
   },
   "source": [
    "#### ADWIN"
   ]
  },
  {
   "cell_type": "code",
   "execution_count": null,
   "metadata": {
    "pycharm": {
     "name": "#%%\n"
    }
   },
   "outputs": [],
   "source": [
    "drift_detector_with_labels.drift_detector_with_labels_test(data_to_compare=data_wine_alcohol,\n",
    "                                                           label_col=\"quality\",\n",
    "                                                           model=lgbm_model,\n",
    "                                                           test_name=\"ADWIN\")"
   ]
  },
  {
   "cell_type": "markdown",
   "metadata": {
    "collapsed": false
   },
   "source": [
    "#### HDDM_W"
   ]
  },
  {
   "cell_type": "code",
   "execution_count": null,
   "metadata": {
    "pycharm": {
     "name": "#%%\n"
    }
   },
   "outputs": [],
   "source": [
    "drift_detector_with_labels.drift_detector_with_labels_test(data_to_compare=data_wine_alcohol,\n",
    "                                                           label_col=\"quality\",\n",
    "                                                           model=lgbm_model,\n",
    "                                                           test_name=\"HDDM_W\")"
   ]
  },
  {
   "cell_type": "markdown",
   "metadata": {
    "collapsed": false
   },
   "source": [
    "### Drift Detector Multivariate: HDDDM & MD3\n",
    "#### HDDDM"
   ]
  },
  {
   "cell_type": "code",
   "execution_count": null,
   "metadata": {
    "pycharm": {
     "name": "#%%\n"
    }
   },
   "outputs": [],
   "source": [
    "X_train = wine_dataset_train.loc[:, wine_dataset_train.columns != \"quality\"]\n",
    "X_corrupted = wine_dataset_corrupted_alcohol.loc[:, wine_dataset_corrupted_alcohol.columns != \"quality\"]\n",
    "drift_detector_multivariate_hdddm.hdddm_detect_drift(data_train=X_train,\n",
    "                                                     data_to_compare=X_corrupted,\n",
    "                                                     gamma_level=0.05)"
   ]
  },
  {
   "cell_type": "markdown",
   "metadata": {
    "collapsed": false
   },
   "source": [
    "#### MD3"
   ]
  },
  {
   "cell_type": "code",
   "execution_count": null,
   "metadata": {
    "pycharm": {
     "name": "#%%\n"
    }
   },
   "outputs": [],
   "source": [
    "drift_detector_multivariate_md3.md3_detect_drift(data_train=wine_dataset_train,\n",
    "                                                 data_to_compare=wine_dataset_corrupted_alcohol,\n",
    "                                                 label_col=\"quality\")"
   ]
  },
  {
   "cell_type": "markdown",
   "metadata": {
    "collapsed": false
   },
   "source": [
    "#### OLINDDA"
   ]
  },
  {
   "cell_type": "code",
   "execution_count": null,
   "metadata": {
    "pycharm": {
     "name": "#%%\n"
    }
   },
   "outputs": [],
   "source": [
    "drift_detector_multivariate_ollindda.olindda_detect_drift(x_train_data=X_train,\n",
    "                                                          x_test_data=X_corrupted,\n",
    "                                                          n_clusters=6)"
   ]
  },
  {
   "cell_type": "markdown",
   "metadata": {
    "collapsed": false
   },
   "source": [
    "## Virtual Concept Drift: decrease the total sulfur dioxide variance by 100"
   ]
  },
  {
   "cell_type": "markdown",
   "metadata": {
    "collapsed": false
   },
   "source": [
    "### Induce the drift"
   ]
  },
  {
   "cell_type": "code",
   "execution_count": null,
   "metadata": {
    "pycharm": {
     "name": "#%%\n"
    }
   },
   "outputs": [],
   "source": [
    "sigma = (wine_dataset_test[\"total sulfur dioxide\"].var() - 100)\n",
    "mu = wine_dataset_test[\"total sulfur dioxide\"].mean()\n",
    "wine_dataset_corrupted_dioxide = drift.drift_generator_univariate_change_to_normal(data=wine_dataset_test,\n",
    "                                                                                   column_name=\"total sulfur dioxide\",\n",
    "                                                                                   seed=202,\n",
    "                                                                                   mu=mu,\n",
    "                                                                                   sigma=sigma)"
   ]
  },
  {
   "cell_type": "markdown",
   "metadata": {
    "collapsed": false
   },
   "source": [
    "### Deepcheck"
   ]
  },
  {
   "cell_type": "code",
   "execution_count": null,
   "metadata": {
    "pycharm": {
     "name": "#%%\n"
    }
   },
   "outputs": [],
   "source": [
    "deepcheck_detectors.deepcheck_detect_drift(data_train=wine_dataset_train,\n",
    "                                           data_to_compare=wine_dataset_corrupted_dioxide,\n",
    "                                           label_col=\"quality\",\n",
    "                                           cat_features=categorical_features_names,\n",
    "                                           model=lgbm_model,\n",
    "                                           test_type=\"feature_drift\")"
   ]
  },
  {
   "cell_type": "code",
   "execution_count": null,
   "metadata": {
    "pycharm": {
     "name": "#%%\n"
    }
   },
   "outputs": [],
   "source": [
    "deepcheck_detectors.deepcheck_detect_drift(data_train=wine_dataset_train,\n",
    "                                           data_to_compare=wine_dataset_corrupted_dioxide,\n",
    "                                           label_col=\"quality\",\n",
    "                                           cat_features=categorical_features_names,\n",
    "                                           model=lgbm_model,\n",
    "                                           test_type=\"prediction_drift\")"
   ]
  },
  {
   "cell_type": "code",
   "execution_count": null,
   "metadata": {
    "pycharm": {
     "name": "#%%\n"
    }
   },
   "outputs": [],
   "source": [
    "deepcheck_detectors.deepcheck_detect_drift(data_train=wine_dataset_train,\n",
    "                                           data_to_compare=wine_dataset_corrupted_dioxide,\n",
    "                                           label_col=\"quality\",\n",
    "                                           cat_features=categorical_features_names,\n",
    "                                           model=lgbm_model,\n",
    "                                           test_type=\"dataset_drift\")"
   ]
  },
  {
   "cell_type": "markdown",
   "metadata": {
    "collapsed": false
   },
   "source": [
    "### Evidently AI\n"
   ]
  },
  {
   "cell_type": "code",
   "execution_count": null,
   "metadata": {
    "pycharm": {
     "name": "#%%\n"
    }
   },
   "outputs": [],
   "source": [
    "evidently_ai_detectors.evidently_ai_detect_drift(data_train=wine_dataset_train,\n",
    "                                                 data_to_compare=wine_dataset_corrupted_dioxide,\n",
    "                                                 label_col=\"quality\",\n",
    "                                                 cat_features=categorical_features_names)"
   ]
  },
  {
   "cell_type": "markdown",
   "metadata": {
    "collapsed": false
   },
   "source": [
    "### Tensorflow\n"
   ]
  },
  {
   "cell_type": "code",
   "execution_count": null,
   "metadata": {
    "pycharm": {
     "name": "#%%\n"
    }
   },
   "outputs": [],
   "source": [
    "tensorflow_detectors.tensorflow_detect_drift(data_train=wine_dataset_train,\n",
    "                                             data_to_compare=wine_dataset_corrupted_dioxide,\n",
    "                                             label_col=\"quality\")"
   ]
  },
  {
   "cell_type": "markdown",
   "metadata": {
    "collapsed": false
   },
   "source": [
    "### Drift Detectors with Labels"
   ]
  },
  {
   "cell_type": "code",
   "execution_count": null,
   "metadata": {
    "pycharm": {
     "name": "#%%\n"
    }
   },
   "outputs": [],
   "source": [
    "data_wine_dioxide = pd.concat([wine_dataset_train, wine_dataset_corrupted_dioxide], axis=0)\n"
   ]
  },
  {
   "cell_type": "markdown",
   "metadata": {
    "collapsed": false
   },
   "source": [
    "#### EDDM\n"
   ]
  },
  {
   "cell_type": "code",
   "execution_count": null,
   "metadata": {
    "pycharm": {
     "name": "#%%\n"
    }
   },
   "outputs": [],
   "source": [
    "drift_detector_with_labels.drift_detector_with_labels_test(data_to_compare=data_wine_dioxide,\n",
    "                                                           label_col=\"quality\",\n",
    "                                                           model=lgbm_model,\n",
    "                                                           test_name=\"EDDM\")"
   ]
  },
  {
   "cell_type": "markdown",
   "metadata": {
    "collapsed": false
   },
   "source": [
    "#### ADWIN\n"
   ]
  },
  {
   "cell_type": "code",
   "execution_count": null,
   "metadata": {
    "pycharm": {
     "name": "#%%\n"
    }
   },
   "outputs": [],
   "source": [
    "drift_detector_with_labels.drift_detector_with_labels_test(data_to_compare=data_wine_dioxide,\n",
    "                                                           label_col=\"quality\",\n",
    "                                                           model=lgbm_model,\n",
    "                                                           test_name=\"ADWIN\")"
   ]
  },
  {
   "cell_type": "markdown",
   "metadata": {
    "collapsed": false
   },
   "source": [
    "#### HDDM_W\n"
   ]
  },
  {
   "cell_type": "code",
   "execution_count": null,
   "metadata": {
    "pycharm": {
     "name": "#%%\n"
    }
   },
   "outputs": [],
   "source": [
    "drift_detector_with_labels.drift_detector_with_labels_test(data_to_compare=data_wine_dioxide,\n",
    "                                                           label_col=\"quality\",\n",
    "                                                           model=lgbm_model,\n",
    "                                                           test_name=\"HDDM_W\")"
   ]
  },
  {
   "cell_type": "markdown",
   "metadata": {
    "collapsed": false
   },
   "source": [
    "### Drift Detector Multivariate: HDDDM & MD3\n"
   ]
  },
  {
   "cell_type": "markdown",
   "metadata": {
    "collapsed": false
   },
   "source": [
    "#### HDDDM\n"
   ]
  },
  {
   "cell_type": "code",
   "execution_count": null,
   "metadata": {
    "pycharm": {
     "name": "#%%\n"
    }
   },
   "outputs": [],
   "source": [
    "X_train = wine_dataset_train.loc[:, wine_dataset_train.columns != \"quality\"]\n",
    "X_corrupted = wine_dataset_corrupted_dioxide.loc[:, wine_dataset_corrupted_dioxide.columns != \"quality\"]\n",
    "drift_detector_multivariate_hdddm.hdddm_detect_drift(data_train=X_train,\n",
    "                                                     data_to_compare=X_corrupted,\n",
    "                                                     gamma_level=0.05)"
   ]
  },
  {
   "cell_type": "markdown",
   "metadata": {
    "collapsed": false
   },
   "source": [
    "#### MD3\n"
   ]
  },
  {
   "cell_type": "code",
   "execution_count": null,
   "metadata": {
    "pycharm": {
     "name": "#%%\n"
    }
   },
   "outputs": [],
   "source": [
    "drift_detector_multivariate_md3.md3_detect_drift(data_train=wine_dataset_train,\n",
    "                                                 data_to_compare=wine_dataset_corrupted_dioxide,\n",
    "                                                 label_col=\"quality\")"
   ]
  },
  {
   "cell_type": "markdown",
   "metadata": {
    "collapsed": false
   },
   "source": [
    "#### OLINDDA"
   ]
  },
  {
   "cell_type": "code",
   "execution_count": null,
   "metadata": {
    "pycharm": {
     "name": "#%%\n"
    }
   },
   "outputs": [],
   "source": [
    "X_corrupted = X_corrupted.reset_index(drop=True)"
   ]
  },
  {
   "cell_type": "code",
   "execution_count": null,
   "metadata": {
    "pycharm": {
     "name": "#%%\n"
    }
   },
   "outputs": [],
   "source": [
    "drift_detector_multivariate_ollindda.olindda_detect_drift(x_train_data=X_train,\n",
    "                                                          x_test_data=X_corrupted,\n",
    "                                                          n_clusters=6)"
   ]
  },
  {
   "cell_type": "markdown",
   "metadata": {
    "collapsed": false
   },
   "source": [
    "## Virtual Concept Drift: swap values of the wine_type column"
   ]
  },
  {
   "cell_type": "markdown",
   "metadata": {
    "collapsed": false
   },
   "source": [
    "### Induce the drift"
   ]
  },
  {
   "cell_type": "code",
   "execution_count": null,
   "metadata": {
    "pycharm": {
     "name": "#%%\n"
    }
   },
   "outputs": [],
   "source": [
    "wine_dataset_corrupted_wine_type = drift.drift_generator_univariate_categorical_change(data=wine_dataset_test,\n",
    "                                                                                       column_name='wine_type',\n",
    "                                                                                       value1=\"1\", value2=\"0\")"
   ]
  },
  {
   "cell_type": "markdown",
   "metadata": {
    "collapsed": false
   },
   "source": [
    "### Deepcheck\n"
   ]
  },
  {
   "cell_type": "code",
   "execution_count": null,
   "metadata": {
    "pycharm": {
     "name": "#%%\n"
    }
   },
   "outputs": [],
   "source": [
    "deepcheck_detectors.deepcheck_detect_drift(data_train=wine_dataset_train,\n",
    "                                           data_to_compare=wine_dataset_corrupted_wine_type,\n",
    "                                           label_col=\"quality\",\n",
    "                                           cat_features=categorical_features_names,\n",
    "                                           model=lgbm_model,\n",
    "                                           test_type=\"feature_drift\")"
   ]
  },
  {
   "cell_type": "code",
   "execution_count": null,
   "metadata": {
    "pycharm": {
     "name": "#%%\n"
    }
   },
   "outputs": [],
   "source": [
    "wine_dataset_corrupted_wine_type['wine_type'] = wine_dataset_corrupted_wine_type['wine_type'].astype(int)\n",
    "deepcheck_detectors.deepcheck_detect_drift(data_train=wine_dataset_train,\n",
    "                                           data_to_compare=wine_dataset_corrupted_wine_type,\n",
    "                                           label_col=\"quality\",\n",
    "                                           cat_features=categorical_features_names,\n",
    "                                           model=lgbm_model,\n",
    "                                           test_type=\"prediction_drift\")"
   ]
  },
  {
   "cell_type": "code",
   "execution_count": null,
   "metadata": {
    "pycharm": {
     "name": "#%%\n"
    }
   },
   "outputs": [],
   "source": [
    "deepcheck_detectors.deepcheck_detect_drift(data_train=wine_dataset_train,\n",
    "                                           data_to_compare=wine_dataset_corrupted_wine_type,\n",
    "                                           label_col=\"quality\",\n",
    "                                           cat_features=categorical_features_names,\n",
    "                                           model=lgbm_model,\n",
    "                                           test_type=\"dataset_drift\")"
   ]
  },
  {
   "cell_type": "markdown",
   "metadata": {
    "collapsed": false
   },
   "source": [
    "### Evidently AI"
   ]
  },
  {
   "cell_type": "code",
   "execution_count": null,
   "metadata": {
    "pycharm": {
     "name": "#%%\n"
    }
   },
   "outputs": [],
   "source": [
    "evidently_ai_detectors.evidently_ai_detect_drift(data_train=wine_dataset_train,\n",
    "                                                 data_to_compare=wine_dataset_corrupted_wine_type,\n",
    "                                                 label_col=\"quality\",\n",
    "                                                 cat_features=categorical_features_names)"
   ]
  },
  {
   "cell_type": "markdown",
   "metadata": {
    "collapsed": false
   },
   "source": [
    "### Tensorflow\n"
   ]
  },
  {
   "cell_type": "code",
   "execution_count": null,
   "metadata": {
    "pycharm": {
     "name": "#%%\n"
    }
   },
   "outputs": [],
   "source": [
    "tensorflow_detectors.tensorflow_detect_drift(data_train=wine_dataset_train,\n",
    "                                             data_to_compare=wine_dataset_corrupted_wine_type,\n",
    "                                             label_col=\"quality\")"
   ]
  },
  {
   "cell_type": "markdown",
   "metadata": {
    "collapsed": false
   },
   "source": [
    "### Drift Detectors with Labels\n"
   ]
  },
  {
   "cell_type": "code",
   "execution_count": null,
   "metadata": {
    "pycharm": {
     "name": "#%%\n"
    }
   },
   "outputs": [],
   "source": [
    "data_wine_wine_type = pd.concat([wine_dataset_train, wine_dataset_corrupted_wine_type], axis=0)\n"
   ]
  },
  {
   "cell_type": "markdown",
   "metadata": {
    "collapsed": false
   },
   "source": [
    "#### EDDM\n"
   ]
  },
  {
   "cell_type": "code",
   "execution_count": null,
   "metadata": {
    "pycharm": {
     "name": "#%%\n"
    }
   },
   "outputs": [],
   "source": [
    "drift_detector_with_labels.drift_detector_with_labels_test(data_to_compare=data_wine_wine_type,\n",
    "                                                           label_col=\"quality\",\n",
    "                                                           model=lgbm_model,\n",
    "                                                           test_name=\"EDDM\")"
   ]
  },
  {
   "cell_type": "markdown",
   "metadata": {
    "collapsed": false
   },
   "source": [
    "#### ADWIN\n"
   ]
  },
  {
   "cell_type": "code",
   "execution_count": null,
   "metadata": {
    "pycharm": {
     "name": "#%%\n"
    }
   },
   "outputs": [],
   "source": [
    "drift_detector_with_labels.drift_detector_with_labels_test(data_to_compare=data_wine_wine_type,\n",
    "                                                           label_col=\"quality\",\n",
    "                                                           model=lgbm_model,\n",
    "                                                           test_name=\"ADWIN\")"
   ]
  },
  {
   "cell_type": "markdown",
   "metadata": {
    "collapsed": false
   },
   "source": [
    "#### HDDM_W\n"
   ]
  },
  {
   "cell_type": "code",
   "execution_count": null,
   "metadata": {
    "pycharm": {
     "name": "#%%\n"
    }
   },
   "outputs": [],
   "source": [
    "drift_detector_with_labels.drift_detector_with_labels_test(data_to_compare=data_wine_wine_type,\n",
    "                                                           label_col=\"quality\",\n",
    "                                                           model=lgbm_model,\n",
    "                                                           test_name=\"HDDM_W\")"
   ]
  },
  {
   "cell_type": "markdown",
   "metadata": {
    "collapsed": false
   },
   "source": [
    "### Drift Detector Multivariate: HDDDM & MD3\n",
    "#### HDDDM\n"
   ]
  },
  {
   "cell_type": "code",
   "execution_count": null,
   "metadata": {
    "pycharm": {
     "name": "#%%\n"
    }
   },
   "outputs": [],
   "source": [
    "X_train = wine_dataset_train.loc[:, wine_dataset_train.columns != \"quality\"]\n",
    "X_corrupted = wine_dataset_corrupted_wine_type.loc[:, wine_dataset_corrupted_wine_type.columns != \"quality\"]\n",
    "drift_detector_multivariate_hdddm.hdddm_detect_drift(data_train=X_train,\n",
    "                                                     data_to_compare=X_corrupted,\n",
    "                                                     gamma_level=0.05)"
   ]
  },
  {
   "cell_type": "markdown",
   "metadata": {
    "collapsed": false
   },
   "source": [
    "#### MD3"
   ]
  },
  {
   "cell_type": "code",
   "execution_count": null,
   "metadata": {
    "pycharm": {
     "name": "#%%\n"
    }
   },
   "outputs": [],
   "source": [
    "drift_detector_multivariate_md3.md3_detect_drift(data_train=wine_dataset_train,\n",
    "                                                 data_to_compare=wine_dataset_corrupted_wine_type,\n",
    "                                                 label_col=\"quality\")"
   ]
  },
  {
   "cell_type": "markdown",
   "metadata": {
    "collapsed": false
   },
   "source": [
    "#### OLINDDA"
   ]
  },
  {
   "cell_type": "code",
   "execution_count": null,
   "metadata": {
    "pycharm": {
     "name": "#%%\n"
    }
   },
   "outputs": [],
   "source": [
    "drift_detector_multivariate_ollindda.olindda_detect_drift(x_train_data=X_train,\n",
    "                                                          x_test_data=X_corrupted,\n",
    "                                                          n_clusters=6)"
   ]
  }
 ],
 "metadata": {
  "kernelspec": {
   "display_name": "Python 3",
   "language": "python",
   "name": "python3"
  },
  "language_info": {
   "codemirror_mode": {
    "name": "ipython",
    "version": 2
   },
   "file_extension": ".py",
   "mimetype": "text/x-python",
   "name": "python",
   "nbconvert_exporter": "python",
   "pygments_lexer": "ipython2",
   "version": "2.7.6"
  }
 },
 "nbformat": 4,
 "nbformat_minor": 0
}