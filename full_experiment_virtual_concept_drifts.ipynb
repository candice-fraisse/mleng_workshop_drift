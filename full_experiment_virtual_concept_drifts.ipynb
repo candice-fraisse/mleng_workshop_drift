{
 "cells": [
  {
   "cell_type": "markdown",
   "source": [
    "# Experiment Virtual Concept Drifts"
   ],
   "metadata": {
    "collapsed": false
   }
  },
  {
   "cell_type": "markdown",
   "source": [
    "## Install Packages"
   ],
   "metadata": {
    "collapsed": false
   }
  },
  {
   "cell_type": "code",
   "execution_count": 51,
   "outputs": [
    {
     "name": "stderr",
     "output_type": "stream",
     "text": [
      "[autoreload of joblib.executor failed: Traceback (most recent call last):\n",
      "  File \"C:\\Users\\c.fraisse\\PycharmProjects\\pythonProject3\\venv\\lib\\site-packages\\IPython\\extensions\\autoreload.py\", line 245, in check\n",
      "    superreload(m, reload, self.old_objects)\n",
      "  File \"C:\\Users\\c.fraisse\\PycharmProjects\\pythonProject3\\venv\\lib\\site-packages\\IPython\\extensions\\autoreload.py\", line 410, in superreload\n",
      "    update_generic(old_obj, new_obj)\n",
      "  File \"C:\\Users\\c.fraisse\\PycharmProjects\\pythonProject3\\venv\\lib\\site-packages\\IPython\\extensions\\autoreload.py\", line 347, in update_generic\n",
      "    update(a, b)\n",
      "  File \"C:\\Users\\c.fraisse\\PycharmProjects\\pythonProject3\\venv\\lib\\site-packages\\IPython\\extensions\\autoreload.py\", line 302, in update_class\n",
      "    if update_generic(old_obj, new_obj): continue\n",
      "  File \"C:\\Users\\c.fraisse\\PycharmProjects\\pythonProject3\\venv\\lib\\site-packages\\IPython\\extensions\\autoreload.py\", line 347, in update_generic\n",
      "    update(a, b)\n",
      "  File \"C:\\Users\\c.fraisse\\PycharmProjects\\pythonProject3\\venv\\lib\\site-packages\\IPython\\extensions\\autoreload.py\", line 266, in update_function\n",
      "    setattr(old, name, getattr(new, name))\n",
      "ValueError: __init__() requires a code object with 0 free vars, not 1\n",
      "]\n",
      "[autoreload of joblib._parallel_backends failed: Traceback (most recent call last):\n",
      "  File \"C:\\Users\\c.fraisse\\PycharmProjects\\pythonProject3\\venv\\lib\\site-packages\\IPython\\extensions\\autoreload.py\", line 245, in check\n",
      "    superreload(m, reload, self.old_objects)\n",
      "  File \"C:\\Users\\c.fraisse\\PycharmProjects\\pythonProject3\\venv\\lib\\site-packages\\IPython\\extensions\\autoreload.py\", line 410, in superreload\n",
      "    update_generic(old_obj, new_obj)\n",
      "  File \"C:\\Users\\c.fraisse\\PycharmProjects\\pythonProject3\\venv\\lib\\site-packages\\IPython\\extensions\\autoreload.py\", line 347, in update_generic\n",
      "    update(a, b)\n",
      "  File \"C:\\Users\\c.fraisse\\PycharmProjects\\pythonProject3\\venv\\lib\\site-packages\\IPython\\extensions\\autoreload.py\", line 302, in update_class\n",
      "    if update_generic(old_obj, new_obj): continue\n",
      "  File \"C:\\Users\\c.fraisse\\PycharmProjects\\pythonProject3\\venv\\lib\\site-packages\\IPython\\extensions\\autoreload.py\", line 347, in update_generic\n",
      "    update(a, b)\n",
      "  File \"C:\\Users\\c.fraisse\\PycharmProjects\\pythonProject3\\venv\\lib\\site-packages\\IPython\\extensions\\autoreload.py\", line 266, in update_function\n",
      "    setattr(old, name, getattr(new, name))\n",
      "ValueError: __init__() requires a code object with 0 free vars, not 1\n",
      "]\n"
     ]
    },
    {
     "name": "stdout",
     "output_type": "stream",
     "text": [
      "The autoreload extension is already loaded. To reload it, use:\n",
      "  %reload_ext autoreload\n"
     ]
    }
   ],
   "source": [
    "%load_ext autoreload\n",
    "%autoreload 2"
   ],
   "metadata": {
    "collapsed": false,
    "pycharm": {
     "name": "#%%\n"
    }
   }
  },
  {
   "cell_type": "code",
   "execution_count": 52,
   "outputs": [],
   "source": [
    "!pip install --quiet seaborn numpy pandas river scikit-learn lightgbm matplotlib deepchecks evidently menelaus tensorflow-data-validation"
   ],
   "metadata": {
    "collapsed": false,
    "pycharm": {
     "name": "#%%\n"
    }
   }
  },
  {
   "cell_type": "code",
   "execution_count": 53,
   "outputs": [
    {
     "name": "stderr",
     "output_type": "stream",
     "text": [
      "[autoreload of joblib.executor failed: Traceback (most recent call last):\n",
      "  File \"C:\\Users\\c.fraisse\\PycharmProjects\\pythonProject3\\venv\\lib\\site-packages\\IPython\\extensions\\autoreload.py\", line 245, in check\n",
      "    superreload(m, reload, self.old_objects)\n",
      "  File \"C:\\Users\\c.fraisse\\PycharmProjects\\pythonProject3\\venv\\lib\\site-packages\\IPython\\extensions\\autoreload.py\", line 410, in superreload\n",
      "    update_generic(old_obj, new_obj)\n",
      "  File \"C:\\Users\\c.fraisse\\PycharmProjects\\pythonProject3\\venv\\lib\\site-packages\\IPython\\extensions\\autoreload.py\", line 347, in update_generic\n",
      "    update(a, b)\n",
      "  File \"C:\\Users\\c.fraisse\\PycharmProjects\\pythonProject3\\venv\\lib\\site-packages\\IPython\\extensions\\autoreload.py\", line 302, in update_class\n",
      "    if update_generic(old_obj, new_obj): continue\n",
      "  File \"C:\\Users\\c.fraisse\\PycharmProjects\\pythonProject3\\venv\\lib\\site-packages\\IPython\\extensions\\autoreload.py\", line 347, in update_generic\n",
      "    update(a, b)\n",
      "  File \"C:\\Users\\c.fraisse\\PycharmProjects\\pythonProject3\\venv\\lib\\site-packages\\IPython\\extensions\\autoreload.py\", line 266, in update_function\n",
      "    setattr(old, name, getattr(new, name))\n",
      "ValueError: map() requires a code object with 1 free vars, not 0\n",
      "]\n",
      "[autoreload of joblib._parallel_backends failed: Traceback (most recent call last):\n",
      "  File \"C:\\Users\\c.fraisse\\PycharmProjects\\pythonProject3\\venv\\lib\\site-packages\\IPython\\extensions\\autoreload.py\", line 245, in check\n",
      "    superreload(m, reload, self.old_objects)\n",
      "  File \"C:\\Users\\c.fraisse\\PycharmProjects\\pythonProject3\\venv\\lib\\site-packages\\IPython\\extensions\\autoreload.py\", line 410, in superreload\n",
      "    update_generic(old_obj, new_obj)\n",
      "  File \"C:\\Users\\c.fraisse\\PycharmProjects\\pythonProject3\\venv\\lib\\site-packages\\IPython\\extensions\\autoreload.py\", line 347, in update_generic\n",
      "    update(a, b)\n",
      "  File \"C:\\Users\\c.fraisse\\PycharmProjects\\pythonProject3\\venv\\lib\\site-packages\\IPython\\extensions\\autoreload.py\", line 302, in update_class\n",
      "    if update_generic(old_obj, new_obj): continue\n",
      "  File \"C:\\Users\\c.fraisse\\PycharmProjects\\pythonProject3\\venv\\lib\\site-packages\\IPython\\extensions\\autoreload.py\", line 347, in update_generic\n",
      "    update(a, b)\n",
      "  File \"C:\\Users\\c.fraisse\\PycharmProjects\\pythonProject3\\venv\\lib\\site-packages\\IPython\\extensions\\autoreload.py\", line 266, in update_function\n",
      "    setattr(old, name, getattr(new, name))\n",
      "ValueError: __init__() requires a code object with 1 free vars, not 0\n",
      "]\n"
     ]
    }
   ],
   "source": [
    "import warnings\n",
    "\n",
    "import pandas as pd\n",
    "import numpy as np\n",
    "from sklearn.model_selection import train_test_split\n",
    "from sklearn.metrics import accuracy_score\n",
    "from lightgbm import LGBMClassifier\n",
    "import drift_detector_with_labels, deepcheck_detectors, evidently_ai_detectors, drift, drift_detector_multivariate_hdddm, drift_detector_multivariate_md3, drift_detector_multivariate_ollindda, tensorflow_detectors\n",
    "\n",
    "warnings.filterwarnings('ignore')\n",
    "warnings.simplefilter('ignore')"
   ],
   "metadata": {
    "collapsed": false,
    "pycharm": {
     "name": "#%%\n"
    }
   }
  },
  {
   "cell_type": "markdown",
   "source": [
    "# Load Dataset & EDA"
   ],
   "metadata": {
    "collapsed": false
   }
  },
  {
   "cell_type": "code",
   "execution_count": 54,
   "outputs": [],
   "source": [
    "red_wine_dataset = pd.read_csv(\n",
    "    \"https://archive.ics.uci.edu/ml/machine-learning-databases/wine-quality/winequality-red.csv\", sep=\";\")\n",
    "white_wine_dataset = pd.read_csv(\n",
    "    \"https://archive.ics.uci.edu/ml/machine-learning-databases/wine-quality/winequality-white.csv\", sep=\";\")"
   ],
   "metadata": {
    "collapsed": false,
    "pycharm": {
     "name": "#%%\n"
    }
   }
  },
  {
   "cell_type": "code",
   "execution_count": 55,
   "outputs": [],
   "source": [
    "red_wine_dataset['wine_type'] = \"red\"\n",
    "white_wine_dataset['wine_type'] = \"white\""
   ],
   "metadata": {
    "collapsed": false,
    "pycharm": {
     "name": "#%%\n"
    }
   }
  },
  {
   "cell_type": "code",
   "execution_count": 56,
   "outputs": [
    {
     "data": {
      "text/plain": "   fixed acidity  volatile acidity  citric acid  residual sugar  chlorides  \\\n0            7.4              0.70         0.00             1.9      0.076   \n1            7.8              0.88         0.00             2.6      0.098   \n2            7.8              0.76         0.04             2.3      0.092   \n3           11.2              0.28         0.56             1.9      0.075   \n4            7.4              0.70         0.00             1.9      0.076   \n\n   free sulfur dioxide  total sulfur dioxide  density    pH  sulphates  \\\n0                 11.0                  34.0   0.9978  3.51       0.56   \n1                 25.0                  67.0   0.9968  3.20       0.68   \n2                 15.0                  54.0   0.9970  3.26       0.65   \n3                 17.0                  60.0   0.9980  3.16       0.58   \n4                 11.0                  34.0   0.9978  3.51       0.56   \n\n   alcohol  quality  wine_type  \n0      9.4        5          1  \n1      9.8        5          1  \n2      9.8        5          1  \n3      9.8        6          1  \n4      9.4        5          1  ",
      "text/html": "<div>\n<style scoped>\n    .dataframe tbody tr th:only-of-type {\n        vertical-align: middle;\n    }\n\n    .dataframe tbody tr th {\n        vertical-align: top;\n    }\n\n    .dataframe thead th {\n        text-align: right;\n    }\n</style>\n<table border=\"1\" class=\"dataframe\">\n  <thead>\n    <tr style=\"text-align: right;\">\n      <th></th>\n      <th>fixed acidity</th>\n      <th>volatile acidity</th>\n      <th>citric acid</th>\n      <th>residual sugar</th>\n      <th>chlorides</th>\n      <th>free sulfur dioxide</th>\n      <th>total sulfur dioxide</th>\n      <th>density</th>\n      <th>pH</th>\n      <th>sulphates</th>\n      <th>alcohol</th>\n      <th>quality</th>\n      <th>wine_type</th>\n    </tr>\n  </thead>\n  <tbody>\n    <tr>\n      <th>0</th>\n      <td>7.4</td>\n      <td>0.70</td>\n      <td>0.00</td>\n      <td>1.9</td>\n      <td>0.076</td>\n      <td>11.0</td>\n      <td>34.0</td>\n      <td>0.9978</td>\n      <td>3.51</td>\n      <td>0.56</td>\n      <td>9.4</td>\n      <td>5</td>\n      <td>1</td>\n    </tr>\n    <tr>\n      <th>1</th>\n      <td>7.8</td>\n      <td>0.88</td>\n      <td>0.00</td>\n      <td>2.6</td>\n      <td>0.098</td>\n      <td>25.0</td>\n      <td>67.0</td>\n      <td>0.9968</td>\n      <td>3.20</td>\n      <td>0.68</td>\n      <td>9.8</td>\n      <td>5</td>\n      <td>1</td>\n    </tr>\n    <tr>\n      <th>2</th>\n      <td>7.8</td>\n      <td>0.76</td>\n      <td>0.04</td>\n      <td>2.3</td>\n      <td>0.092</td>\n      <td>15.0</td>\n      <td>54.0</td>\n      <td>0.9970</td>\n      <td>3.26</td>\n      <td>0.65</td>\n      <td>9.8</td>\n      <td>5</td>\n      <td>1</td>\n    </tr>\n    <tr>\n      <th>3</th>\n      <td>11.2</td>\n      <td>0.28</td>\n      <td>0.56</td>\n      <td>1.9</td>\n      <td>0.075</td>\n      <td>17.0</td>\n      <td>60.0</td>\n      <td>0.9980</td>\n      <td>3.16</td>\n      <td>0.58</td>\n      <td>9.8</td>\n      <td>6</td>\n      <td>1</td>\n    </tr>\n    <tr>\n      <th>4</th>\n      <td>7.4</td>\n      <td>0.70</td>\n      <td>0.00</td>\n      <td>1.9</td>\n      <td>0.076</td>\n      <td>11.0</td>\n      <td>34.0</td>\n      <td>0.9978</td>\n      <td>3.51</td>\n      <td>0.56</td>\n      <td>9.4</td>\n      <td>5</td>\n      <td>1</td>\n    </tr>\n  </tbody>\n</table>\n</div>"
     },
     "execution_count": 56,
     "metadata": {},
     "output_type": "execute_result"
    }
   ],
   "source": [
    "wine_dataset = pd.concat([red_wine_dataset, white_wine_dataset], axis=0)\n",
    "wine_dataset[\"wine_type\"] = np.where(wine_dataset[\"wine_type\"] == \"red\", 1, 0)\n",
    "wine_dataset.head()"
   ],
   "metadata": {
    "collapsed": false,
    "pycharm": {
     "name": "#%%\n"
    }
   }
  },
  {
   "cell_type": "code",
   "execution_count": 57,
   "outputs": [
    {
     "data": {
      "text/plain": "1    5190\n2    1277\n0      30\nName: quality, dtype: int64"
     },
     "execution_count": 57,
     "metadata": {},
     "output_type": "execute_result"
    }
   ],
   "source": [
    "conditions = [\n",
    "    (wine_dataset[\"quality\"] <= 3),\n",
    "    (wine_dataset.quality > 3) & (wine_dataset.quality <= 6),\n",
    "    (wine_dataset[\"quality\"] > 6)\n",
    "]\n",
    "\n",
    "values = [0, 1, 2]\n",
    "\n",
    "wine_dataset['quality'] = np.select(conditions, values)\n",
    "\n",
    "wine_dataset['quality'].value_counts()"
   ],
   "metadata": {
    "collapsed": false,
    "pycharm": {
     "name": "#%%\n"
    }
   }
  },
  {
   "cell_type": "code",
   "execution_count": 58,
   "outputs": [],
   "source": [
    "wine_dataset_train, wine_dataset_test = train_test_split(wine_dataset, test_size=0.4, shuffle=True)\n",
    "X_train = wine_dataset_train.loc[:, wine_dataset_train.columns != \"quality\"]\n",
    "y_train = wine_dataset_train[\"quality\"]\n",
    "X_test = wine_dataset_test.loc[:, wine_dataset_test.columns != \"quality\"]\n",
    "y_test = wine_dataset_test[\"quality\"]"
   ],
   "metadata": {
    "collapsed": false,
    "pycharm": {
     "name": "#%%\n"
    }
   }
  },
  {
   "cell_type": "markdown",
   "source": [
    "## Fit Light GBM"
   ],
   "metadata": {
    "collapsed": false
   }
  },
  {
   "cell_type": "code",
   "execution_count": 59,
   "outputs": [],
   "source": [
    "categorical_features_names = [\"wine_type\"]\n",
    "features_names = X_train.columns\n",
    "cat_features_index = [index for index, feature_name in enumerate(features_names) if\n",
    "                      feature_name in categorical_features_names]"
   ],
   "metadata": {
    "collapsed": false,
    "pycharm": {
     "name": "#%%\n"
    }
   }
  },
  {
   "cell_type": "code",
   "execution_count": 60,
   "outputs": [
    {
     "data": {
      "text/plain": "LGBMClassifier(categorical_feature=[11], max_depth=None, min_child_samples=10,\n               n_estimators=500, n_jobs=1, random_state=1234)"
     },
     "execution_count": 60,
     "metadata": {},
     "output_type": "execute_result"
    }
   ],
   "source": [
    "model_params = {\n",
    "    'learning_rate': 0.1,\n",
    "    'max_depth': None,\n",
    "    'n_estimators': 500,\n",
    "    'min_child_samples': 10,\n",
    "    'categorical_feature': cat_features_index,\n",
    "    'n_jobs': 1,\n",
    "    'random_state': 1234,\n",
    "}\n",
    "lgbm_model = LGBMClassifier(**model_params)\n",
    "lgbm_model.fit(X_train, y_train)"
   ],
   "metadata": {
    "collapsed": false,
    "pycharm": {
     "name": "#%%\n"
    }
   }
  },
  {
   "cell_type": "code",
   "execution_count": 61,
   "outputs": [
    {
     "data": {
      "text/plain": "0.8699499807618315"
     },
     "execution_count": 61,
     "metadata": {},
     "output_type": "execute_result"
    }
   ],
   "source": [
    "y_pred = lgbm_model.predict(X_test)\n",
    "accuracy_score(y_pred, y_test)"
   ],
   "metadata": {
    "collapsed": false,
    "pycharm": {
     "name": "#%%\n"
    }
   }
  },
  {
   "cell_type": "markdown",
   "source": [
    "## Virtual Concept Drift: alcohol increase by 2"
   ],
   "metadata": {
    "collapsed": false
   }
  },
  {
   "cell_type": "markdown",
   "source": [
    "### Induce the drift"
   ],
   "metadata": {
    "collapsed": false
   }
  },
  {
   "cell_type": "code",
   "execution_count": null,
   "outputs": [],
   "source": [
    "wine_dataset_corrupted_alcohol = drift.drift_generator_univariate_increase(data=wine_dataset_test,\n",
    "                                                                           column_name='alcohol',\n",
    "                                                                           value=2)"
   ],
   "metadata": {
    "collapsed": false,
    "pycharm": {
     "name": "#%%\n"
    }
   }
  },
  {
   "cell_type": "markdown",
   "source": [
    "### Deepcheck"
   ],
   "metadata": {
    "collapsed": false
   }
  },
  {
   "cell_type": "code",
   "execution_count": null,
   "outputs": [],
   "source": [
    "deepcheck_detectors.deepcheck_detect_drift(data_train=wine_dataset_train,\n",
    "                                           data_to_compare=wine_dataset_corrupted_alcohol,\n",
    "                                           label_col=\"quality\",\n",
    "                                           cat_features=categorical_features_names,\n",
    "                                           model=lgbm_model,\n",
    "                                           test_type=\"feature_drift\")"
   ],
   "metadata": {
    "collapsed": false,
    "pycharm": {
     "name": "#%%\n"
    }
   }
  },
  {
   "cell_type": "code",
   "execution_count": null,
   "outputs": [],
   "source": [
    "deepcheck_detectors.deepcheck_detect_drift(data_train=wine_dataset_train,\n",
    "                                           data_to_compare=wine_dataset_corrupted_alcohol,\n",
    "                                           label_col=\"quality\",\n",
    "                                           cat_features=categorical_features_names,\n",
    "                                           model=lgbm_model,\n",
    "                                           test_type=\"prediction_drift\")"
   ],
   "metadata": {
    "collapsed": false,
    "pycharm": {
     "name": "#%%\n"
    }
   }
  },
  {
   "cell_type": "code",
   "execution_count": null,
   "outputs": [],
   "source": [
    "deepcheck_detectors.deepcheck_detect_drift(data_train=wine_dataset_train,\n",
    "                                           data_to_compare=wine_dataset_corrupted_alcohol,\n",
    "                                           label_col=\"quality\",\n",
    "                                           cat_features=categorical_features_names,\n",
    "                                           model=lgbm_model,\n",
    "                                           test_type=\"dataset_drift\")"
   ],
   "metadata": {
    "collapsed": false,
    "pycharm": {
     "name": "#%%\n"
    }
   }
  },
  {
   "cell_type": "markdown",
   "source": [
    "### Evidently AI"
   ],
   "metadata": {
    "collapsed": false
   }
  },
  {
   "cell_type": "code",
   "execution_count": null,
   "outputs": [],
   "source": [
    "evidently_ai_detectors.evidently_ai_detect_drift(data_train=wine_dataset_train,\n",
    "                                                 data_to_compare=wine_dataset_corrupted_alcohol,\n",
    "                                                 label_col=\"quality\",\n",
    "                                                 cat_features=categorical_features_names)"
   ],
   "metadata": {
    "collapsed": false,
    "pycharm": {
     "name": "#%%\n"
    }
   }
  },
  {
   "cell_type": "markdown",
   "source": [
    "### Tensorflow"
   ],
   "metadata": {
    "collapsed": false
   }
  },
  {
   "cell_type": "code",
   "execution_count": null,
   "outputs": [],
   "source": [
    "tensorflow_detectors.tensorflow_detect_drift(data_train=wine_dataset_train,\n",
    "                                             data_to_compare=wine_dataset_corrupted_alcohol,\n",
    "                                             label_col=\"quality\")"
   ],
   "metadata": {
    "collapsed": false,
    "pycharm": {
     "name": "#%%\n"
    }
   }
  },
  {
   "cell_type": "markdown",
   "source": [],
   "metadata": {
    "collapsed": false
   }
  },
  {
   "cell_type": "markdown",
   "source": [
    "### Drift Detectors with Labels"
   ],
   "metadata": {
    "collapsed": false
   }
  },
  {
   "cell_type": "code",
   "execution_count": null,
   "outputs": [],
   "source": [
    "data_wine_alcohol = pd.concat([wine_dataset_train, wine_dataset_corrupted_alcohol], axis=0)"
   ],
   "metadata": {
    "collapsed": false,
    "pycharm": {
     "name": "#%%\n"
    }
   }
  },
  {
   "cell_type": "markdown",
   "source": [
    "#### EDDM"
   ],
   "metadata": {
    "collapsed": false
   }
  },
  {
   "cell_type": "code",
   "execution_count": null,
   "outputs": [],
   "source": [
    "drift_detector_with_labels.drift_detector_with_labels_test(data_to_compare=data_wine_alcohol,\n",
    "                                                           label_col=\"quality\",\n",
    "                                                           model=lgbm_model,\n",
    "                                                           test_name=\"EDDM\")"
   ],
   "metadata": {
    "collapsed": false,
    "pycharm": {
     "name": "#%%\n"
    }
   }
  },
  {
   "cell_type": "markdown",
   "source": [
    "#### ADWIN"
   ],
   "metadata": {
    "collapsed": false
   }
  },
  {
   "cell_type": "code",
   "execution_count": null,
   "outputs": [],
   "source": [
    "drift_detector_with_labels.drift_detector_with_labels_test(data_to_compare=data_wine_alcohol,\n",
    "                                                           label_col=\"quality\",\n",
    "                                                           model=lgbm_model,\n",
    "                                                           test_name=\"ADWIN\")"
   ],
   "metadata": {
    "collapsed": false,
    "pycharm": {
     "name": "#%%\n"
    }
   }
  },
  {
   "cell_type": "markdown",
   "source": [
    "#### HDDM_W"
   ],
   "metadata": {
    "collapsed": false
   }
  },
  {
   "cell_type": "code",
   "execution_count": null,
   "outputs": [],
   "source": [
    "drift_detector_with_labels.drift_detector_with_labels_test(data_to_compare=data_wine_alcohol,\n",
    "                                                           label_col=\"quality\",\n",
    "                                                           model=lgbm_model,\n",
    "                                                           test_name=\"HDDM_W\")"
   ],
   "metadata": {
    "collapsed": false,
    "pycharm": {
     "name": "#%%\n"
    }
   }
  },
  {
   "cell_type": "markdown",
   "source": [
    "### Drift Detector Multivariate: HDDDM & MD3\n",
    "#### HDDDM"
   ],
   "metadata": {
    "collapsed": false
   }
  },
  {
   "cell_type": "code",
   "execution_count": null,
   "outputs": [],
   "source": [
    "X_train = wine_dataset_train.loc[:, wine_dataset_train.columns != \"quality\"]\n",
    "X_corrupted = wine_dataset_corrupted_alcohol.loc[:, wine_dataset_corrupted_alcohol.columns != \"quality\"]\n",
    "drift_detector_multivariate_hdddm.hdddm_detect_drift(data_train=X_train,\n",
    "                                                     data_to_compare=X_corrupted,\n",
    "                                                     gamma_level=0.05)"
   ],
   "metadata": {
    "collapsed": false,
    "pycharm": {
     "name": "#%%\n"
    }
   }
  },
  {
   "cell_type": "markdown",
   "source": [
    "#### MD3"
   ],
   "metadata": {
    "collapsed": false
   }
  },
  {
   "cell_type": "code",
   "execution_count": null,
   "outputs": [],
   "source": [
    "drift_detector_multivariate_md3.md3_detect_drift(data_train=wine_dataset_train,\n",
    "                                                 data_to_compare=wine_dataset_corrupted_alcohol,\n",
    "                                                 label_col=\"quality\")"
   ],
   "metadata": {
    "collapsed": false,
    "pycharm": {
     "name": "#%%\n"
    }
   }
  },
  {
   "cell_type": "markdown",
   "source": [
    "#### OLINDDA"
   ],
   "metadata": {
    "collapsed": false
   }
  },
  {
   "cell_type": "code",
   "execution_count": null,
   "outputs": [],
   "source": [
    "drift_detector_multivariate_ollindda.olindda_detect_drift(x_train_data=X_train,\n",
    "                                                          x_test_data=X_corrupted,\n",
    "                                                          n_clusters=6)"
   ],
   "metadata": {
    "collapsed": false,
    "pycharm": {
     "name": "#%%\n"
    }
   }
  },
  {
   "cell_type": "markdown",
   "source": [
    "## Virtual Concept Drift: decrease the total sulfur dioxide variance by 100"
   ],
   "metadata": {
    "collapsed": false
   }
  },
  {
   "cell_type": "markdown",
   "source": [
    "### Induce the drift"
   ],
   "metadata": {
    "collapsed": false
   }
  },
  {
   "cell_type": "code",
   "execution_count": null,
   "outputs": [],
   "source": [
    "sigma = (wine_dataset_test[\"total sulfur dioxide\"].var() - 100)\n",
    "mu = wine_dataset_test[\"total sulfur dioxide\"].mean()\n",
    "wine_dataset_corrupted_dioxide = drift.drift_generator_univariate_change_to_normal(data=wine_dataset_test,\n",
    "                                                                                   column_name=\"total sulfur dioxide\",\n",
    "                                                                                   seed=202,\n",
    "                                                                                   mu=mu,\n",
    "                                                                                   sigma=sigma)"
   ],
   "metadata": {
    "collapsed": false,
    "pycharm": {
     "name": "#%%\n"
    }
   }
  },
  {
   "cell_type": "markdown",
   "source": [
    "### Deepcheck"
   ],
   "metadata": {
    "collapsed": false
   }
  },
  {
   "cell_type": "code",
   "execution_count": null,
   "outputs": [],
   "source": [
    "deepcheck_detectors.deepcheck_detect_drift(data_train=wine_dataset_train,\n",
    "                                           data_to_compare=wine_dataset_corrupted_dioxide,\n",
    "                                           label_col=\"quality\",\n",
    "                                           cat_features=categorical_features_names,\n",
    "                                           model=lgbm_model,\n",
    "                                           test_type=\"feature_drift\")"
   ],
   "metadata": {
    "collapsed": false,
    "pycharm": {
     "name": "#%%\n"
    }
   }
  },
  {
   "cell_type": "code",
   "execution_count": null,
   "outputs": [],
   "source": [
    "deepcheck_detectors.deepcheck_detect_drift(data_train=wine_dataset_train,\n",
    "                                           data_to_compare=wine_dataset_corrupted_dioxide,\n",
    "                                           label_col=\"quality\",\n",
    "                                           cat_features=categorical_features_names,\n",
    "                                           model=lgbm_model,\n",
    "                                           test_type=\"prediction_drift\")"
   ],
   "metadata": {
    "collapsed": false,
    "pycharm": {
     "name": "#%%\n"
    }
   }
  },
  {
   "cell_type": "code",
   "execution_count": null,
   "outputs": [],
   "source": [
    "deepcheck_detectors.deepcheck_detect_drift(data_train=wine_dataset_train,\n",
    "                                           data_to_compare=wine_dataset_corrupted_dioxide,\n",
    "                                           label_col=\"quality\",\n",
    "                                           cat_features=categorical_features_names,\n",
    "                                           model=lgbm_model,\n",
    "                                           test_type=\"dataset_drift\")"
   ],
   "metadata": {
    "collapsed": false,
    "pycharm": {
     "name": "#%%\n"
    }
   }
  },
  {
   "cell_type": "markdown",
   "source": [
    "### Evidently AI\n"
   ],
   "metadata": {
    "collapsed": false
   }
  },
  {
   "cell_type": "code",
   "execution_count": null,
   "outputs": [],
   "source": [
    "evidently_ai_detectors.evidently_ai_detect_drift(data_train=wine_dataset_train,\n",
    "                                                 data_to_compare=wine_dataset_corrupted_dioxide,\n",
    "                                                 label_col=\"quality\",\n",
    "                                                 cat_features=categorical_features_names)"
   ],
   "metadata": {
    "collapsed": false,
    "pycharm": {
     "name": "#%%\n"
    }
   }
  },
  {
   "cell_type": "markdown",
   "source": [
    "### Tensorflow\n"
   ],
   "metadata": {
    "collapsed": false
   }
  },
  {
   "cell_type": "code",
   "execution_count": null,
   "outputs": [],
   "source": [
    "tensorflow_detectors.tensorflow_detect_drift(data_train=wine_dataset_train,\n",
    "                                             data_to_compare=wine_dataset_corrupted_dioxide,\n",
    "                                             label_col=\"quality\")"
   ],
   "metadata": {
    "collapsed": false,
    "pycharm": {
     "name": "#%%\n"
    }
   }
  },
  {
   "cell_type": "markdown",
   "source": [
    "### Drift Detectors with Labels"
   ],
   "metadata": {
    "collapsed": false
   }
  },
  {
   "cell_type": "code",
   "execution_count": null,
   "outputs": [],
   "source": [
    "data_wine_dioxide = pd.concat([wine_dataset_train, wine_dataset_corrupted_dioxide], axis=0)\n"
   ],
   "metadata": {
    "collapsed": false,
    "pycharm": {
     "name": "#%%\n"
    }
   }
  },
  {
   "cell_type": "markdown",
   "source": [
    "#### EDDM\n"
   ],
   "metadata": {
    "collapsed": false
   }
  },
  {
   "cell_type": "code",
   "execution_count": null,
   "outputs": [],
   "source": [
    "drift_detector_with_labels.drift_detector_with_labels_test(data_to_compare=data_wine_dioxide,\n",
    "                                                           label_col=\"quality\",\n",
    "                                                           model=lgbm_model,\n",
    "                                                           test_name=\"EDDM\")"
   ],
   "metadata": {
    "collapsed": false,
    "pycharm": {
     "name": "#%%\n"
    }
   }
  },
  {
   "cell_type": "markdown",
   "source": [
    "#### ADWIN\n"
   ],
   "metadata": {
    "collapsed": false
   }
  },
  {
   "cell_type": "code",
   "execution_count": null,
   "outputs": [],
   "source": [
    "drift_detector_with_labels.drift_detector_with_labels_test(data_to_compare=data_wine_dioxide,\n",
    "                                                           label_col=\"quality\",\n",
    "                                                           model=lgbm_model,\n",
    "                                                           test_name=\"ADWIN\")"
   ],
   "metadata": {
    "collapsed": false,
    "pycharm": {
     "name": "#%%\n"
    }
   }
  },
  {
   "cell_type": "markdown",
   "source": [
    "#### HDDM_W\n"
   ],
   "metadata": {
    "collapsed": false
   }
  },
  {
   "cell_type": "code",
   "execution_count": null,
   "outputs": [],
   "source": [
    "drift_detector_with_labels.drift_detector_with_labels_test(data_to_compare=data_wine_dioxide,\n",
    "                                                           label_col=\"quality\",\n",
    "                                                           model=lgbm_model,\n",
    "                                                           test_name=\"HDDM_W\")"
   ],
   "metadata": {
    "collapsed": false,
    "pycharm": {
     "name": "#%%\n"
    }
   }
  },
  {
   "cell_type": "markdown",
   "source": [
    "### Drift Detector Multivariate: HDDDM & MD3\n"
   ],
   "metadata": {
    "collapsed": false
   }
  },
  {
   "cell_type": "markdown",
   "source": [
    "#### HDDDM\n"
   ],
   "metadata": {
    "collapsed": false
   }
  },
  {
   "cell_type": "code",
   "execution_count": null,
   "outputs": [],
   "source": [
    "X_train = wine_dataset_train.loc[:, wine_dataset_train.columns != \"quality\"]\n",
    "X_corrupted = wine_dataset_corrupted_dioxide.loc[:, wine_dataset_corrupted_dioxide.columns != \"quality\"]\n",
    "drift_detector_multivariate_hdddm.hdddm_detect_drift(data_train=X_train,\n",
    "                                                     data_to_compare=X_corrupted,\n",
    "                                                     gamma_level=0.05)"
   ],
   "metadata": {
    "collapsed": false,
    "pycharm": {
     "name": "#%%\n"
    }
   }
  },
  {
   "cell_type": "markdown",
   "source": [
    "#### MD3\n"
   ],
   "metadata": {
    "collapsed": false
   }
  },
  {
   "cell_type": "code",
   "execution_count": null,
   "outputs": [],
   "source": [
    "drift_detector_multivariate_md3.md3_detect_drift(data_train=wine_dataset_train,\n",
    "                                                 data_to_compare=wine_dataset_corrupted_dioxide,\n",
    "                                                 label_col=\"quality\")"
   ],
   "metadata": {
    "collapsed": false,
    "pycharm": {
     "name": "#%%\n"
    }
   }
  },
  {
   "cell_type": "markdown",
   "source": [
    "#### OLINDDA"
   ],
   "metadata": {
    "collapsed": false
   }
  },
  {
   "cell_type": "code",
   "execution_count": null,
   "outputs": [],
   "source": [
    "X_corrupted = X_corrupted.reset_index(drop=True)"
   ],
   "metadata": {
    "collapsed": false,
    "pycharm": {
     "name": "#%%\n"
    }
   }
  },
  {
   "cell_type": "code",
   "execution_count": null,
   "outputs": [],
   "source": [
    "drift_detector_multivariate_ollindda.olindda_detect_drift(x_train_data=X_train,\n",
    "                                                          x_test_data=X_corrupted,\n",
    "                                                          n_clusters=6)"
   ],
   "metadata": {
    "collapsed": false,
    "pycharm": {
     "name": "#%%\n"
    }
   }
  },
  {
   "cell_type": "markdown",
   "source": [
    "## Virtual Concept Drift: swap values of the wine_type column"
   ],
   "metadata": {
    "collapsed": false
   }
  },
  {
   "cell_type": "markdown",
   "source": [
    "### Induce the drift"
   ],
   "metadata": {
    "collapsed": false
   }
  },
  {
   "cell_type": "code",
   "execution_count": null,
   "outputs": [],
   "source": [
    "wine_dataset_corrupted_wine_type = drift.drift_generator_univariate_categorical_change(data=wine_dataset_test,\n",
    "                                                                                       column_name='wine_type',\n",
    "                                                                                       value1=\"1\", value2=\"0\")"
   ],
   "metadata": {
    "collapsed": false,
    "pycharm": {
     "name": "#%%\n"
    }
   }
  },
  {
   "cell_type": "markdown",
   "source": [
    "### Deepcheck\n"
   ],
   "metadata": {
    "collapsed": false
   }
  },
  {
   "cell_type": "code",
   "execution_count": null,
   "outputs": [],
   "source": [
    "deepcheck_detectors.deepcheck_detect_drift(data_train=wine_dataset_train,\n",
    "                                           data_to_compare=wine_dataset_corrupted_wine_type,\n",
    "                                           label_col=\"quality\",\n",
    "                                           cat_features=categorical_features_names,\n",
    "                                           model=lgbm_model,\n",
    "                                           test_type=\"feature_drift\")"
   ],
   "metadata": {
    "collapsed": false,
    "pycharm": {
     "name": "#%%\n"
    }
   }
  },
  {
   "cell_type": "code",
   "execution_count": null,
   "outputs": [],
   "source": [
    "wine_dataset_corrupted_wine_type['wine_type'] = wine_dataset_corrupted_wine_type['wine_type'].astype(int)\n",
    "deepcheck_detectors.deepcheck_detect_drift(data_train=wine_dataset_train,\n",
    "                                           data_to_compare=wine_dataset_corrupted_wine_type,\n",
    "                                           label_col=\"quality\",\n",
    "                                           cat_features=categorical_features_names,\n",
    "                                           model=lgbm_model,\n",
    "                                           test_type=\"prediction_drift\")"
   ],
   "metadata": {
    "collapsed": false,
    "pycharm": {
     "name": "#%%\n"
    }
   }
  },
  {
   "cell_type": "code",
   "execution_count": null,
   "outputs": [],
   "source": [
    "deepcheck_detectors.deepcheck_detect_drift(data_train=wine_dataset_train,\n",
    "                                           data_to_compare=wine_dataset_corrupted_wine_type,\n",
    "                                           label_col=\"quality\",\n",
    "                                           cat_features=categorical_features_names,\n",
    "                                           model=lgbm_model,\n",
    "                                           test_type=\"dataset_drift\")"
   ],
   "metadata": {
    "collapsed": false,
    "pycharm": {
     "name": "#%%\n"
    }
   }
  },
  {
   "cell_type": "markdown",
   "source": [
    "### Evidently AI"
   ],
   "metadata": {
    "collapsed": false
   }
  },
  {
   "cell_type": "code",
   "execution_count": null,
   "outputs": [],
   "source": [
    "evidently_ai_detectors.evidently_ai_detect_drift(data_train=wine_dataset_train,\n",
    "                                                 data_to_compare=wine_dataset_corrupted_wine_type,\n",
    "                                                 label_col=\"quality\",\n",
    "                                                 cat_features=categorical_features_names)"
   ],
   "metadata": {
    "collapsed": false,
    "pycharm": {
     "name": "#%%\n"
    }
   }
  },
  {
   "cell_type": "markdown",
   "source": [
    "### Tensorflow\n"
   ],
   "metadata": {
    "collapsed": false
   }
  },
  {
   "cell_type": "code",
   "execution_count": null,
   "outputs": [],
   "source": [
    "tensorflow_detectors.tensorflow_detect_drift(data_train=wine_dataset_train,\n",
    "                                             data_to_compare=wine_dataset_corrupted_wine_type,\n",
    "                                             label_col=\"quality\")"
   ],
   "metadata": {
    "collapsed": false,
    "pycharm": {
     "name": "#%%\n"
    }
   }
  },
  {
   "cell_type": "markdown",
   "source": [
    "### Drift Detectors with Labels\n"
   ],
   "metadata": {
    "collapsed": false
   }
  },
  {
   "cell_type": "code",
   "execution_count": null,
   "outputs": [],
   "source": [
    "data_wine_wine_type = pd.concat([wine_dataset_train, wine_dataset_corrupted_wine_type], axis=0)\n"
   ],
   "metadata": {
    "collapsed": false,
    "pycharm": {
     "name": "#%%\n"
    }
   }
  },
  {
   "cell_type": "markdown",
   "source": [
    "#### EDDM\n"
   ],
   "metadata": {
    "collapsed": false
   }
  },
  {
   "cell_type": "code",
   "execution_count": null,
   "outputs": [],
   "source": [
    "drift_detector_with_labels.drift_detector_with_labels_test(data_to_compare=data_wine_wine_type,\n",
    "                                                           label_col=\"quality\",\n",
    "                                                           model=lgbm_model,\n",
    "                                                           test_name=\"EDDM\")"
   ],
   "metadata": {
    "collapsed": false,
    "pycharm": {
     "name": "#%%\n"
    }
   }
  },
  {
   "cell_type": "markdown",
   "source": [
    "#### ADWIN\n"
   ],
   "metadata": {
    "collapsed": false
   }
  },
  {
   "cell_type": "code",
   "execution_count": null,
   "outputs": [],
   "source": [
    "drift_detector_with_labels.drift_detector_with_labels_test(data_to_compare=data_wine_wine_type,\n",
    "                                                           label_col=\"quality\",\n",
    "                                                           model=lgbm_model,\n",
    "                                                           test_name=\"ADWIN\")"
   ],
   "metadata": {
    "collapsed": false,
    "pycharm": {
     "name": "#%%\n"
    }
   }
  },
  {
   "cell_type": "markdown",
   "source": [
    "#### HDDM_W\n"
   ],
   "metadata": {
    "collapsed": false
   }
  },
  {
   "cell_type": "code",
   "execution_count": null,
   "outputs": [],
   "source": [
    "drift_detector_with_labels.drift_detector_with_labels_test(data_to_compare=data_wine_wine_type,\n",
    "                                                           label_col=\"quality\",\n",
    "                                                           model=lgbm_model,\n",
    "                                                           test_name=\"HDDM_W\")"
   ],
   "metadata": {
    "collapsed": false,
    "pycharm": {
     "name": "#%%\n"
    }
   }
  },
  {
   "cell_type": "markdown",
   "source": [
    "### Drift Detector Multivariate: HDDDM & MD3\n",
    "#### HDDDM\n"
   ],
   "metadata": {
    "collapsed": false
   }
  },
  {
   "cell_type": "code",
   "execution_count": null,
   "outputs": [],
   "source": [
    "X_train = wine_dataset_train.loc[:, wine_dataset_train.columns != \"quality\"]\n",
    "X_corrupted = wine_dataset_corrupted_wine_type.loc[:, wine_dataset_corrupted_wine_type.columns != \"quality\"]\n",
    "drift_detector_multivariate_hdddm.hdddm_detect_drift(data_train=X_train,\n",
    "                                                     data_to_compare=X_corrupted,\n",
    "                                                     gamma_level=0.05)"
   ],
   "metadata": {
    "collapsed": false,
    "pycharm": {
     "name": "#%%\n"
    }
   }
  },
  {
   "cell_type": "markdown",
   "source": [
    "#### MD3"
   ],
   "metadata": {
    "collapsed": false
   }
  },
  {
   "cell_type": "code",
   "execution_count": null,
   "outputs": [],
   "source": [
    "drift_detector_multivariate_md3.md3_detect_drift(data_train=wine_dataset_train,\n",
    "                                                 data_to_compare=wine_dataset_corrupted_wine_type,\n",
    "                                                 label_col=\"quality\")"
   ],
   "metadata": {
    "collapsed": false,
    "pycharm": {
     "name": "#%%\n"
    }
   }
  },
  {
   "cell_type": "markdown",
   "source": [
    "#### OLINDDA"
   ],
   "metadata": {
    "collapsed": false
   }
  },
  {
   "cell_type": "code",
   "execution_count": null,
   "outputs": [],
   "source": [
    "drift_detector_multivariate_ollindda.olindda_detect_drift(x_train_data=X_train,\n",
    "                                                          x_test_data=X_corrupted,\n",
    "                                                          n_clusters=6)"
   ],
   "metadata": {
    "collapsed": false,
    "pycharm": {
     "name": "#%%\n"
    }
   }
  }
 ],
 "metadata": {
  "kernelspec": {
   "display_name": "Python 3",
   "language": "python",
   "name": "python3"
  },
  "language_info": {
   "codemirror_mode": {
    "name": "ipython",
    "version": 2
   },
   "file_extension": ".py",
   "mimetype": "text/x-python",
   "name": "python",
   "nbconvert_exporter": "python",
   "pygments_lexer": "ipython2",
   "version": "2.7.6"
  }
 },
 "nbformat": 4,
 "nbformat_minor": 0
}