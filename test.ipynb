{
 "cells": [
  {
   "cell_type": "code",
   "execution_count": 1,
   "metadata": {
    "collapsed": true
   },
   "outputs": [],
   "source": [
    "% load_ext autoreload\n",
    "% autoreload 2"
   ]
  },
  {
   "cell_type": "code",
   "execution_count": 2,
   "outputs": [
    {
     "name": "stdout",
     "output_type": "stream",
     "text": [
      "Requirement already satisfied: seaborn in c:\\users\\c.fraisse\\anaconda3\\envs\\skidless\\lib\\site-packages (0.11.2)\n",
      "Requirement already satisfied: pandas>=0.23 in c:\\users\\c.fraisse\\anaconda3\\envs\\skidless\\lib\\site-packages (from seaborn) (1.4.1)\n",
      "Requirement already satisfied: matplotlib>=2.2 in c:\\users\\c.fraisse\\anaconda3\\envs\\skidless\\lib\\site-packages (from seaborn) (3.5.1)\n",
      "Requirement already satisfied: scipy>=1.0 in c:\\users\\c.fraisse\\anaconda3\\envs\\skidless\\lib\\site-packages (from seaborn) (1.7.3)\n",
      "Requirement already satisfied: numpy>=1.15 in c:\\users\\c.fraisse\\anaconda3\\envs\\skidless\\lib\\site-packages (from seaborn) (1.22.4)\n",
      "Requirement already satisfied: packaging>=20.0 in c:\\users\\c.fraisse\\anaconda3\\envs\\skidless\\lib\\site-packages (from matplotlib>=2.2->seaborn) (21.3)\n",
      "Requirement already satisfied: pyparsing>=2.2.1 in c:\\users\\c.fraisse\\anaconda3\\envs\\skidless\\lib\\site-packages (from matplotlib>=2.2->seaborn) (3.0.4)\n",
      "Requirement already satisfied: fonttools>=4.22.0 in c:\\users\\c.fraisse\\anaconda3\\envs\\skidless\\lib\\site-packages (from matplotlib>=2.2->seaborn) (4.32.0)\n",
      "Requirement already satisfied: kiwisolver>=1.0.1 in c:\\users\\c.fraisse\\anaconda3\\envs\\skidless\\lib\\site-packages (from matplotlib>=2.2->seaborn) (1.4.2)\n",
      "Requirement already satisfied: pillow>=6.2.0 in c:\\users\\c.fraisse\\anaconda3\\envs\\skidless\\lib\\site-packages (from matplotlib>=2.2->seaborn) (9.1.0)\n",
      "Requirement already satisfied: python-dateutil>=2.7 in c:\\users\\c.fraisse\\anaconda3\\envs\\skidless\\lib\\site-packages (from matplotlib>=2.2->seaborn) (2.8.2)\n",
      "Requirement already satisfied: cycler>=0.10 in c:\\users\\c.fraisse\\anaconda3\\envs\\skidless\\lib\\site-packages (from matplotlib>=2.2->seaborn) (0.11.0)\n",
      "Requirement already satisfied: pytz>=2020.1 in c:\\users\\c.fraisse\\anaconda3\\envs\\skidless\\lib\\site-packages (from pandas>=0.23->seaborn) (2021.3)\n",
      "Requirement already satisfied: six>=1.5 in c:\\users\\c.fraisse\\anaconda3\\envs\\skidless\\lib\\site-packages (from python-dateutil>=2.7->matplotlib>=2.2->seaborn) (1.16.0)\n",
      "Requirement already satisfied: numpy in c:\\users\\c.fraisse\\anaconda3\\envs\\skidless\\lib\\site-packages (1.22.4)\n",
      "Requirement already satisfied: pandas in c:\\users\\c.fraisse\\anaconda3\\envs\\skidless\\lib\\site-packages (1.4.1)\n",
      "Requirement already satisfied: numpy>=1.18.5 in c:\\users\\c.fraisse\\anaconda3\\envs\\skidless\\lib\\site-packages (from pandas) (1.22.4)\n",
      "Requirement already satisfied: pytz>=2020.1 in c:\\users\\c.fraisse\\anaconda3\\envs\\skidless\\lib\\site-packages (from pandas) (2021.3)\n",
      "Requirement already satisfied: python-dateutil>=2.8.1 in c:\\users\\c.fraisse\\anaconda3\\envs\\skidless\\lib\\site-packages (from pandas) (2.8.2)\n",
      "Requirement already satisfied: six>=1.5 in c:\\users\\c.fraisse\\anaconda3\\envs\\skidless\\lib\\site-packages (from python-dateutil>=2.8.1->pandas) (1.16.0)\n",
      "Requirement already satisfied: river in c:\\users\\c.fraisse\\anaconda3\\envs\\skidless\\lib\\site-packages (0.11.0)\n",
      "Requirement already satisfied: numpy>=1.22 in c:\\users\\c.fraisse\\anaconda3\\envs\\skidless\\lib\\site-packages (from river) (1.22.4)\n",
      "Requirement already satisfied: scipy>=1.5 in c:\\users\\c.fraisse\\anaconda3\\envs\\skidless\\lib\\site-packages (from river) (1.7.3)\n",
      "Requirement already satisfied: pandas>=1.3 in c:\\users\\c.fraisse\\anaconda3\\envs\\skidless\\lib\\site-packages (from river) (1.4.1)\n",
      "Requirement already satisfied: pytz>=2020.1 in c:\\users\\c.fraisse\\anaconda3\\envs\\skidless\\lib\\site-packages (from pandas>=1.3->river) (2021.3)\n",
      "Requirement already satisfied: python-dateutil>=2.8.1 in c:\\users\\c.fraisse\\anaconda3\\envs\\skidless\\lib\\site-packages (from pandas>=1.3->river) (2.8.2)\n",
      "Requirement already satisfied: six>=1.5 in c:\\users\\c.fraisse\\anaconda3\\envs\\skidless\\lib\\site-packages (from python-dateutil>=2.8.1->pandas>=1.3->river) (1.16.0)\n",
      "Requirement already satisfied: scikit-learn in c:\\users\\c.fraisse\\appdata\\roaming\\python\\python39\\site-packages (1.1.1)\n",
      "Requirement already satisfied: scipy>=1.3.2 in c:\\users\\c.fraisse\\anaconda3\\envs\\skidless\\lib\\site-packages (from scikit-learn) (1.7.3)\n",
      "Requirement already satisfied: joblib>=1.0.0 in c:\\users\\c.fraisse\\anaconda3\\envs\\skidless\\lib\\site-packages (from scikit-learn) (1.0.0)\n",
      "Requirement already satisfied: threadpoolctl>=2.0.0 in c:\\users\\c.fraisse\\anaconda3\\envs\\skidless\\lib\\site-packages (from scikit-learn) (2.2.0)\n",
      "Requirement already satisfied: numpy>=1.17.3 in c:\\users\\c.fraisse\\anaconda3\\envs\\skidless\\lib\\site-packages (from scikit-learn) (1.22.4)\n",
      "Requirement already satisfied: lightgbm in c:\\users\\c.fraisse\\anaconda3\\envs\\skidless\\lib\\site-packages (3.2.1)\n",
      "Requirement already satisfied: wheel in c:\\users\\c.fraisse\\anaconda3\\envs\\skidless\\lib\\site-packages (from lightgbm) (0.37.1)\n",
      "Requirement already satisfied: scipy in c:\\users\\c.fraisse\\anaconda3\\envs\\skidless\\lib\\site-packages (from lightgbm) (1.7.3)\n",
      "Requirement already satisfied: numpy in c:\\users\\c.fraisse\\anaconda3\\envs\\skidless\\lib\\site-packages (from lightgbm) (1.22.4)\n",
      "Requirement already satisfied: scikit-learn!=0.22.0 in c:\\users\\c.fraisse\\appdata\\roaming\\python\\python39\\site-packages (from lightgbm) (1.1.1)\n",
      "Requirement already satisfied: joblib>=1.0.0 in c:\\users\\c.fraisse\\anaconda3\\envs\\skidless\\lib\\site-packages (from scikit-learn!=0.22.0->lightgbm) (1.0.0)\n",
      "Requirement already satisfied: threadpoolctl>=2.0.0 in c:\\users\\c.fraisse\\anaconda3\\envs\\skidless\\lib\\site-packages (from scikit-learn!=0.22.0->lightgbm) (2.2.0)\n",
      "Requirement already satisfied: matplotlib in c:\\users\\c.fraisse\\anaconda3\\envs\\skidless\\lib\\site-packages (3.5.1)\n",
      "Requirement already satisfied: pyparsing>=2.2.1 in c:\\users\\c.fraisse\\anaconda3\\envs\\skidless\\lib\\site-packages (from matplotlib) (3.0.4)\n",
      "Requirement already satisfied: cycler>=0.10 in c:\\users\\c.fraisse\\anaconda3\\envs\\skidless\\lib\\site-packages (from matplotlib) (0.11.0)\n",
      "Requirement already satisfied: packaging>=20.0 in c:\\users\\c.fraisse\\anaconda3\\envs\\skidless\\lib\\site-packages (from matplotlib) (21.3)\n",
      "Requirement already satisfied: fonttools>=4.22.0 in c:\\users\\c.fraisse\\anaconda3\\envs\\skidless\\lib\\site-packages (from matplotlib) (4.32.0)\n",
      "Requirement already satisfied: python-dateutil>=2.7 in c:\\users\\c.fraisse\\anaconda3\\envs\\skidless\\lib\\site-packages (from matplotlib) (2.8.2)\n",
      "Requirement already satisfied: numpy>=1.17 in c:\\users\\c.fraisse\\anaconda3\\envs\\skidless\\lib\\site-packages (from matplotlib) (1.22.4)\n",
      "Requirement already satisfied: kiwisolver>=1.0.1 in c:\\users\\c.fraisse\\anaconda3\\envs\\skidless\\lib\\site-packages (from matplotlib) (1.4.2)\n",
      "Requirement already satisfied: pillow>=6.2.0 in c:\\users\\c.fraisse\\anaconda3\\envs\\skidless\\lib\\site-packages (from matplotlib) (9.1.0)\n",
      "Requirement already satisfied: six>=1.5 in c:\\users\\c.fraisse\\anaconda3\\envs\\skidless\\lib\\site-packages (from python-dateutil>=2.7->matplotlib) (1.16.0)\n"
     ]
    }
   ],
   "source": [
    "!pip install seaborn\n",
    "!pip install numpy\n",
    "!pip install pandas\n",
    "!pip install river\n",
    "!pip install scikit-learn\n",
    "!pip install lightgbm\n",
    "!pip install matplotlib"
   ],
   "metadata": {
    "collapsed": false,
    "pycharm": {
     "name": "#%%\n"
    }
   }
  },
  {
   "cell_type": "code",
   "execution_count": 64,
   "outputs": [],
   "source": [
    "import warnings\n",
    "\n",
    "import pandas as pd\n",
    "import numpy as np\n",
    "import seaborn as sns\n",
    "from sklearn.model_selection import train_test_split\n",
    "from sklearn.metrics import accuracy_score\n",
    "from lightgbm import LGBMClassifier\n",
    "from matplotlib import pyplot as plt\n",
    "import drift_detector_with_labels, deepcheck_detectors, evidently_ai_detectors, drift,\n",
    "    drift_detector_multivariate_hdddm, drift_detector_multivariate_md3, drift_detector_multivariate_ollindda\n",
    "\n",
    "warnings.filterwarnings('ignore')\n",
    "warnings.simplefilter('ignore')"
   ],
   "metadata": {
    "collapsed": false,
    "pycharm": {
     "name": "#%%\n"
    }
   }
  },
  {
   "cell_type": "code",
   "execution_count": 4,
   "outputs": [],
   "source": [
    "red_wine_dataset = pd.read_csv(\n",
    "    \"https://archive.ics.uci.edu/ml/machine-learning-databases/wine-quality/winequality-red.csv\", sep=\";\")\n",
    "white_wine_dataset = pd.read_csv(\n",
    "    \"https://archive.ics.uci.edu/ml/machine-learning-databases/wine-quality/winequality-white.csv\", sep=\";\")"
   ],
   "metadata": {
    "collapsed": false,
    "pycharm": {
     "name": "#%%\n"
    }
   }
  },
  {
   "cell_type": "code",
   "execution_count": 5,
   "outputs": [],
   "source": [
    "red_wine_dataset['wine_type'] = \"red\"\n",
    "white_wine_dataset['wine_type'] = \"white\""
   ],
   "metadata": {
    "collapsed": false,
    "pycharm": {
     "name": "#%%\n"
    }
   }
  },
  {
   "cell_type": "code",
   "execution_count": 6,
   "outputs": [
    {
     "data": {
      "text/plain": "   fixed acidity  volatile acidity  citric acid  residual sugar  chlorides  \\\n0            7.4              0.70         0.00             1.9      0.076   \n1            7.8              0.88         0.00             2.6      0.098   \n2            7.8              0.76         0.04             2.3      0.092   \n3           11.2              0.28         0.56             1.9      0.075   \n4            7.4              0.70         0.00             1.9      0.076   \n\n   free sulfur dioxide  total sulfur dioxide  density    pH  sulphates  \\\n0                 11.0                  34.0   0.9978  3.51       0.56   \n1                 25.0                  67.0   0.9968  3.20       0.68   \n2                 15.0                  54.0   0.9970  3.26       0.65   \n3                 17.0                  60.0   0.9980  3.16       0.58   \n4                 11.0                  34.0   0.9978  3.51       0.56   \n\n   alcohol  quality  wine_type  \n0      9.4        5          1  \n1      9.8        5          1  \n2      9.8        5          1  \n3      9.8        6          1  \n4      9.4        5          1  ",
      "text/html": "<div>\n<style scoped>\n    .dataframe tbody tr th:only-of-type {\n        vertical-align: middle;\n    }\n\n    .dataframe tbody tr th {\n        vertical-align: top;\n    }\n\n    .dataframe thead th {\n        text-align: right;\n    }\n</style>\n<table border=\"1\" class=\"dataframe\">\n  <thead>\n    <tr style=\"text-align: right;\">\n      <th></th>\n      <th>fixed acidity</th>\n      <th>volatile acidity</th>\n      <th>citric acid</th>\n      <th>residual sugar</th>\n      <th>chlorides</th>\n      <th>free sulfur dioxide</th>\n      <th>total sulfur dioxide</th>\n      <th>density</th>\n      <th>pH</th>\n      <th>sulphates</th>\n      <th>alcohol</th>\n      <th>quality</th>\n      <th>wine_type</th>\n    </tr>\n  </thead>\n  <tbody>\n    <tr>\n      <th>0</th>\n      <td>7.4</td>\n      <td>0.70</td>\n      <td>0.00</td>\n      <td>1.9</td>\n      <td>0.076</td>\n      <td>11.0</td>\n      <td>34.0</td>\n      <td>0.9978</td>\n      <td>3.51</td>\n      <td>0.56</td>\n      <td>9.4</td>\n      <td>5</td>\n      <td>1</td>\n    </tr>\n    <tr>\n      <th>1</th>\n      <td>7.8</td>\n      <td>0.88</td>\n      <td>0.00</td>\n      <td>2.6</td>\n      <td>0.098</td>\n      <td>25.0</td>\n      <td>67.0</td>\n      <td>0.9968</td>\n      <td>3.20</td>\n      <td>0.68</td>\n      <td>9.8</td>\n      <td>5</td>\n      <td>1</td>\n    </tr>\n    <tr>\n      <th>2</th>\n      <td>7.8</td>\n      <td>0.76</td>\n      <td>0.04</td>\n      <td>2.3</td>\n      <td>0.092</td>\n      <td>15.0</td>\n      <td>54.0</td>\n      <td>0.9970</td>\n      <td>3.26</td>\n      <td>0.65</td>\n      <td>9.8</td>\n      <td>5</td>\n      <td>1</td>\n    </tr>\n    <tr>\n      <th>3</th>\n      <td>11.2</td>\n      <td>0.28</td>\n      <td>0.56</td>\n      <td>1.9</td>\n      <td>0.075</td>\n      <td>17.0</td>\n      <td>60.0</td>\n      <td>0.9980</td>\n      <td>3.16</td>\n      <td>0.58</td>\n      <td>9.8</td>\n      <td>6</td>\n      <td>1</td>\n    </tr>\n    <tr>\n      <th>4</th>\n      <td>7.4</td>\n      <td>0.70</td>\n      <td>0.00</td>\n      <td>1.9</td>\n      <td>0.076</td>\n      <td>11.0</td>\n      <td>34.0</td>\n      <td>0.9978</td>\n      <td>3.51</td>\n      <td>0.56</td>\n      <td>9.4</td>\n      <td>5</td>\n      <td>1</td>\n    </tr>\n  </tbody>\n</table>\n</div>"
     },
     "execution_count": 6,
     "metadata": {},
     "output_type": "execute_result"
    }
   ],
   "source": [
    "wine_dataset = pd.concat([red_wine_dataset, white_wine_dataset], axis=0)\n",
    "wine_dataset[\"wine_type\"] = np.where(wine_dataset[\"wine_type\"] == \"red\", 1, 0)\n",
    "wine_dataset.head()"
   ],
   "metadata": {
    "collapsed": false,
    "pycharm": {
     "name": "#%%\n"
    }
   }
  },
  {
   "cell_type": "code",
   "execution_count": 7,
   "outputs": [
    {
     "data": {
      "text/plain": "1    5190\n2    1277\n0      30\nName: quality, dtype: int64"
     },
     "execution_count": 7,
     "metadata": {},
     "output_type": "execute_result"
    }
   ],
   "source": [
    "conditions = [\n",
    "    (wine_dataset[\"quality\"] <= 3),\n",
    "    (wine_dataset.quality > 3) & (wine_dataset.quality <= 6),\n",
    "    (wine_dataset[\"quality\"] > 6)\n",
    "]\n",
    "\n",
    "values = [0, 1, 2]\n",
    "\n",
    "wine_dataset['quality'] = np.select(conditions, values)\n",
    "\n",
    "wine_dataset['quality'].value_counts()"
   ],
   "metadata": {
    "collapsed": false,
    "pycharm": {
     "name": "#%%\n"
    }
   }
  },
  {
   "cell_type": "code",
   "execution_count": 8,
   "outputs": [],
   "source": [
    "wine_dataset_train, wine_dataset_test = train_test_split(wine_dataset, test_size=0.4, shuffle=True)\n",
    "X_train = wine_dataset_train.loc[:, wine_dataset_train.columns != \"quality\"]\n",
    "y_train = wine_dataset_train[\"quality\"]\n",
    "X_test = wine_dataset_test.loc[:, wine_dataset_test.columns != \"quality\"]\n",
    "y_test = wine_dataset_test[\"quality\"]"
   ],
   "metadata": {
    "collapsed": false,
    "pycharm": {
     "name": "#%%\n"
    }
   }
  },
  {
   "cell_type": "code",
   "execution_count": 56,
   "outputs": [
    {
     "name": "stdout",
     "output_type": "stream",
     "text": [
      "Day 0 :\n",
      "Drift Detected\n",
      "Day 1 :\n",
      "Day 2 :\n",
      "Drift Detected\n",
      "Day 3 :\n",
      "Drift Detected\n",
      "Day 4 :\n",
      "Drift Detected\n",
      "Day 5 :\n"
     ]
    }
   ],
   "source": [
    "drift_detector_labels_gradual_drift(wine_dataset_train, wine_dataset_test, \"alcohol\", \"quality\",\n",
    "                                    2, \"increase\", 100, 5)"
   ],
   "metadata": {
    "collapsed": false,
    "pycharm": {
     "name": "#%%\n"
    }
   }
  },
  {
   "cell_type": "code",
   "execution_count": 63,
   "outputs": [
    {
     "name": "stdout",
     "output_type": "stream",
     "text": [
      "Day 0 :\n",
      "Alarm, drift Detected\n",
      "Day 1 :\n",
      "Alarm, drift Detected\n",
      "Day 2 :\n",
      "Day 3 :\n",
      "Alarm, drift Detected\n",
      "Day 4 :\n",
      "Alarm, drift Detected\n",
      "Day 5 :\n",
      "Day 6 :\n",
      "Alarm, drift Detected\n",
      "Day 7 :\n",
      "Alarm, drift Detected\n",
      "Day 8 :\n",
      "Day 9 :\n",
      "Alarm, drift Detected\n",
      "Day 10 :\n",
      "Alarm, drift Detected\n"
     ]
    }
   ],
   "source": [
    "drift_detector_multivariate_md3.md3_seasonal_drift(wine_dataset_train, wine_dataset_test, \"alcohol\", \"quality\",\n",
    "                                                   2, 3, \"increase\", 100, 10)"
   ],
   "metadata": {
    "collapsed": false,
    "pycharm": {
     "name": "#%%\n"
    }
   }
  },
  {
   "cell_type": "code",
   "execution_count": 71,
   "outputs": [
    {
     "name": "stdout",
     "output_type": "stream",
     "text": [
      "Day 0 :\n",
      "    fixed acidity  volatile acidity  citric acid  residual sugar  chlorides  \\\n",
      "0             7.4              0.50         0.47            2.00      0.086   \n",
      "1             8.2              1.00         0.09            2.30      0.065   \n",
      "2             6.9              0.24         0.39            1.30      0.063   \n",
      "3             6.4              0.34         0.20           14.90      0.060   \n",
      "4             6.3              0.15         0.30            1.40      0.022   \n",
      "..            ...               ...          ...             ...        ...   \n",
      "95            6.9              0.25         0.27            9.05      0.039   \n",
      "96            7.2              0.21         0.34           11.90      0.043   \n",
      "97            7.1              0.31         0.25           11.20      0.048   \n",
      "98            6.6              0.29         0.29            1.80      0.036   \n",
      "99            7.1              0.24         0.41           17.80      0.046   \n",
      "\n",
      "    free sulfur dioxide  total sulfur dioxide  density    pH  sulphates  \\\n",
      "0                  21.0                  73.0  0.99700  3.36       0.57   \n",
      "1                   7.0                  37.0  0.99685  3.32       0.55   \n",
      "2                  18.0                 136.0  0.99280  3.31       0.48   \n",
      "3                  37.0                 162.0  0.99830  3.13       0.45   \n",
      "4                  38.0                 100.0  0.99099  3.42       0.57   \n",
      "..                  ...                   ...      ...   ...        ...   \n",
      "95                 37.0                 128.0  0.99360  3.27       0.34   \n",
      "96                 37.0                 213.0  0.99620  3.09       0.50   \n",
      "97                 32.0                 136.0  0.99663  3.14       0.40   \n",
      "98                 38.0                 102.0  0.98819  3.08       0.42   \n",
      "99                 39.0                 145.0  0.99980  3.32       0.39   \n",
      "\n",
      "    alcohol  quality  wine_type  \n",
      "0      11.1        1          1  \n",
      "1      11.0        1          1  \n",
      "2      12.4        2          0  \n",
      "3      11.0        1          0  \n",
      "4      13.4        2          0  \n",
      "..      ...      ...        ...  \n",
      "95     13.3        2          0  \n",
      "96     11.6        1          0  \n",
      "97     11.5        1          0  \n",
      "98     15.7        2          0  \n",
      "99     10.7        1          0  \n",
      "\n",
      "[100 rows x 13 columns]\n"
     ]
    },
    {
     "ename": "AttributeError",
     "evalue": "'NoneType' object has no attribute 'split'",
     "output_type": "error",
     "traceback": [
      "\u001B[1;31m---------------------------------------------------------------------------\u001B[0m",
      "\u001B[1;31mAttributeError\u001B[0m                            Traceback (most recent call last)",
      "Input \u001B[1;32mIn [71]\u001B[0m, in \u001B[0;36m<cell line: 1>\u001B[1;34m()\u001B[0m\n\u001B[1;32m----> 1\u001B[0m \u001B[43mdrift_detector_multivariate_ollindda\u001B[49m\u001B[38;5;241;43m.\u001B[39;49m\u001B[43molindda_gradual_drift\u001B[49m\u001B[43m(\u001B[49m\u001B[43mdata_train\u001B[49m\u001B[38;5;241;43m=\u001B[39;49m\u001B[43m \u001B[49m\u001B[43mwine_dataset_train\u001B[49m\u001B[43m,\u001B[49m\n\u001B[0;32m      2\u001B[0m \u001B[43m                                                           \u001B[49m\u001B[43mdata_to_compare\u001B[49m\u001B[38;5;241;43m=\u001B[39;49m\u001B[43mwine_dataset_test\u001B[49m\u001B[43m,\u001B[49m\n\u001B[0;32m      3\u001B[0m \u001B[43m                                                           \u001B[49m\u001B[43mcolumn_name\u001B[49m\u001B[43m \u001B[49m\u001B[38;5;241;43m=\u001B[39;49m\u001B[43m \u001B[49m\u001B[38;5;124;43m\"\u001B[39;49m\u001B[38;5;124;43malcohol\u001B[39;49m\u001B[38;5;124;43m\"\u001B[39;49m\u001B[43m,\u001B[49m\n\u001B[0;32m      4\u001B[0m \u001B[43m                                                            \u001B[49m\u001B[43mn_clusters\u001B[49m\u001B[43m \u001B[49m\u001B[38;5;241;43m=\u001B[39;49m\u001B[43m \u001B[49m\u001B[38;5;241;43m6\u001B[39;49m\u001B[43m,\u001B[49m\n\u001B[0;32m      5\u001B[0m \u001B[43m                                                           \u001B[49m\u001B[43mvalue_drift\u001B[49m\u001B[43m \u001B[49m\u001B[38;5;241;43m=\u001B[39;49m\u001B[43m \u001B[49m\u001B[38;5;241;43m2\u001B[39;49m\u001B[43m,\u001B[49m\n\u001B[0;32m      6\u001B[0m \u001B[43m                                                           \u001B[49m\u001B[43maction\u001B[49m\u001B[43m \u001B[49m\u001B[38;5;241;43m=\u001B[39;49m\u001B[43m \u001B[49m\u001B[38;5;124;43m\"\u001B[39;49m\u001B[38;5;124;43mincrease\u001B[39;49m\u001B[38;5;124;43m\"\u001B[39;49m\u001B[43m,\u001B[49m\n\u001B[0;32m      7\u001B[0m \u001B[43m                                                           \u001B[49m\u001B[43mnb_sample\u001B[49m\u001B[43m \u001B[49m\u001B[38;5;241;43m=\u001B[39;49m\u001B[43m \u001B[49m\u001B[38;5;241;43m100\u001B[39;49m\u001B[43m,\u001B[49m\n\u001B[0;32m      8\u001B[0m \u001B[43m                                                           \u001B[49m\u001B[43mnb_days\u001B[49m\u001B[43m \u001B[49m\u001B[38;5;241;43m=\u001B[39;49m\u001B[43m \u001B[49m\u001B[38;5;241;43m5\u001B[39;49m\u001B[43m)\u001B[49m\n",
      "File \u001B[1;32m~\\PycharmProjects\\pythonProject2\\mleng_workshop_drift\\drift_detector_multivariate_ollindda.py:211\u001B[0m, in \u001B[0;36molindda_gradual_drift\u001B[1;34m(data_train, data_to_compare, column_name, n_clusters, value_drift, action, nb_sample, nb_days)\u001B[0m\n\u001B[0;32m    209\u001B[0m data_to_compare_sample \u001B[38;5;241m=\u001B[39m data_to_compare_sample\u001B[38;5;241m.\u001B[39mreset_index(drop\u001B[38;5;241m=\u001B[39m\u001B[38;5;28;01mTrue\u001B[39;00m)\n\u001B[0;32m    210\u001B[0m \u001B[38;5;28mprint\u001B[39m(data_to_compare_sample)\n\u001B[1;32m--> 211\u001B[0m \u001B[43molindda_detect_drift\u001B[49m\u001B[43m(\u001B[49m\u001B[43mx_train_data\u001B[49m\u001B[38;5;241;43m=\u001B[39;49m\u001B[43mdata_reference_sample\u001B[49m\u001B[43m,\u001B[49m\n\u001B[0;32m    212\u001B[0m \u001B[43m                     \u001B[49m\u001B[43mx_test_data\u001B[49m\u001B[38;5;241;43m=\u001B[39;49m\u001B[43mdata_to_compare_sample\u001B[49m\u001B[43m,\u001B[49m\n\u001B[0;32m    213\u001B[0m \u001B[43m                     \u001B[49m\u001B[43mn_clusters\u001B[49m\u001B[38;5;241;43m=\u001B[39;49m\u001B[43mn_clusters\u001B[49m\u001B[43m)\u001B[49m\n\u001B[0;32m    214\u001B[0m days \u001B[38;5;241m+\u001B[39m\u001B[38;5;241m=\u001B[39m \u001B[38;5;241m1\u001B[39m\n\u001B[0;32m    215\u001B[0m value_drift \u001B[38;5;241m+\u001B[39m\u001B[38;5;241m=\u001B[39m init_value_drift\n",
      "File \u001B[1;32m~\\PycharmProjects\\pythonProject2\\mleng_workshop_drift\\drift_detector_multivariate_ollindda.py:123\u001B[0m, in \u001B[0;36molindda_detect_drift\u001B[1;34m(x_train_data, x_test_data, n_clusters)\u001B[0m\n\u001B[0;32m    122\u001B[0m \u001B[38;5;28;01mdef\u001B[39;00m \u001B[38;5;21molindda_detect_drift\u001B[39m(x_train_data, x_test_data, n_clusters):\n\u001B[1;32m--> 123\u001B[0m     unknown_index, clustering_kmeans, centroids_known \u001B[38;5;241m=\u001B[39m \u001B[43molindda_normality\u001B[49m\u001B[43m(\u001B[49m\u001B[43mx_train_data\u001B[49m\u001B[43m,\u001B[49m\u001B[43m \u001B[49m\u001B[43mn_clusters\u001B[49m\u001B[43m,\u001B[49m\u001B[43m \u001B[49m\u001B[43mx_test_data\u001B[49m\u001B[43m)\u001B[49m\n\u001B[0;32m    124\u001B[0m     overall_global_mean, mean_by_cluster_unknown, model_unknown_kmeans, k, centroids_unknown \u001B[38;5;241m=\u001B[39m \\\n\u001B[0;32m    125\u001B[0m         olindda_identification(x_train_data, x_test_data, unknown_index, n_clusters)\n\u001B[0;32m    126\u001B[0m     \u001B[38;5;28;01mif\u001B[39;00m \u001B[38;5;28mlen\u001B[39m(k) \u001B[38;5;241m>\u001B[39m \u001B[38;5;241m1\u001B[39m:\n",
      "File \u001B[1;32m~\\PycharmProjects\\pythonProject2\\mleng_workshop_drift\\drift_detector_multivariate_ollindda.py:43\u001B[0m, in \u001B[0;36molindda_normality\u001B[1;34m(x_train_data, n_clusters, x_test_data)\u001B[0m\n\u001B[0;32m     41\u001B[0m \u001B[38;5;28;01mdef\u001B[39;00m \u001B[38;5;21molindda_normality\u001B[39m(x_train_data, n_clusters, x_test_data):\n\u001B[0;32m     42\u001B[0m     x_train_data \u001B[38;5;241m=\u001B[39m pd\u001B[38;5;241m.\u001B[39mDataFrame(x_train_data)\n\u001B[1;32m---> 43\u001B[0m     max_dist_mat, centroids, clustering_kmeans \u001B[38;5;241m=\u001B[39m \u001B[43mno_pca_compute_max_dist_cluster\u001B[49m\u001B[43m(\u001B[49m\u001B[43mx_train_data\u001B[49m\u001B[43m,\u001B[49m\u001B[43m \u001B[49m\u001B[43mn_clusters\u001B[49m\u001B[43m)\u001B[49m\n\u001B[0;32m     44\u001B[0m     unknown_index \u001B[38;5;241m=\u001B[39m detect_normal(x_test_data, centroids, max_dist_mat)\n\u001B[0;32m     45\u001B[0m     \u001B[38;5;28;01mreturn\u001B[39;00m unknown_index, clustering_kmeans, centroids\n",
      "File \u001B[1;32m~\\PycharmProjects\\pythonProject2\\mleng_workshop_drift\\drift_detector_multivariate_ollindda.py:12\u001B[0m, in \u001B[0;36mno_pca_compute_max_dist_cluster\u001B[1;34m(x_train_data, n_clusters)\u001B[0m\n\u001B[0;32m     10\u001B[0m \u001B[38;5;28;01mdef\u001B[39;00m \u001B[38;5;21mno_pca_compute_max_dist_cluster\u001B[39m(x_train_data, n_clusters):\n\u001B[0;32m     11\u001B[0m     clustering_kmeans \u001B[38;5;241m=\u001B[39m KMeans(n_clusters\u001B[38;5;241m=\u001B[39mn_clusters)\n\u001B[1;32m---> 12\u001B[0m     \u001B[43mclustering_kmeans\u001B[49m\u001B[38;5;241;43m.\u001B[39;49m\u001B[43mfit\u001B[49m\u001B[43m(\u001B[49m\u001B[43mx_train_data\u001B[49m\u001B[43m)\u001B[49m\n\u001B[0;32m     13\u001B[0m     centroids \u001B[38;5;241m=\u001B[39m clustering_kmeans\u001B[38;5;241m.\u001B[39mcluster_centers_\n\u001B[0;32m     14\u001B[0m     dist_mat \u001B[38;5;241m=\u001B[39m pd\u001B[38;5;241m.\u001B[39mDataFrame(distance_matrix(x_train_data, centroids))\n",
      "File \u001B[1;32m~\\AppData\\Roaming\\Python\\Python39\\site-packages\\sklearn\\cluster\\_kmeans.py:1402\u001B[0m, in \u001B[0;36mKMeans.fit\u001B[1;34m(self, X, y, sample_weight)\u001B[0m\n\u001B[0;32m   1400\u001B[0m \u001B[38;5;28;01melse\u001B[39;00m:\n\u001B[0;32m   1401\u001B[0m     kmeans_single \u001B[38;5;241m=\u001B[39m _kmeans_single_lloyd\n\u001B[1;32m-> 1402\u001B[0m     \u001B[38;5;28;43mself\u001B[39;49m\u001B[38;5;241;43m.\u001B[39;49m\u001B[43m_check_mkl_vcomp\u001B[49m\u001B[43m(\u001B[49m\u001B[43mX\u001B[49m\u001B[43m,\u001B[49m\u001B[43m \u001B[49m\u001B[43mX\u001B[49m\u001B[38;5;241;43m.\u001B[39;49m\u001B[43mshape\u001B[49m\u001B[43m[\u001B[49m\u001B[38;5;241;43m0\u001B[39;49m\u001B[43m]\u001B[49m\u001B[43m)\u001B[49m\n\u001B[0;32m   1404\u001B[0m best_inertia, best_labels \u001B[38;5;241m=\u001B[39m \u001B[38;5;28;01mNone\u001B[39;00m, \u001B[38;5;28;01mNone\u001B[39;00m\n\u001B[0;32m   1406\u001B[0m \u001B[38;5;28;01mfor\u001B[39;00m i \u001B[38;5;129;01min\u001B[39;00m \u001B[38;5;28mrange\u001B[39m(\u001B[38;5;28mself\u001B[39m\u001B[38;5;241m.\u001B[39m_n_init):\n\u001B[0;32m   1407\u001B[0m     \u001B[38;5;66;03m# Initialize centers\u001B[39;00m\n",
      "File \u001B[1;32m~\\AppData\\Roaming\\Python\\Python39\\site-packages\\sklearn\\cluster\\_kmeans.py:874\u001B[0m, in \u001B[0;36m_BaseKMeans._check_mkl_vcomp\u001B[1;34m(self, X, n_samples)\u001B[0m\n\u001B[0;32m    872\u001B[0m n_active_threads \u001B[38;5;241m=\u001B[39m \u001B[38;5;28mint\u001B[39m(np\u001B[38;5;241m.\u001B[39mceil(n_samples \u001B[38;5;241m/\u001B[39m CHUNK_SIZE))\n\u001B[0;32m    873\u001B[0m \u001B[38;5;28;01mif\u001B[39;00m n_active_threads \u001B[38;5;241m<\u001B[39m \u001B[38;5;28mself\u001B[39m\u001B[38;5;241m.\u001B[39m_n_threads:\n\u001B[1;32m--> 874\u001B[0m     modules \u001B[38;5;241m=\u001B[39m \u001B[43mthreadpool_info\u001B[49m\u001B[43m(\u001B[49m\u001B[43m)\u001B[49m\n\u001B[0;32m    875\u001B[0m     has_vcomp \u001B[38;5;241m=\u001B[39m \u001B[38;5;124m\"\u001B[39m\u001B[38;5;124mvcomp\u001B[39m\u001B[38;5;124m\"\u001B[39m \u001B[38;5;129;01min\u001B[39;00m [module[\u001B[38;5;124m\"\u001B[39m\u001B[38;5;124mprefix\u001B[39m\u001B[38;5;124m\"\u001B[39m] \u001B[38;5;28;01mfor\u001B[39;00m module \u001B[38;5;129;01min\u001B[39;00m modules]\n\u001B[0;32m    876\u001B[0m     has_mkl \u001B[38;5;241m=\u001B[39m (\u001B[38;5;124m\"\u001B[39m\u001B[38;5;124mmkl\u001B[39m\u001B[38;5;124m\"\u001B[39m, \u001B[38;5;124m\"\u001B[39m\u001B[38;5;124mintel\u001B[39m\u001B[38;5;124m\"\u001B[39m) \u001B[38;5;129;01min\u001B[39;00m [\n\u001B[0;32m    877\u001B[0m         (module[\u001B[38;5;124m\"\u001B[39m\u001B[38;5;124minternal_api\u001B[39m\u001B[38;5;124m\"\u001B[39m], module\u001B[38;5;241m.\u001B[39mget(\u001B[38;5;124m\"\u001B[39m\u001B[38;5;124mthreading_layer\u001B[39m\u001B[38;5;124m\"\u001B[39m, \u001B[38;5;28;01mNone\u001B[39;00m))\n\u001B[0;32m    878\u001B[0m         \u001B[38;5;28;01mfor\u001B[39;00m module \u001B[38;5;129;01min\u001B[39;00m modules\n\u001B[0;32m    879\u001B[0m     ]\n",
      "File \u001B[1;32m~\\AppData\\Roaming\\Python\\Python39\\site-packages\\sklearn\\utils\\fixes.py:162\u001B[0m, in \u001B[0;36mthreadpool_info\u001B[1;34m()\u001B[0m\n\u001B[0;32m    160\u001B[0m     \u001B[38;5;28;01mreturn\u001B[39;00m controller\u001B[38;5;241m.\u001B[39minfo()\n\u001B[0;32m    161\u001B[0m \u001B[38;5;28;01melse\u001B[39;00m:\n\u001B[1;32m--> 162\u001B[0m     \u001B[38;5;28;01mreturn\u001B[39;00m \u001B[43mthreadpoolctl\u001B[49m\u001B[38;5;241;43m.\u001B[39;49m\u001B[43mthreadpool_info\u001B[49m\u001B[43m(\u001B[49m\u001B[43m)\u001B[49m\n",
      "File \u001B[1;32m~\\Anaconda3\\envs\\skidless\\lib\\site-packages\\threadpoolctl.py:124\u001B[0m, in \u001B[0;36mthreadpool_info\u001B[1;34m()\u001B[0m\n\u001B[0;32m    107\u001B[0m \u001B[38;5;129m@_format_docstring\u001B[39m(USER_APIS\u001B[38;5;241m=\u001B[39m\u001B[38;5;28mlist\u001B[39m(_ALL_USER_APIS),\n\u001B[0;32m    108\u001B[0m                    INTERNAL_APIS\u001B[38;5;241m=\u001B[39m_ALL_INTERNAL_APIS)\n\u001B[0;32m    109\u001B[0m \u001B[38;5;28;01mdef\u001B[39;00m \u001B[38;5;21mthreadpool_info\u001B[39m():\n\u001B[0;32m    110\u001B[0m     \u001B[38;5;124;03m\"\"\"Return the maximal number of threads for each detected library.\u001B[39;00m\n\u001B[0;32m    111\u001B[0m \n\u001B[0;32m    112\u001B[0m \u001B[38;5;124;03m    Return a list with all the supported modules that have been found. Each\u001B[39;00m\n\u001B[1;32m   (...)\u001B[0m\n\u001B[0;32m    122\u001B[0m \u001B[38;5;124;03m    In addition, each module may contain internal_api specific entries.\u001B[39;00m\n\u001B[0;32m    123\u001B[0m \u001B[38;5;124;03m    \"\"\"\u001B[39;00m\n\u001B[1;32m--> 124\u001B[0m     \u001B[38;5;28;01mreturn\u001B[39;00m \u001B[43m_ThreadpoolInfo\u001B[49m\u001B[43m(\u001B[49m\u001B[43muser_api\u001B[49m\u001B[38;5;241;43m=\u001B[39;49m\u001B[43m_ALL_USER_APIS\u001B[49m\u001B[43m)\u001B[49m\u001B[38;5;241m.\u001B[39mtodicts()\n",
      "File \u001B[1;32m~\\Anaconda3\\envs\\skidless\\lib\\site-packages\\threadpoolctl.py:340\u001B[0m, in \u001B[0;36m_ThreadpoolInfo.__init__\u001B[1;34m(self, user_api, prefixes, modules)\u001B[0m\n\u001B[0;32m    337\u001B[0m     \u001B[38;5;28mself\u001B[39m\u001B[38;5;241m.\u001B[39muser_api \u001B[38;5;241m=\u001B[39m [] \u001B[38;5;28;01mif\u001B[39;00m user_api \u001B[38;5;129;01mis\u001B[39;00m \u001B[38;5;28;01mNone\u001B[39;00m \u001B[38;5;28;01melse\u001B[39;00m user_api\n\u001B[0;32m    339\u001B[0m     \u001B[38;5;28mself\u001B[39m\u001B[38;5;241m.\u001B[39mmodules \u001B[38;5;241m=\u001B[39m []\n\u001B[1;32m--> 340\u001B[0m     \u001B[38;5;28;43mself\u001B[39;49m\u001B[38;5;241;43m.\u001B[39;49m\u001B[43m_load_modules\u001B[49m\u001B[43m(\u001B[49m\u001B[43m)\u001B[49m\n\u001B[0;32m    341\u001B[0m     \u001B[38;5;28mself\u001B[39m\u001B[38;5;241m.\u001B[39m_warn_if_incompatible_openmp()\n\u001B[0;32m    342\u001B[0m \u001B[38;5;28;01melse\u001B[39;00m:\n",
      "File \u001B[1;32m~\\Anaconda3\\envs\\skidless\\lib\\site-packages\\threadpoolctl.py:373\u001B[0m, in \u001B[0;36m_ThreadpoolInfo._load_modules\u001B[1;34m(self)\u001B[0m\n\u001B[0;32m    371\u001B[0m     \u001B[38;5;28mself\u001B[39m\u001B[38;5;241m.\u001B[39m_find_modules_with_dyld()\n\u001B[0;32m    372\u001B[0m \u001B[38;5;28;01melif\u001B[39;00m sys\u001B[38;5;241m.\u001B[39mplatform \u001B[38;5;241m==\u001B[39m \u001B[38;5;124m\"\u001B[39m\u001B[38;5;124mwin32\u001B[39m\u001B[38;5;124m\"\u001B[39m:\n\u001B[1;32m--> 373\u001B[0m     \u001B[38;5;28;43mself\u001B[39;49m\u001B[38;5;241;43m.\u001B[39;49m\u001B[43m_find_modules_with_enum_process_module_ex\u001B[49m\u001B[43m(\u001B[49m\u001B[43m)\u001B[49m\n\u001B[0;32m    374\u001B[0m \u001B[38;5;28;01melse\u001B[39;00m:\n\u001B[0;32m    375\u001B[0m     \u001B[38;5;28mself\u001B[39m\u001B[38;5;241m.\u001B[39m_find_modules_with_dl_iterate_phdr()\n",
      "File \u001B[1;32m~\\Anaconda3\\envs\\skidless\\lib\\site-packages\\threadpoolctl.py:485\u001B[0m, in \u001B[0;36m_ThreadpoolInfo._find_modules_with_enum_process_module_ex\u001B[1;34m(self)\u001B[0m\n\u001B[0;32m    482\u001B[0m         filepath \u001B[38;5;241m=\u001B[39m buf\u001B[38;5;241m.\u001B[39mvalue\n\u001B[0;32m    484\u001B[0m         \u001B[38;5;66;03m# Store the module if it is supported and selected\u001B[39;00m\n\u001B[1;32m--> 485\u001B[0m         \u001B[38;5;28;43mself\u001B[39;49m\u001B[38;5;241;43m.\u001B[39;49m\u001B[43m_make_module_from_path\u001B[49m\u001B[43m(\u001B[49m\u001B[43mfilepath\u001B[49m\u001B[43m)\u001B[49m\n\u001B[0;32m    486\u001B[0m \u001B[38;5;28;01mfinally\u001B[39;00m:\n\u001B[0;32m    487\u001B[0m     kernel_32\u001B[38;5;241m.\u001B[39mCloseHandle(h_process)\n",
      "File \u001B[1;32m~\\Anaconda3\\envs\\skidless\\lib\\site-packages\\threadpoolctl.py:515\u001B[0m, in \u001B[0;36m_ThreadpoolInfo._make_module_from_path\u001B[1;34m(self, filepath)\u001B[0m\n\u001B[0;32m    513\u001B[0m \u001B[38;5;28;01mif\u001B[39;00m prefix \u001B[38;5;129;01min\u001B[39;00m \u001B[38;5;28mself\u001B[39m\u001B[38;5;241m.\u001B[39mprefixes \u001B[38;5;129;01mor\u001B[39;00m user_api \u001B[38;5;129;01min\u001B[39;00m \u001B[38;5;28mself\u001B[39m\u001B[38;5;241m.\u001B[39muser_api:\n\u001B[0;32m    514\u001B[0m     module_class \u001B[38;5;241m=\u001B[39m \u001B[38;5;28mglobals\u001B[39m()[module_class]\n\u001B[1;32m--> 515\u001B[0m     module \u001B[38;5;241m=\u001B[39m \u001B[43mmodule_class\u001B[49m\u001B[43m(\u001B[49m\u001B[43mfilepath\u001B[49m\u001B[43m,\u001B[49m\u001B[43m \u001B[49m\u001B[43mprefix\u001B[49m\u001B[43m,\u001B[49m\u001B[43m \u001B[49m\u001B[43muser_api\u001B[49m\u001B[43m,\u001B[49m\u001B[43m \u001B[49m\u001B[43minternal_api\u001B[49m\u001B[43m)\u001B[49m\n\u001B[0;32m    516\u001B[0m     \u001B[38;5;28mself\u001B[39m\u001B[38;5;241m.\u001B[39mmodules\u001B[38;5;241m.\u001B[39mappend(module)\n",
      "File \u001B[1;32m~\\Anaconda3\\envs\\skidless\\lib\\site-packages\\threadpoolctl.py:606\u001B[0m, in \u001B[0;36m_Module.__init__\u001B[1;34m(self, filepath, prefix, user_api, internal_api)\u001B[0m\n\u001B[0;32m    604\u001B[0m \u001B[38;5;28mself\u001B[39m\u001B[38;5;241m.\u001B[39minternal_api \u001B[38;5;241m=\u001B[39m internal_api\n\u001B[0;32m    605\u001B[0m \u001B[38;5;28mself\u001B[39m\u001B[38;5;241m.\u001B[39m_dynlib \u001B[38;5;241m=\u001B[39m ctypes\u001B[38;5;241m.\u001B[39mCDLL(filepath, mode\u001B[38;5;241m=\u001B[39m_RTLD_NOLOAD)\n\u001B[1;32m--> 606\u001B[0m \u001B[38;5;28mself\u001B[39m\u001B[38;5;241m.\u001B[39mversion \u001B[38;5;241m=\u001B[39m \u001B[38;5;28;43mself\u001B[39;49m\u001B[38;5;241;43m.\u001B[39;49m\u001B[43mget_version\u001B[49m\u001B[43m(\u001B[49m\u001B[43m)\u001B[49m\n\u001B[0;32m    607\u001B[0m \u001B[38;5;28mself\u001B[39m\u001B[38;5;241m.\u001B[39mnum_threads \u001B[38;5;241m=\u001B[39m \u001B[38;5;28mself\u001B[39m\u001B[38;5;241m.\u001B[39mget_num_threads()\n\u001B[0;32m    608\u001B[0m \u001B[38;5;28mself\u001B[39m\u001B[38;5;241m.\u001B[39m_get_extra_info()\n",
      "File \u001B[1;32m~\\Anaconda3\\envs\\skidless\\lib\\site-packages\\threadpoolctl.py:646\u001B[0m, in \u001B[0;36m_OpenBLASModule.get_version\u001B[1;34m(self)\u001B[0m\n\u001B[0;32m    643\u001B[0m get_config \u001B[38;5;241m=\u001B[39m \u001B[38;5;28mgetattr\u001B[39m(\u001B[38;5;28mself\u001B[39m\u001B[38;5;241m.\u001B[39m_dynlib, \u001B[38;5;124m\"\u001B[39m\u001B[38;5;124mopenblas_get_config\u001B[39m\u001B[38;5;124m\"\u001B[39m,\n\u001B[0;32m    644\u001B[0m                      \u001B[38;5;28;01mlambda\u001B[39;00m: \u001B[38;5;28;01mNone\u001B[39;00m)\n\u001B[0;32m    645\u001B[0m get_config\u001B[38;5;241m.\u001B[39mrestype \u001B[38;5;241m=\u001B[39m ctypes\u001B[38;5;241m.\u001B[39mc_char_p\n\u001B[1;32m--> 646\u001B[0m config \u001B[38;5;241m=\u001B[39m \u001B[43mget_config\u001B[49m\u001B[43m(\u001B[49m\u001B[43m)\u001B[49m\u001B[38;5;241;43m.\u001B[39;49m\u001B[43msplit\u001B[49m()\n\u001B[0;32m    647\u001B[0m \u001B[38;5;28;01mif\u001B[39;00m config[\u001B[38;5;241m0\u001B[39m] \u001B[38;5;241m==\u001B[39m \u001B[38;5;124mb\u001B[39m\u001B[38;5;124m\"\u001B[39m\u001B[38;5;124mOpenBLAS\u001B[39m\u001B[38;5;124m\"\u001B[39m:\n\u001B[0;32m    648\u001B[0m     \u001B[38;5;28;01mreturn\u001B[39;00m config[\u001B[38;5;241m1\u001B[39m]\u001B[38;5;241m.\u001B[39mdecode(\u001B[38;5;124m\"\u001B[39m\u001B[38;5;124mutf-8\u001B[39m\u001B[38;5;124m\"\u001B[39m)\n",
      "\u001B[1;31mAttributeError\u001B[0m: 'NoneType' object has no attribute 'split'"
     ]
    }
   ],
   "source": [
    "drift_detector_multivariate_ollindda.olindda_gradual_drift(data_train= wine_dataset_train,\n",
    "                                                           data_to_compare=wine_dataset_test,\n",
    "                                                           column_name = \"alcohol\",\n",
    "                                                            n_clusters = 6,\n",
    "                                                           value_drift = 2,\n",
    "                                                           action = \"increase\",\n",
    "                                                           nb_sample = 100,\n",
    "                                                           nb_days = 5)"
   ],
   "metadata": {
    "collapsed": false,
    "pycharm": {
     "name": "#%%\n"
    }
   }
  },
  {
   "cell_type": "code",
   "execution_count": null,
   "outputs": [],
   "source": [],
   "metadata": {
    "collapsed": false,
    "pycharm": {
     "name": "#%%\n"
    }
   }
  }
 ],
 "metadata": {
  "kernelspec": {
   "display_name": "Python 3",
   "language": "python",
   "name": "python3"
  },
  "language_info": {
   "codemirror_mode": {
    "name": "ipython",
    "version": 2
   },
   "file_extension": ".py",
   "mimetype": "text/x-python",
   "name": "python",
   "nbconvert_exporter": "python",
   "pygments_lexer": "ipython2",
   "version": "2.7.6"
  }
 },
 "nbformat": 4,
 "nbformat_minor": 0
}