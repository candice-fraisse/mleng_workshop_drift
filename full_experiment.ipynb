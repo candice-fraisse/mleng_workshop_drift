{
 "cells": [
  {
   "cell_type": "markdown",
   "source": [
    "# Experiment"
   ],
   "metadata": {
    "collapsed": false
   }
  },
  {
   "cell_type": "markdown",
   "source": [
    "## Install Packages"
   ],
   "metadata": {
    "collapsed": false
   }
  },
  {
   "cell_type": "code",
   "execution_count": 141,
   "metadata": {
    "collapsed": true
   },
   "outputs": [
    {
     "name": "stdout",
     "output_type": "stream",
     "text": [
      "The autoreload extension is already loaded. To reload it, use:\n",
      "  %reload_ext autoreload\n"
     ]
    }
   ],
   "source": [
    "%load_ext autoreload\n",
    "%autoreload 2"
   ]
  },
  {
   "cell_type": "code",
   "execution_count": 142,
   "outputs": [],
   "source": [
    "!pip install --quiet seaborn numpy pandas river scikit-learn lightgbm matplotlib deepchecks evidently menelaus tensorflow-data-validation"
   ],
   "metadata": {
    "collapsed": false,
    "pycharm": {
     "name": "#%%\n"
    }
   }
  },
  {
   "cell_type": "code",
   "execution_count": 143,
   "outputs": [],
   "source": [
    "import warnings\n",
    "\n",
    "import pandas as pd\n",
    "import numpy as np\n",
    "from sklearn.model_selection import train_test_split\n",
    "from sklearn.metrics import accuracy_score\n",
    "from lightgbm import LGBMClassifier\n",
    "import drift_detector_with_labels, deepcheck_detectors, evidently_ai_detectors, drift, drift_detector_multivariate_hdddm, drift_detector_multivariate_md3, drift_detector_multivariate_ollindda, tensorflow_detectors\n",
    "\n",
    "warnings.filterwarnings('ignore')\n",
    "warnings.simplefilter('ignore')"
   ],
   "metadata": {
    "collapsed": false,
    "pycharm": {
     "name": "#%%\n"
    }
   }
  },
  {
   "cell_type": "markdown",
   "source": [
    "# Load Dataset & EDA"
   ],
   "metadata": {
    "collapsed": false
   }
  },
  {
   "cell_type": "code",
   "execution_count": 144,
   "outputs": [],
   "source": [
    "red_wine_dataset = pd.read_csv(\n",
    "    \"https://archive.ics.uci.edu/ml/machine-learning-databases/wine-quality/winequality-red.csv\", sep=\";\")\n",
    "white_wine_dataset = pd.read_csv(\n",
    "    \"https://archive.ics.uci.edu/ml/machine-learning-databases/wine-quality/winequality-white.csv\", sep=\";\")"
   ],
   "metadata": {
    "collapsed": false,
    "pycharm": {
     "name": "#%%\n"
    }
   }
  },
  {
   "cell_type": "code",
   "execution_count": 145,
   "outputs": [],
   "source": [
    "red_wine_dataset['wine_type'] = \"red\"\n",
    "white_wine_dataset['wine_type'] = \"white\""
   ],
   "metadata": {
    "collapsed": false,
    "pycharm": {
     "name": "#%%\n"
    }
   }
  },
  {
   "cell_type": "code",
   "execution_count": 146,
   "outputs": [
    {
     "data": {
      "text/plain": "   fixed acidity  volatile acidity  citric acid  residual sugar  chlorides  \\\n0            7.4              0.70         0.00             1.9      0.076   \n1            7.8              0.88         0.00             2.6      0.098   \n2            7.8              0.76         0.04             2.3      0.092   \n3           11.2              0.28         0.56             1.9      0.075   \n4            7.4              0.70         0.00             1.9      0.076   \n\n   free sulfur dioxide  total sulfur dioxide  density    pH  sulphates  \\\n0                 11.0                  34.0   0.9978  3.51       0.56   \n1                 25.0                  67.0   0.9968  3.20       0.68   \n2                 15.0                  54.0   0.9970  3.26       0.65   \n3                 17.0                  60.0   0.9980  3.16       0.58   \n4                 11.0                  34.0   0.9978  3.51       0.56   \n\n   alcohol  quality  wine_type  \n0      9.4        5          1  \n1      9.8        5          1  \n2      9.8        5          1  \n3      9.8        6          1  \n4      9.4        5          1  ",
      "text/html": "<div>\n<style scoped>\n    .dataframe tbody tr th:only-of-type {\n        vertical-align: middle;\n    }\n\n    .dataframe tbody tr th {\n        vertical-align: top;\n    }\n\n    .dataframe thead th {\n        text-align: right;\n    }\n</style>\n<table border=\"1\" class=\"dataframe\">\n  <thead>\n    <tr style=\"text-align: right;\">\n      <th></th>\n      <th>fixed acidity</th>\n      <th>volatile acidity</th>\n      <th>citric acid</th>\n      <th>residual sugar</th>\n      <th>chlorides</th>\n      <th>free sulfur dioxide</th>\n      <th>total sulfur dioxide</th>\n      <th>density</th>\n      <th>pH</th>\n      <th>sulphates</th>\n      <th>alcohol</th>\n      <th>quality</th>\n      <th>wine_type</th>\n    </tr>\n  </thead>\n  <tbody>\n    <tr>\n      <th>0</th>\n      <td>7.4</td>\n      <td>0.70</td>\n      <td>0.00</td>\n      <td>1.9</td>\n      <td>0.076</td>\n      <td>11.0</td>\n      <td>34.0</td>\n      <td>0.9978</td>\n      <td>3.51</td>\n      <td>0.56</td>\n      <td>9.4</td>\n      <td>5</td>\n      <td>1</td>\n    </tr>\n    <tr>\n      <th>1</th>\n      <td>7.8</td>\n      <td>0.88</td>\n      <td>0.00</td>\n      <td>2.6</td>\n      <td>0.098</td>\n      <td>25.0</td>\n      <td>67.0</td>\n      <td>0.9968</td>\n      <td>3.20</td>\n      <td>0.68</td>\n      <td>9.8</td>\n      <td>5</td>\n      <td>1</td>\n    </tr>\n    <tr>\n      <th>2</th>\n      <td>7.8</td>\n      <td>0.76</td>\n      <td>0.04</td>\n      <td>2.3</td>\n      <td>0.092</td>\n      <td>15.0</td>\n      <td>54.0</td>\n      <td>0.9970</td>\n      <td>3.26</td>\n      <td>0.65</td>\n      <td>9.8</td>\n      <td>5</td>\n      <td>1</td>\n    </tr>\n    <tr>\n      <th>3</th>\n      <td>11.2</td>\n      <td>0.28</td>\n      <td>0.56</td>\n      <td>1.9</td>\n      <td>0.075</td>\n      <td>17.0</td>\n      <td>60.0</td>\n      <td>0.9980</td>\n      <td>3.16</td>\n      <td>0.58</td>\n      <td>9.8</td>\n      <td>6</td>\n      <td>1</td>\n    </tr>\n    <tr>\n      <th>4</th>\n      <td>7.4</td>\n      <td>0.70</td>\n      <td>0.00</td>\n      <td>1.9</td>\n      <td>0.076</td>\n      <td>11.0</td>\n      <td>34.0</td>\n      <td>0.9978</td>\n      <td>3.51</td>\n      <td>0.56</td>\n      <td>9.4</td>\n      <td>5</td>\n      <td>1</td>\n    </tr>\n  </tbody>\n</table>\n</div>"
     },
     "execution_count": 146,
     "metadata": {},
     "output_type": "execute_result"
    }
   ],
   "source": [
    "wine_dataset = pd.concat([red_wine_dataset, white_wine_dataset], axis=0)\n",
    "wine_dataset[\"wine_type\"] = np.where(wine_dataset[\"wine_type\"] == \"red\", 1, 0)\n",
    "wine_dataset.head()"
   ],
   "metadata": {
    "collapsed": false,
    "pycharm": {
     "name": "#%%\n"
    }
   }
  },
  {
   "cell_type": "code",
   "execution_count": 147,
   "outputs": [
    {
     "data": {
      "text/plain": "1    5190\n2    1277\n0      30\nName: quality, dtype: int64"
     },
     "execution_count": 147,
     "metadata": {},
     "output_type": "execute_result"
    }
   ],
   "source": [
    "conditions = [\n",
    "    (wine_dataset[\"quality\"] <= 3),\n",
    "    (wine_dataset.quality > 3) & (wine_dataset.quality <= 6),\n",
    "    (wine_dataset[\"quality\"] > 6)\n",
    "]\n",
    "\n",
    "values = [0, 1, 2]\n",
    "\n",
    "wine_dataset['quality'] = np.select(conditions, values)\n",
    "\n",
    "wine_dataset['quality'].value_counts()"
   ],
   "metadata": {
    "collapsed": false,
    "pycharm": {
     "name": "#%%\n"
    }
   }
  },
  {
   "cell_type": "code",
   "execution_count": 148,
   "outputs": [],
   "source": [
    "wine_dataset_train, wine_dataset_test = train_test_split(wine_dataset, test_size=0.4, shuffle=True)\n",
    "X_train = wine_dataset_train.loc[:, wine_dataset_train.columns != \"quality\"]\n",
    "y_train = wine_dataset_train[\"quality\"]\n",
    "X_test = wine_dataset_test.loc[:, wine_dataset_test.columns != \"quality\"]\n",
    "y_test = wine_dataset_test[\"quality\"]"
   ],
   "metadata": {
    "collapsed": false,
    "pycharm": {
     "name": "#%%\n"
    }
   }
  },
  {
   "cell_type": "markdown",
   "source": [
    "## Fit Light GBM"
   ],
   "metadata": {
    "collapsed": false
   }
  },
  {
   "cell_type": "code",
   "execution_count": 149,
   "outputs": [],
   "source": [
    "categorical_features_names = [\"wine_type\"]\n",
    "features_names = X_train.columns\n",
    "cat_features_index = [index for index, feature_name in enumerate(features_names) if\n",
    "                      feature_name in categorical_features_names]"
   ],
   "metadata": {
    "collapsed": false,
    "pycharm": {
     "name": "#%%\n"
    }
   }
  },
  {
   "cell_type": "code",
   "execution_count": 150,
   "outputs": [
    {
     "data": {
      "text/plain": "LGBMClassifier(categorical_feature=[11], max_depth=None, min_child_samples=10,\n               n_estimators=500, n_jobs=1, random_state=1234)"
     },
     "execution_count": 150,
     "metadata": {},
     "output_type": "execute_result"
    }
   ],
   "source": [
    "model_params = {\n",
    "    'learning_rate': 0.1,\n",
    "    'max_depth': None,\n",
    "    'n_estimators': 500,\n",
    "    'min_child_samples': 10,\n",
    "    'categorical_feature': cat_features_index,\n",
    "    'n_jobs': 1,\n",
    "    'random_state': 1234,\n",
    "}\n",
    "lgbm_model = LGBMClassifier(**model_params)\n",
    "lgbm_model.fit(X_train, y_train)"
   ],
   "metadata": {
    "collapsed": false,
    "pycharm": {
     "name": "#%%\n"
    }
   }
  },
  {
   "cell_type": "code",
   "execution_count": 151,
   "outputs": [
    {
     "data": {
      "text/plain": "0.8657175836860331"
     },
     "execution_count": 151,
     "metadata": {},
     "output_type": "execute_result"
    }
   ],
   "source": [
    "y_pred = lgbm_model.predict(X_test)\n",
    "accuracy_score(y_pred, y_test)"
   ],
   "metadata": {
    "collapsed": false,
    "pycharm": {
     "name": "#%%\n"
    }
   }
  },
  {
   "cell_type": "markdown",
   "source": [
    "## Real Concept Drift"
   ],
   "metadata": {
    "collapsed": false
   }
  },
  {
   "cell_type": "markdown",
   "source": [
    "### Induce the drift"
   ],
   "metadata": {
    "collapsed": false
   }
  },
  {
   "cell_type": "code",
   "execution_count": 152,
   "outputs": [],
   "source": [
    "wine_dataset_corrupted_concept_drift = drift.drift_generator_concept_drift(data=wine_dataset_train,\n",
    "                                                                           label_col=\"quality\",\n",
    "                                                                           label_value=0,\n",
    "                                                                           column_name=\"alcohol\",\n",
    "                                                                           value=12,\n",
    "                                                                           action=\"greater\")"
   ],
   "metadata": {
    "collapsed": false,
    "pycharm": {
     "name": "#%%\n"
    }
   }
  },
  {
   "cell_type": "code",
   "execution_count": 153,
   "outputs": [
    {
     "data": {
      "text/plain": "-0.3991068806388971"
     },
     "execution_count": 153,
     "metadata": {},
     "output_type": "execute_result"
    }
   ],
   "source": [
    "wine_dataset_corrupted_concept_drift[\"alcohol\"].corr(wine_dataset_corrupted_concept_drift[\"quality\"])"
   ],
   "metadata": {
    "collapsed": false,
    "pycharm": {
     "name": "#%%\n"
    }
   }
  },
  {
   "cell_type": "code",
   "execution_count": 154,
   "outputs": [
    {
     "data": {
      "text/plain": "0.38058870688834934"
     },
     "execution_count": 154,
     "metadata": {},
     "output_type": "execute_result"
    }
   ],
   "source": [
    "wine_dataset_test[\"alcohol\"].corr(wine_dataset_test[\"quality\"])"
   ],
   "metadata": {
    "collapsed": false,
    "pycharm": {
     "name": "#%%\n"
    }
   }
  },
  {
   "cell_type": "markdown",
   "source": [
    "### Deepcheck"
   ],
   "metadata": {
    "collapsed": false
   }
  },
  {
   "cell_type": "code",
   "execution_count": 155,
   "outputs": [],
   "source": [
    "deepcheck_detectors.deepcheck_detect_drift(data_train=wine_dataset_train,\n",
    "                                           data_to_compare=wine_dataset_corrupted_concept_drift,\n",
    "                                           label_col=\"quality\",\n",
    "                                           cat_features=categorical_features_names,\n",
    "                                           model=lgbm_model,\n",
    "                                           test_type=\"feature_drift\")"
   ],
   "metadata": {
    "collapsed": false,
    "pycharm": {
     "name": "#%%\n"
    }
   }
  },
  {
   "cell_type": "code",
   "execution_count": 156,
   "outputs": [
    {
     "name": "stdout",
     "output_type": "stream",
     "text": [
      "No drift detected\n"
     ]
    }
   ],
   "source": [
    "deepcheck_detectors.deepcheck_detect_drift(data_train=wine_dataset_train,\n",
    "                                           data_to_compare=wine_dataset_corrupted_concept_drift,\n",
    "                                           label_col=\"quality\",\n",
    "                                           cat_features=categorical_features_names,\n",
    "                                           model=lgbm_model,\n",
    "                                           test_type=\"prediction_drift\")"
   ],
   "metadata": {
    "collapsed": false,
    "pycharm": {
     "name": "#%%\n"
    }
   }
  },
  {
   "cell_type": "code",
   "execution_count": 158,
   "outputs": [],
   "source": [
    "#deepcheck_detectors.deepcheck_detect_drift(data_train=wine_dataset_train,\n",
    "#                                           data_to_compare=wine_dataset_corrupted_concept_drift,\n",
    "#                                           label_col=\"quality\",\n",
    "#                                           cat_features=categorical_features_names,\n",
    "#                                           model=lgbm_model,\n",
    "#                                           test_type=\"dataset_drift\")"
   ],
   "metadata": {
    "collapsed": false,
    "pycharm": {
     "name": "#%%\n"
    }
   }
  },
  {
   "cell_type": "markdown",
   "source": [
    "### Evidently AI"
   ],
   "metadata": {
    "collapsed": false
   }
  },
  {
   "cell_type": "code",
   "execution_count": 159,
   "outputs": [
    {
     "name": "stdout",
     "output_type": "stream",
     "text": [
      "Alarm quality\n"
     ]
    }
   ],
   "source": [
    "evidently_ai_detectors.evidently_ai_detect_drift(data_train=wine_dataset_train,\n",
    "                                                 data_to_compare=wine_dataset_corrupted_concept_drift,\n",
    "                                                 label_col=\"quality\",\n",
    "                                                 cat_features=categorical_features_names)"
   ],
   "metadata": {
    "collapsed": false,
    "pycharm": {
     "name": "#%%\n"
    }
   }
  },
  {
   "cell_type": "markdown",
   "source": [
    "### Tensorflow"
   ],
   "metadata": {
    "collapsed": false
   }
  },
  {
   "cell_type": "code",
   "execution_count": 160,
   "outputs": [
    {
     "data": {
      "text/plain": "<IPython.core.display.HTML object>",
      "text/html": "<h4 style=\"color:green;\">No anomalies found.</h4>"
     },
     "metadata": {},
     "output_type": "display_data"
    }
   ],
   "source": [
    "tensorflow_detectors.tensorflow_detect_drift(data_train=wine_dataset_train,\n",
    "                                             data_to_compare=wine_dataset_corrupted_concept_drift,\n",
    "                                             label_col=\"quality\")"
   ],
   "metadata": {
    "collapsed": false,
    "pycharm": {
     "name": "#%%\n"
    }
   }
  },
  {
   "cell_type": "code",
   "execution_count": 161,
   "outputs": [],
   "source": [
    "wine_dataset_corrupted_concept_drift = wine_dataset_corrupted_concept_drift.reset_index(drop=True)\n",
    "wine_dataset_train = wine_dataset_train.reset_index(drop=True)"
   ],
   "metadata": {
    "collapsed": false,
    "pycharm": {
     "name": "#%%\n"
    }
   }
  },
  {
   "cell_type": "markdown",
   "source": [
    "### Drift Detector with Labels"
   ],
   "metadata": {
    "collapsed": false
   }
  },
  {
   "cell_type": "code",
   "execution_count": 163,
   "outputs": [],
   "source": [
    "data_wine = pd.concat([wine_dataset_train, wine_dataset_corrupted_concept_drift], axis=0)"
   ],
   "metadata": {
    "collapsed": false,
    "pycharm": {
     "name": "#%%\n"
    }
   }
  },
  {
   "cell_type": "markdown",
   "source": [
    "#### EDDM"
   ],
   "metadata": {
    "collapsed": false
   }
  },
  {
   "cell_type": "code",
   "execution_count": 164,
   "outputs": [
    {
     "name": "stdout",
     "output_type": "stream",
     "text": [
      "Change detected at index 4164\n",
      "Warning detected at index 4362\n",
      "Change detected at index 4841\n",
      "Warning detected at index 5075\n",
      "Change detected at index 5321\n",
      "Change detected at index 5517\n",
      "Warning detected at index 5844\n"
     ]
    }
   ],
   "source": [
    "drift_detector_with_labels.drift_detector_with_labels_test(data_to_compare=data_wine,\n",
    "                                                           label_col=\"quality\",\n",
    "                                                           model=lgbm_model,\n",
    "                                                           test_name=\"EDDM\")"
   ],
   "metadata": {
    "collapsed": false,
    "pycharm": {
     "name": "#%%\n"
    }
   }
  },
  {
   "cell_type": "markdown",
   "source": [
    "#### HDDM_W"
   ],
   "metadata": {
    "collapsed": false
   }
  },
  {
   "cell_type": "code",
   "execution_count": 165,
   "outputs": [],
   "source": [
    "drift_detector_with_labels.drift_detector_with_labels_test(data_to_compare=data_wine,\n",
    "                                                           label_col=\"quality\",\n",
    "                                                           model=lgbm_model,\n",
    "                                                           test_name=\"HDDM_W\")"
   ],
   "metadata": {
    "collapsed": false,
    "pycharm": {
     "name": "#%%\n"
    }
   }
  },
  {
   "cell_type": "markdown",
   "source": [
    "#### ADWIN"
   ],
   "metadata": {
    "collapsed": false
   }
  },
  {
   "cell_type": "code",
   "execution_count": 166,
   "outputs": [
    {
     "name": "stdout",
     "output_type": "stream",
     "text": [
      "Change detected at index 4095\n",
      "Change detected at index 4159\n",
      "Change detected at index 4191\n",
      "Change detected at index 4223\n",
      "Change detected at index 4319\n",
      "Change detected at index 4607\n",
      "Change detected at index 5567\n"
     ]
    }
   ],
   "source": [
    "drift_detector_with_labels.drift_detector_with_labels_test(data_to_compare=data_wine,\n",
    "                                                           label_col=\"quality\",\n",
    "                                                           model=lgbm_model,\n",
    "                                                           test_name=\"ADWIN\")"
   ],
   "metadata": {
    "collapsed": false,
    "pycharm": {
     "name": "#%%\n"
    }
   }
  },
  {
   "cell_type": "markdown",
   "source": [
    "### Drift Detector Multivariate: HDDDM & MD3"
   ],
   "metadata": {
    "collapsed": false
   }
  },
  {
   "cell_type": "markdown",
   "source": [
    "#### HDDDM"
   ],
   "metadata": {
    "collapsed": false
   }
  },
  {
   "cell_type": "code",
   "execution_count": 167,
   "outputs": [],
   "source": [
    "X_train = wine_dataset_train.loc[:, wine_dataset_train.columns != \"quality\"]\n",
    "y_train = wine_dataset_train[\"quality\"]"
   ],
   "metadata": {
    "collapsed": false,
    "pycharm": {
     "name": "#%%\n"
    }
   }
  },
  {
   "cell_type": "code",
   "execution_count": 168,
   "outputs": [],
   "source": [
    "X_corrupted = wine_dataset_corrupted_concept_drift.loc[:, wine_dataset_corrupted_concept_drift.columns != \"quality\"]\n",
    "y_corrupted = wine_dataset_corrupted_concept_drift[\"quality\"]"
   ],
   "metadata": {
    "collapsed": false,
    "pycharm": {
     "name": "#%%\n"
    }
   }
  },
  {
   "cell_type": "code",
   "execution_count": 169,
   "outputs": [
    {
     "name": "stdout",
     "output_type": "stream",
     "text": [
      "None\n"
     ]
    }
   ],
   "source": [
    "drift_detector_multivariate_hdddm.hdddm_detect_drift(data_train=X_train,\n",
    "                                                     data_to_compare=X_corrupted,\n",
    "                                                     gamma_level=0.05)"
   ],
   "metadata": {
    "collapsed": false,
    "pycharm": {
     "name": "#%%\n"
    }
   }
  },
  {
   "cell_type": "markdown",
   "source": [
    "#### MD3"
   ],
   "metadata": {
    "collapsed": false
   }
  },
  {
   "cell_type": "code",
   "execution_count": 170,
   "outputs": [],
   "source": [
    "drift_detector_multivariate_md3.md3_detect_drift(data_train=wine_dataset_train,\n",
    "                                                 data_to_compare=wine_dataset_corrupted_concept_drift,\n",
    "                                                 label_col=\"quality\")"
   ],
   "metadata": {
    "collapsed": false,
    "pycharm": {
     "name": "#%%\n"
    }
   }
  },
  {
   "cell_type": "markdown",
   "source": [
    "#### OLINDDA"
   ],
   "metadata": {
    "collapsed": false
   }
  },
  {
   "cell_type": "code",
   "execution_count": 171,
   "outputs": [
    {
     "name": "stdout",
     "output_type": "stream",
     "text": [
      "No drift or novelty detected in batch\n"
     ]
    },
    {
     "data": {
      "text/plain": "False"
     },
     "execution_count": 171,
     "metadata": {},
     "output_type": "execute_result"
    }
   ],
   "source": [
    "drift_detector_multivariate_ollindda.olindda_detect_drift(x_train_data=X_train,\n",
    "                                                          x_test_data=X_corrupted,\n",
    "                                                          n_clusters=6)"
   ],
   "metadata": {
    "collapsed": false,
    "pycharm": {
     "name": "#%%\n"
    }
   }
  },
  {
   "cell_type": "markdown",
   "source": [
    "## Virtual Concept Drift: alcohol increase by 2"
   ],
   "metadata": {
    "collapsed": false
   }
  },
  {
   "cell_type": "markdown",
   "source": [
    "### Induce the drift"
   ],
   "metadata": {
    "collapsed": false
   }
  },
  {
   "cell_type": "code",
   "execution_count": 172,
   "outputs": [],
   "source": [
    "wine_dataset_corrupted_alcohol = drift.drift_generator_univariate_increase(data=wine_dataset_test,\n",
    "                                                                           column_name='alcohol',\n",
    "                                                                           value=2)"
   ],
   "metadata": {
    "collapsed": false,
    "pycharm": {
     "name": "#%%\n"
    }
   }
  },
  {
   "cell_type": "markdown",
   "source": [
    "### Deepcheck"
   ],
   "metadata": {
    "collapsed": false
   }
  },
  {
   "cell_type": "code",
   "execution_count": 173,
   "outputs": [
    {
     "name": "stdout",
     "output_type": "stream",
     "text": [
      "Alarm alcohol\n"
     ]
    }
   ],
   "source": [
    "deepcheck_detectors.deepcheck_detect_drift(data_train=wine_dataset_train,\n",
    "                                           data_to_compare=wine_dataset_corrupted_alcohol,\n",
    "                                           label_col=\"quality\",\n",
    "                                           cat_features=categorical_features_names,\n",
    "                                           model=lgbm_model,\n",
    "                                           test_type=\"feature_drift\")"
   ],
   "metadata": {
    "collapsed": false,
    "pycharm": {
     "name": "#%%\n"
    }
   }
  },
  {
   "cell_type": "code",
   "execution_count": 174,
   "outputs": [
    {
     "name": "stdout",
     "output_type": "stream",
     "text": [
      "Warning\n"
     ]
    }
   ],
   "source": [
    "deepcheck_detectors.deepcheck_detect_drift(data_train=wine_dataset_train,\n",
    "                                           data_to_compare=wine_dataset_corrupted_alcohol,\n",
    "                                           label_col=\"quality\",\n",
    "                                           cat_features=categorical_features_names,\n",
    "                                           model=lgbm_model,\n",
    "                                           test_type=\"prediction_drift\")"
   ],
   "metadata": {
    "collapsed": false,
    "pycharm": {
     "name": "#%%\n"
    }
   }
  },
  {
   "cell_type": "code",
   "execution_count": 175,
   "outputs": [],
   "source": [
    "#deepcheck_detectors.deepcheck_detect_drift(data_train=wine_dataset_train,\n",
    "#                                           data_to_compare=wine_dataset_corrupted_alcohol,\n",
    "#                                           label_col=\"quality\",\n",
    "#                                           cat_features=categorical_features_names,\n",
    "#                                           model=lgbm_model,\n",
    "#                                           test_type=\"dataset_drift\")"
   ],
   "metadata": {
    "collapsed": false,
    "pycharm": {
     "name": "#%%\n"
    }
   }
  },
  {
   "cell_type": "markdown",
   "source": [
    "### Evidently AI"
   ],
   "metadata": {
    "collapsed": false
   }
  },
  {
   "cell_type": "code",
   "execution_count": 176,
   "outputs": [
    {
     "name": "stdout",
     "output_type": "stream",
     "text": [
      "Alarm alcohol\n"
     ]
    }
   ],
   "source": [
    "evidently_ai_detectors.evidently_ai_detect_drift(data_train=wine_dataset_train,\n",
    "                                                 data_to_compare=wine_dataset_corrupted_alcohol,\n",
    "                                                 label_col=\"quality\",\n",
    "                                                 cat_features=categorical_features_names)"
   ],
   "metadata": {
    "collapsed": false,
    "pycharm": {
     "name": "#%%\n"
    }
   }
  },
  {
   "cell_type": "markdown",
   "source": [
    "### Tensorflow"
   ],
   "metadata": {
    "collapsed": false
   }
  },
  {
   "cell_type": "code",
   "execution_count": 177,
   "outputs": [
    {
     "data": {
      "text/plain": "                                                                      Anomaly short description  \\\nFeature name                                                                                      \n'chlorides'             High approximate Jensen-Shannon divergence between training and serving   \n'pH'                    High approximate Jensen-Shannon divergence between training and serving   \n'volatile acidity'      High approximate Jensen-Shannon divergence between training and serving   \n'sulphates'             High approximate Jensen-Shannon divergence between training and serving   \n'fixed acidity'         High approximate Jensen-Shannon divergence between training and serving   \n'free sulfur dioxide'   High approximate Jensen-Shannon divergence between training and serving   \n'density'               High approximate Jensen-Shannon divergence between training and serving   \n'citric acid'           High approximate Jensen-Shannon divergence between training and serving   \n'alcohol'               High approximate Jensen-Shannon divergence between training and serving   \n'residual sugar'        High approximate Jensen-Shannon divergence between training and serving   \n'total sulfur dioxide'  High approximate Jensen-Shannon divergence between training and serving   \n\n                                                                                                                                             Anomaly long description  \nFeature name                                                                                                                                                           \n'chlorides'             The approximate Jensen-Shannon divergence between training and serving is 0.0295839 (up to six significant digits), above the threshold 0.01.  \n'pH'                    The approximate Jensen-Shannon divergence between training and serving is 0.0249625 (up to six significant digits), above the threshold 0.01.  \n'volatile acidity'      The approximate Jensen-Shannon divergence between training and serving is 0.0318468 (up to six significant digits), above the threshold 0.01.  \n'sulphates'             The approximate Jensen-Shannon divergence between training and serving is 0.0382172 (up to six significant digits), above the threshold 0.01.  \n'fixed acidity'          The approximate Jensen-Shannon divergence between training and serving is 0.026148 (up to six significant digits), above the threshold 0.01.  \n'free sulfur dioxide'   The approximate Jensen-Shannon divergence between training and serving is 0.0247023 (up to six significant digits), above the threshold 0.01.  \n'density'               The approximate Jensen-Shannon divergence between training and serving is 0.0690513 (up to six significant digits), above the threshold 0.01.  \n'citric acid'           The approximate Jensen-Shannon divergence between training and serving is 0.0356787 (up to six significant digits), above the threshold 0.01.  \n'alcohol'                The approximate Jensen-Shannon divergence between training and serving is 0.447917 (up to six significant digits), above the threshold 0.01.  \n'residual sugar'        The approximate Jensen-Shannon divergence between training and serving is 0.0556679 (up to six significant digits), above the threshold 0.01.  \n'total sulfur dioxide'  The approximate Jensen-Shannon divergence between training and serving is 0.0127563 (up to six significant digits), above the threshold 0.01.  ",
      "text/html": "<div>\n<style scoped>\n    .dataframe tbody tr th:only-of-type {\n        vertical-align: middle;\n    }\n\n    .dataframe tbody tr th {\n        vertical-align: top;\n    }\n\n    .dataframe thead th {\n        text-align: right;\n    }\n</style>\n<table border=\"1\" class=\"dataframe\">\n  <thead>\n    <tr style=\"text-align: right;\">\n      <th></th>\n      <th>Anomaly short description</th>\n      <th>Anomaly long description</th>\n    </tr>\n    <tr>\n      <th>Feature name</th>\n      <th></th>\n      <th></th>\n    </tr>\n  </thead>\n  <tbody>\n    <tr>\n      <th>'chlorides'</th>\n      <td>High approximate Jensen-Shannon divergence between training and serving</td>\n      <td>The approximate Jensen-Shannon divergence between training and serving is 0.0295839 (up to six significant digits), above the threshold 0.01.</td>\n    </tr>\n    <tr>\n      <th>'pH'</th>\n      <td>High approximate Jensen-Shannon divergence between training and serving</td>\n      <td>The approximate Jensen-Shannon divergence between training and serving is 0.0249625 (up to six significant digits), above the threshold 0.01.</td>\n    </tr>\n    <tr>\n      <th>'volatile acidity'</th>\n      <td>High approximate Jensen-Shannon divergence between training and serving</td>\n      <td>The approximate Jensen-Shannon divergence between training and serving is 0.0318468 (up to six significant digits), above the threshold 0.01.</td>\n    </tr>\n    <tr>\n      <th>'sulphates'</th>\n      <td>High approximate Jensen-Shannon divergence between training and serving</td>\n      <td>The approximate Jensen-Shannon divergence between training and serving is 0.0382172 (up to six significant digits), above the threshold 0.01.</td>\n    </tr>\n    <tr>\n      <th>'fixed acidity'</th>\n      <td>High approximate Jensen-Shannon divergence between training and serving</td>\n      <td>The approximate Jensen-Shannon divergence between training and serving is 0.026148 (up to six significant digits), above the threshold 0.01.</td>\n    </tr>\n    <tr>\n      <th>'free sulfur dioxide'</th>\n      <td>High approximate Jensen-Shannon divergence between training and serving</td>\n      <td>The approximate Jensen-Shannon divergence between training and serving is 0.0247023 (up to six significant digits), above the threshold 0.01.</td>\n    </tr>\n    <tr>\n      <th>'density'</th>\n      <td>High approximate Jensen-Shannon divergence between training and serving</td>\n      <td>The approximate Jensen-Shannon divergence between training and serving is 0.0690513 (up to six significant digits), above the threshold 0.01.</td>\n    </tr>\n    <tr>\n      <th>'citric acid'</th>\n      <td>High approximate Jensen-Shannon divergence between training and serving</td>\n      <td>The approximate Jensen-Shannon divergence between training and serving is 0.0356787 (up to six significant digits), above the threshold 0.01.</td>\n    </tr>\n    <tr>\n      <th>'alcohol'</th>\n      <td>High approximate Jensen-Shannon divergence between training and serving</td>\n      <td>The approximate Jensen-Shannon divergence between training and serving is 0.447917 (up to six significant digits), above the threshold 0.01.</td>\n    </tr>\n    <tr>\n      <th>'residual sugar'</th>\n      <td>High approximate Jensen-Shannon divergence between training and serving</td>\n      <td>The approximate Jensen-Shannon divergence between training and serving is 0.0556679 (up to six significant digits), above the threshold 0.01.</td>\n    </tr>\n    <tr>\n      <th>'total sulfur dioxide'</th>\n      <td>High approximate Jensen-Shannon divergence between training and serving</td>\n      <td>The approximate Jensen-Shannon divergence between training and serving is 0.0127563 (up to six significant digits), above the threshold 0.01.</td>\n    </tr>\n  </tbody>\n</table>\n</div>"
     },
     "metadata": {},
     "output_type": "display_data"
    }
   ],
   "source": [
    "tensorflow_detectors.tensorflow_detect_drift(data_train=wine_dataset_train,\n",
    "                                             data_to_compare=wine_dataset_corrupted_alcohol,\n",
    "                                             label_col=\"quality\")"
   ],
   "metadata": {
    "collapsed": false,
    "pycharm": {
     "name": "#%%\n"
    }
   }
  },
  {
   "cell_type": "markdown",
   "source": [],
   "metadata": {
    "collapsed": false
   }
  },
  {
   "cell_type": "markdown",
   "source": [
    "### Drift Detectors with Labels"
   ],
   "metadata": {
    "collapsed": false
   }
  },
  {
   "cell_type": "code",
   "execution_count": 178,
   "outputs": [],
   "source": [
    "data_wine_alcohol = pd.concat([wine_dataset_train, wine_dataset_corrupted_alcohol], axis=0)"
   ],
   "metadata": {
    "collapsed": false,
    "pycharm": {
     "name": "#%%\n"
    }
   }
  },
  {
   "cell_type": "markdown",
   "source": [
    "#### EDDM"
   ],
   "metadata": {
    "collapsed": false
   }
  },
  {
   "cell_type": "code",
   "execution_count": 179,
   "outputs": [
    {
     "name": "stdout",
     "output_type": "stream",
     "text": [
      "Change detected at index 4042\n",
      "Change detected at index 4198\n",
      "Change detected at index 4365\n",
      "Warning detected at index 4615\n",
      "Change detected at index 4646\n",
      "Warning detected at index 4793\n"
     ]
    }
   ],
   "source": [
    "drift_detector_with_labels.drift_detector_with_labels_test(data_to_compare=data_wine_alcohol,\n",
    "                                                           label_col=\"quality\",\n",
    "                                                           model=lgbm_model,\n",
    "                                                           test_name=\"EDDM\")"
   ],
   "metadata": {
    "collapsed": false,
    "pycharm": {
     "name": "#%%\n"
    }
   }
  },
  {
   "cell_type": "markdown",
   "source": [
    "#### ADWIN"
   ],
   "metadata": {
    "collapsed": false
   }
  },
  {
   "cell_type": "code",
   "execution_count": 180,
   "outputs": [
    {
     "name": "stdout",
     "output_type": "stream",
     "text": [
      "Change detected at index 3999\n",
      "Change detected at index 4031\n",
      "Change detected at index 4063\n",
      "Change detected at index 4191\n",
      "Change detected at index 4223\n",
      "Change detected at index 4415\n"
     ]
    }
   ],
   "source": [
    "drift_detector_with_labels.drift_detector_with_labels_test(data_to_compare=data_wine_alcohol,\n",
    "                                                           label_col=\"quality\",\n",
    "                                                           model=lgbm_model,\n",
    "                                                           test_name=\"ADWIN\")"
   ],
   "metadata": {
    "collapsed": false,
    "pycharm": {
     "name": "#%%\n"
    }
   }
  },
  {
   "cell_type": "markdown",
   "source": [
    "#### HDDM_W"
   ],
   "metadata": {
    "collapsed": false
   }
  },
  {
   "cell_type": "code",
   "execution_count": 181,
   "outputs": [
    {
     "name": "stdout",
     "output_type": "stream",
     "text": [
      "Warning detected at index 3957\n",
      "Change detected at index 3958\n",
      "Warning detected at index 4199\n"
     ]
    }
   ],
   "source": [
    "drift_detector_with_labels.drift_detector_with_labels_test(data_to_compare=data_wine_alcohol,\n",
    "                                                           label_col=\"quality\",\n",
    "                                                           model=lgbm_model,\n",
    "                                                           test_name=\"HDDM_W\")"
   ],
   "metadata": {
    "collapsed": false,
    "pycharm": {
     "name": "#%%\n"
    }
   }
  },
  {
   "cell_type": "markdown",
   "source": [
    "### Drift Detector Multivariate: HDDDM & MD3\n",
    "#### HDDDM"
   ],
   "metadata": {
    "collapsed": false
   }
  },
  {
   "cell_type": "code",
   "execution_count": 182,
   "outputs": [
    {
     "name": "stdout",
     "output_type": "stream",
     "text": [
      "None\n"
     ]
    }
   ],
   "source": [
    "X_train = wine_dataset_train.loc[:, wine_dataset_train.columns != \"quality\"]\n",
    "X_corrupted = wine_dataset_corrupted_alcohol.loc[:, wine_dataset_corrupted_alcohol.columns != \"quality\"]\n",
    "drift_detector_multivariate_hdddm.hdddm_detect_drift(data_train=X_train,\n",
    "                                                     data_to_compare=X_corrupted,\n",
    "                                                     gamma_level=0.05)"
   ],
   "metadata": {
    "collapsed": false,
    "pycharm": {
     "name": "#%%\n"
    }
   }
  },
  {
   "cell_type": "markdown",
   "source": [
    "#### MD3"
   ],
   "metadata": {
    "collapsed": false
   }
  },
  {
   "cell_type": "code",
   "execution_count": 183,
   "outputs": [],
   "source": [
    "drift_detector_multivariate_md3.md3_detect_drift(data_train=wine_dataset_train,\n",
    "                                                 data_to_compare=wine_dataset_corrupted_alcohol,\n",
    "                                                 label_col=\"quality\")"
   ],
   "metadata": {
    "collapsed": false,
    "pycharm": {
     "name": "#%%\n"
    }
   }
  },
  {
   "cell_type": "markdown",
   "source": [
    "#### OLINDDA"
   ],
   "metadata": {
    "collapsed": false
   }
  },
  {
   "cell_type": "code",
   "execution_count": 184,
   "outputs": [
    {
     "name": "stdout",
     "output_type": "stream",
     "text": [
      "No drift or novelty detected in batch\n"
     ]
    },
    {
     "data": {
      "text/plain": "False"
     },
     "execution_count": 184,
     "metadata": {},
     "output_type": "execute_result"
    }
   ],
   "source": [
    "drift_detector_multivariate_ollindda.olindda_detect_drift(x_train_data=X_train,\n",
    "                                                          x_test_data=X_corrupted,\n",
    "                                                          n_clusters=6)"
   ],
   "metadata": {
    "collapsed": false,
    "pycharm": {
     "name": "#%%\n"
    }
   }
  },
  {
   "cell_type": "markdown",
   "source": [
    "## Virtual Concept Drift: decrease the total sulfur dioxide variance by 100"
   ],
   "metadata": {
    "collapsed": false
   }
  },
  {
   "cell_type": "markdown",
   "source": [
    "### Induce the drift"
   ],
   "metadata": {
    "collapsed": false
   }
  },
  {
   "cell_type": "code",
   "execution_count": 185,
   "outputs": [],
   "source": [
    "sigma = (wine_dataset_test[\"total sulfur dioxide\"].var() - 100)\n",
    "mu = wine_dataset_test[\"total sulfur dioxide\"].mean()\n",
    "wine_dataset_corrupted_dioxide = drift.drift_generator_univariate_change_to_normal(data=wine_dataset_test,\n",
    "                                                                                   column_name=\"total sulfur dioxide\",\n",
    "                                                                                   seed=202,\n",
    "                                                                                   mu=mu,\n",
    "                                                                                   sigma=sigma)"
   ],
   "metadata": {
    "collapsed": false,
    "pycharm": {
     "name": "#%%\n"
    }
   }
  },
  {
   "cell_type": "markdown",
   "source": [
    "### Deepcheck"
   ],
   "metadata": {
    "collapsed": false
   }
  },
  {
   "cell_type": "code",
   "execution_count": 186,
   "outputs": [
    {
     "name": "stdout",
     "output_type": "stream",
     "text": [
      "Warning total sulfur dioxide\n"
     ]
    }
   ],
   "source": [
    "deepcheck_detectors.deepcheck_detect_drift(data_train=wine_dataset_train,\n",
    "                                           data_to_compare=wine_dataset_corrupted_dioxide,\n",
    "                                           label_col=\"quality\",\n",
    "                                           cat_features=categorical_features_names,\n",
    "                                           model=lgbm_model,\n",
    "                                           test_type=\"feature_drift\")"
   ],
   "metadata": {
    "collapsed": false,
    "pycharm": {
     "name": "#%%\n"
    }
   }
  },
  {
   "cell_type": "code",
   "execution_count": 187,
   "outputs": [
    {
     "name": "stdout",
     "output_type": "stream",
     "text": [
      "Warning\n"
     ]
    }
   ],
   "source": [
    "deepcheck_detectors.deepcheck_detect_drift(data_train=wine_dataset_train,\n",
    "                                           data_to_compare=wine_dataset_corrupted_dioxide,\n",
    "                                           label_col=\"quality\",\n",
    "                                           cat_features=categorical_features_names,\n",
    "                                           model=lgbm_model,\n",
    "                                           test_type=\"prediction_drift\")"
   ],
   "metadata": {
    "collapsed": false,
    "pycharm": {
     "name": "#%%\n"
    }
   }
  },
  {
   "cell_type": "code",
   "execution_count": null,
   "outputs": [],
   "source": [
    "#deepcheck_detectors.deepcheck_detect_drift(data_train=wine_dataset_train,\n",
    "#                                           data_to_compare=wine_dataset_corrupted_dioxide,\n",
    "#                                           label_col=\"quality\",\n",
    "#                                           cat_features=categorical_features_names,\n",
    "#                                           model=lgbm_model,\n",
    "#                                           test_type=\"dataset_drift\")"
   ],
   "metadata": {
    "collapsed": false,
    "pycharm": {
     "name": "#%%\n"
    }
   }
  },
  {
   "cell_type": "markdown",
   "source": [
    "### Evidently AI\n"
   ],
   "metadata": {
    "collapsed": false
   }
  },
  {
   "cell_type": "code",
   "execution_count": 188,
   "outputs": [
    {
     "name": "stdout",
     "output_type": "stream",
     "text": [
      "Alarm total sulfur dioxide\n"
     ]
    }
   ],
   "source": [
    "evidently_ai_detectors.evidently_ai_detect_drift(data_train=wine_dataset_train,\n",
    "                                                 data_to_compare=wine_dataset_corrupted_dioxide,\n",
    "                                                 label_col=\"quality\",\n",
    "                                                 cat_features=categorical_features_names)"
   ],
   "metadata": {
    "collapsed": false,
    "pycharm": {
     "name": "#%%\n"
    }
   }
  },
  {
   "cell_type": "markdown",
   "source": [
    "### Tensorflow\n"
   ],
   "metadata": {
    "collapsed": false
   }
  },
  {
   "cell_type": "code",
   "execution_count": 189,
   "outputs": [
    {
     "data": {
      "text/plain": "                                                                      Anomaly short description  \\\nFeature name                                                                                      \n'total sulfur dioxide'  High approximate Jensen-Shannon divergence between training and serving   \n'residual sugar'        High approximate Jensen-Shannon divergence between training and serving   \n'sulphates'             High approximate Jensen-Shannon divergence between training and serving   \n'density'               High approximate Jensen-Shannon divergence between training and serving   \n'fixed acidity'         High approximate Jensen-Shannon divergence between training and serving   \n'alcohol'               High approximate Jensen-Shannon divergence between training and serving   \n'chlorides'             High approximate Jensen-Shannon divergence between training and serving   \n'free sulfur dioxide'   High approximate Jensen-Shannon divergence between training and serving   \n'pH'                    High approximate Jensen-Shannon divergence between training and serving   \n'citric acid'           High approximate Jensen-Shannon divergence between training and serving   \n'volatile acidity'      High approximate Jensen-Shannon divergence between training and serving   \n\n                                                                                                                                             Anomaly long description  \nFeature name                                                                                                                                                           \n'total sulfur dioxide'   The approximate Jensen-Shannon divergence between training and serving is 0.899405 (up to six significant digits), above the threshold 0.01.  \n'residual sugar'        The approximate Jensen-Shannon divergence between training and serving is 0.0556679 (up to six significant digits), above the threshold 0.01.  \n'sulphates'             The approximate Jensen-Shannon divergence between training and serving is 0.0382172 (up to six significant digits), above the threshold 0.01.  \n'density'               The approximate Jensen-Shannon divergence between training and serving is 0.0690513 (up to six significant digits), above the threshold 0.01.  \n'fixed acidity'          The approximate Jensen-Shannon divergence between training and serving is 0.026148 (up to six significant digits), above the threshold 0.01.  \n'alcohol'               The approximate Jensen-Shannon divergence between training and serving is 0.0151935 (up to six significant digits), above the threshold 0.01.  \n'chlorides'             The approximate Jensen-Shannon divergence between training and serving is 0.0295839 (up to six significant digits), above the threshold 0.01.  \n'free sulfur dioxide'   The approximate Jensen-Shannon divergence between training and serving is 0.0247023 (up to six significant digits), above the threshold 0.01.  \n'pH'                    The approximate Jensen-Shannon divergence between training and serving is 0.0249625 (up to six significant digits), above the threshold 0.01.  \n'citric acid'           The approximate Jensen-Shannon divergence between training and serving is 0.0356787 (up to six significant digits), above the threshold 0.01.  \n'volatile acidity'      The approximate Jensen-Shannon divergence between training and serving is 0.0318468 (up to six significant digits), above the threshold 0.01.  ",
      "text/html": "<div>\n<style scoped>\n    .dataframe tbody tr th:only-of-type {\n        vertical-align: middle;\n    }\n\n    .dataframe tbody tr th {\n        vertical-align: top;\n    }\n\n    .dataframe thead th {\n        text-align: right;\n    }\n</style>\n<table border=\"1\" class=\"dataframe\">\n  <thead>\n    <tr style=\"text-align: right;\">\n      <th></th>\n      <th>Anomaly short description</th>\n      <th>Anomaly long description</th>\n    </tr>\n    <tr>\n      <th>Feature name</th>\n      <th></th>\n      <th></th>\n    </tr>\n  </thead>\n  <tbody>\n    <tr>\n      <th>'total sulfur dioxide'</th>\n      <td>High approximate Jensen-Shannon divergence between training and serving</td>\n      <td>The approximate Jensen-Shannon divergence between training and serving is 0.899405 (up to six significant digits), above the threshold 0.01.</td>\n    </tr>\n    <tr>\n      <th>'residual sugar'</th>\n      <td>High approximate Jensen-Shannon divergence between training and serving</td>\n      <td>The approximate Jensen-Shannon divergence between training and serving is 0.0556679 (up to six significant digits), above the threshold 0.01.</td>\n    </tr>\n    <tr>\n      <th>'sulphates'</th>\n      <td>High approximate Jensen-Shannon divergence between training and serving</td>\n      <td>The approximate Jensen-Shannon divergence between training and serving is 0.0382172 (up to six significant digits), above the threshold 0.01.</td>\n    </tr>\n    <tr>\n      <th>'density'</th>\n      <td>High approximate Jensen-Shannon divergence between training and serving</td>\n      <td>The approximate Jensen-Shannon divergence between training and serving is 0.0690513 (up to six significant digits), above the threshold 0.01.</td>\n    </tr>\n    <tr>\n      <th>'fixed acidity'</th>\n      <td>High approximate Jensen-Shannon divergence between training and serving</td>\n      <td>The approximate Jensen-Shannon divergence between training and serving is 0.026148 (up to six significant digits), above the threshold 0.01.</td>\n    </tr>\n    <tr>\n      <th>'alcohol'</th>\n      <td>High approximate Jensen-Shannon divergence between training and serving</td>\n      <td>The approximate Jensen-Shannon divergence between training and serving is 0.0151935 (up to six significant digits), above the threshold 0.01.</td>\n    </tr>\n    <tr>\n      <th>'chlorides'</th>\n      <td>High approximate Jensen-Shannon divergence between training and serving</td>\n      <td>The approximate Jensen-Shannon divergence between training and serving is 0.0295839 (up to six significant digits), above the threshold 0.01.</td>\n    </tr>\n    <tr>\n      <th>'free sulfur dioxide'</th>\n      <td>High approximate Jensen-Shannon divergence between training and serving</td>\n      <td>The approximate Jensen-Shannon divergence between training and serving is 0.0247023 (up to six significant digits), above the threshold 0.01.</td>\n    </tr>\n    <tr>\n      <th>'pH'</th>\n      <td>High approximate Jensen-Shannon divergence between training and serving</td>\n      <td>The approximate Jensen-Shannon divergence between training and serving is 0.0249625 (up to six significant digits), above the threshold 0.01.</td>\n    </tr>\n    <tr>\n      <th>'citric acid'</th>\n      <td>High approximate Jensen-Shannon divergence between training and serving</td>\n      <td>The approximate Jensen-Shannon divergence between training and serving is 0.0356787 (up to six significant digits), above the threshold 0.01.</td>\n    </tr>\n    <tr>\n      <th>'volatile acidity'</th>\n      <td>High approximate Jensen-Shannon divergence between training and serving</td>\n      <td>The approximate Jensen-Shannon divergence between training and serving is 0.0318468 (up to six significant digits), above the threshold 0.01.</td>\n    </tr>\n  </tbody>\n</table>\n</div>"
     },
     "metadata": {},
     "output_type": "display_data"
    }
   ],
   "source": [
    "tensorflow_detectors.tensorflow_detect_drift(data_train=wine_dataset_train,\n",
    "                                             data_to_compare=wine_dataset_corrupted_dioxide,\n",
    "                                             label_col=\"quality\")"
   ],
   "metadata": {
    "collapsed": false,
    "pycharm": {
     "name": "#%%\n"
    }
   }
  },
  {
   "cell_type": "markdown",
   "source": [
    "### Drift Detectors with Labels"
   ],
   "metadata": {
    "collapsed": false
   }
  },
  {
   "cell_type": "code",
   "execution_count": 190,
   "outputs": [],
   "source": [
    "data_wine_dioxide = pd.concat([wine_dataset_train, wine_dataset_corrupted_dioxide], axis=0)\n"
   ],
   "metadata": {
    "collapsed": false,
    "pycharm": {
     "name": "#%%\n"
    }
   }
  },
  {
   "cell_type": "markdown",
   "source": [
    "#### EDDM\n"
   ],
   "metadata": {
    "collapsed": false
   }
  },
  {
   "cell_type": "code",
   "execution_count": 191,
   "outputs": [
    {
     "name": "stdout",
     "output_type": "stream",
     "text": [
      "Change detected at index 4109\n",
      "Change detected at index 4262\n",
      "Warning detected at index 4461\n",
      "Change detected at index 6492\n"
     ]
    }
   ],
   "source": [
    "drift_detector_with_labels.drift_detector_with_labels_test(data_to_compare=data_wine_dioxide,\n",
    "                                                           label_col=\"quality\",\n",
    "                                                           model=lgbm_model,\n",
    "                                                           test_name=\"EDDM\")"
   ],
   "metadata": {
    "collapsed": false,
    "pycharm": {
     "name": "#%%\n"
    }
   }
  },
  {
   "cell_type": "markdown",
   "source": [
    "#### ADWIN\n"
   ],
   "metadata": {
    "collapsed": false
   }
  },
  {
   "cell_type": "code",
   "execution_count": 192,
   "outputs": [
    {
     "name": "stdout",
     "output_type": "stream",
     "text": [
      "Change detected at index 4063\n",
      "Change detected at index 4095\n",
      "Change detected at index 4159\n",
      "Change detected at index 4191\n",
      "Change detected at index 4223\n",
      "Change detected at index 4479\n",
      "Change detected at index 5119\n"
     ]
    }
   ],
   "source": [
    "drift_detector_with_labels.drift_detector_with_labels_test(data_to_compare=data_wine_dioxide,\n",
    "                                                           label_col=\"quality\",\n",
    "                                                           model=lgbm_model,\n",
    "                                                           test_name=\"ADWIN\")"
   ],
   "metadata": {
    "collapsed": false,
    "pycharm": {
     "name": "#%%\n"
    }
   }
  },
  {
   "cell_type": "markdown",
   "source": [
    "#### HDDM_W\n"
   ],
   "metadata": {
    "collapsed": false
   }
  },
  {
   "cell_type": "code",
   "execution_count": 193,
   "outputs": [
    {
     "name": "stdout",
     "output_type": "stream",
     "text": [
      "Warning detected at index 5965\n"
     ]
    }
   ],
   "source": [
    "drift_detector_with_labels.drift_detector_with_labels_test(data_to_compare=data_wine_dioxide,\n",
    "                                                           label_col=\"quality\",\n",
    "                                                           model=lgbm_model,\n",
    "                                                           test_name=\"HDDM_W\")"
   ],
   "metadata": {
    "collapsed": false,
    "pycharm": {
     "name": "#%%\n"
    }
   }
  },
  {
   "cell_type": "markdown",
   "source": [
    "### Drift Detector Multivariate: HDDDM & MD3\n"
   ],
   "metadata": {
    "collapsed": false
   }
  },
  {
   "cell_type": "markdown",
   "source": [
    "#### HDDDM\n"
   ],
   "metadata": {
    "collapsed": false
   }
  },
  {
   "cell_type": "code",
   "execution_count": 194,
   "outputs": [
    {
     "name": "stdout",
     "output_type": "stream",
     "text": [
      "None\n"
     ]
    }
   ],
   "source": [
    "X_train = wine_dataset_train.loc[:, wine_dataset_train.columns != \"quality\"]\n",
    "X_corrupted = wine_dataset_corrupted_dioxide.loc[:, wine_dataset_corrupted_dioxide.columns != \"quality\"]\n",
    "drift_detector_multivariate_hdddm.hdddm_detect_drift(data_train=X_train,\n",
    "                                                     data_to_compare=X_corrupted,\n",
    "                                                     gamma_level=0.05)"
   ],
   "metadata": {
    "collapsed": false,
    "pycharm": {
     "name": "#%%\n"
    }
   }
  },
  {
   "cell_type": "markdown",
   "source": [
    "#### MD3\n"
   ],
   "metadata": {
    "collapsed": false
   }
  },
  {
   "cell_type": "code",
   "execution_count": 195,
   "outputs": [
    {
     "name": "stdout",
     "output_type": "stream",
     "text": [
      "Alarm, drift Detected\n"
     ]
    }
   ],
   "source": [
    "drift_detector_multivariate_md3.md3_detect_drift(data_train=wine_dataset_train,\n",
    "                                                 data_to_compare=wine_dataset_corrupted_dioxide,\n",
    "                                                 label_col=\"quality\")"
   ],
   "metadata": {
    "collapsed": false,
    "pycharm": {
     "name": "#%%\n"
    }
   }
  },
  {
   "cell_type": "markdown",
   "source": [
    "#### OLINDDA"
   ],
   "metadata": {
    "collapsed": false
   }
  },
  {
   "cell_type": "code",
   "execution_count": 196,
   "outputs": [],
   "source": [
    "X_corrupted = X_corrupted.reset_index(drop=True)"
   ],
   "metadata": {
    "collapsed": false,
    "pycharm": {
     "name": "#%%\n"
    }
   }
  },
  {
   "cell_type": "code",
   "execution_count": 197,
   "outputs": [
    {
     "name": "stdout",
     "output_type": "stream",
     "text": [
      "Novelty identified for clusters 1\n"
     ]
    },
    {
     "data": {
      "text/plain": "True"
     },
     "execution_count": 197,
     "metadata": {},
     "output_type": "execute_result"
    }
   ],
   "source": [
    "drift_detector_multivariate_ollindda.olindda_detect_drift(x_train_data=X_train,\n",
    "                                                          x_test_data=X_corrupted,\n",
    "                                                          n_clusters=6)"
   ],
   "metadata": {
    "collapsed": false,
    "pycharm": {
     "name": "#%%\n"
    }
   }
  },
  {
   "cell_type": "markdown",
   "source": [
    "## Virtual Concept Drift: swap values of the wine_type column"
   ],
   "metadata": {
    "collapsed": false
   }
  },
  {
   "cell_type": "markdown",
   "source": [
    "### Induce the drift"
   ],
   "metadata": {
    "collapsed": false
   }
  },
  {
   "cell_type": "code",
   "execution_count": 198,
   "outputs": [],
   "source": [
    "wine_dataset_corrupted_wine_type = drift.drift_generator_univariate_categorical_change(data=wine_dataset_test,\n",
    "                                                                                       column_name='wine_type',\n",
    "                                                                                       value1=\"1\", value2=\"0\")"
   ],
   "metadata": {
    "collapsed": false,
    "pycharm": {
     "name": "#%%\n"
    }
   }
  },
  {
   "cell_type": "markdown",
   "source": [
    "### Deepcheck\n"
   ],
   "metadata": {
    "collapsed": false
   }
  },
  {
   "cell_type": "code",
   "execution_count": 199,
   "outputs": [
    {
     "name": "stdout",
     "output_type": "stream",
     "text": [
      "Alarm wine_type\n"
     ]
    }
   ],
   "source": [
    "deepcheck_detectors.deepcheck_detect_drift(data_train=wine_dataset_train,\n",
    "                                           data_to_compare=wine_dataset_corrupted_wine_type,\n",
    "                                           label_col=\"quality\",\n",
    "                                           cat_features=categorical_features_names,\n",
    "                                           model=lgbm_model,\n",
    "                                           test_type=\"feature_drift\")"
   ],
   "metadata": {
    "collapsed": false,
    "pycharm": {
     "name": "#%%\n"
    }
   }
  },
  {
   "cell_type": "code",
   "execution_count": 200,
   "outputs": [
    {
     "name": "stdout",
     "output_type": "stream",
     "text": [
      "No drift detected\n"
     ]
    }
   ],
   "source": [
    "wine_dataset_corrupted_wine_type['wine_type'] = wine_dataset_corrupted_wine_type['wine_type'].astype(int)\n",
    "deepcheck_detectors.deepcheck_detect_drift(data_train=wine_dataset_train,\n",
    "                                           data_to_compare=wine_dataset_corrupted_wine_type,\n",
    "                                           label_col=\"quality\",\n",
    "                                           cat_features=categorical_features_names,\n",
    "                                           model=lgbm_model,\n",
    "                                           test_type=\"prediction_drift\")"
   ],
   "metadata": {
    "collapsed": false,
    "pycharm": {
     "name": "#%%\n"
    }
   }
  },
  {
   "cell_type": "code",
   "execution_count": null,
   "outputs": [],
   "source": [
    "#deepcheck_detectors.deepcheck_detect_drift(data_train=wine_dataset_train,\n",
    "#                                           data_to_compare=wine_dataset_corrupted_wine_type,\n",
    "#                                           label_col=\"quality\",\n",
    "#                                           cat_features=categorical_features_names,\n",
    "#                                           model=lgbm_model,\n",
    "#                                           test_type=\"dataset_drift\")"
   ],
   "metadata": {
    "collapsed": false,
    "pycharm": {
     "name": "#%%\n"
    }
   }
  },
  {
   "cell_type": "markdown",
   "source": [
    "### Evidently AI"
   ],
   "metadata": {
    "collapsed": false
   }
  },
  {
   "cell_type": "code",
   "execution_count": 201,
   "outputs": [
    {
     "name": "stdout",
     "output_type": "stream",
     "text": [
      "Alarm wine_type\n"
     ]
    }
   ],
   "source": [
    "evidently_ai_detectors.evidently_ai_detect_drift(data_train=wine_dataset_train,\n",
    "                                                 data_to_compare=wine_dataset_corrupted_wine_type,\n",
    "                                                 label_col=\"quality\",\n",
    "                                                 cat_features=categorical_features_names)"
   ],
   "metadata": {
    "collapsed": false,
    "pycharm": {
     "name": "#%%\n"
    }
   }
  },
  {
   "cell_type": "markdown",
   "source": [
    "### Tensorflow\n"
   ],
   "metadata": {
    "collapsed": false
   }
  },
  {
   "cell_type": "code",
   "execution_count": 202,
   "outputs": [
    {
     "data": {
      "text/plain": "                                                                      Anomaly short description  \\\nFeature name                                                                                      \n'wine_type'             High approximate Jensen-Shannon divergence between training and serving   \n'pH'                    High approximate Jensen-Shannon divergence between training and serving   \n'total sulfur dioxide'  High approximate Jensen-Shannon divergence between training and serving   \n'fixed acidity'         High approximate Jensen-Shannon divergence between training and serving   \n'alcohol'               High approximate Jensen-Shannon divergence between training and serving   \n'free sulfur dioxide'   High approximate Jensen-Shannon divergence between training and serving   \n'citric acid'           High approximate Jensen-Shannon divergence between training and serving   \n'sulphates'             High approximate Jensen-Shannon divergence between training and serving   \n'volatile acidity'      High approximate Jensen-Shannon divergence between training and serving   \n'residual sugar'        High approximate Jensen-Shannon divergence between training and serving   \n'density'               High approximate Jensen-Shannon divergence between training and serving   \n'chlorides'             High approximate Jensen-Shannon divergence between training and serving   \n\n                                                                                                                                             Anomaly long description  \nFeature name                                                                                                                                                           \n'wine_type'              The approximate Jensen-Shannon divergence between training and serving is 0.195302 (up to six significant digits), above the threshold 0.01.  \n'pH'                    The approximate Jensen-Shannon divergence between training and serving is 0.0249625 (up to six significant digits), above the threshold 0.01.  \n'total sulfur dioxide'  The approximate Jensen-Shannon divergence between training and serving is 0.0127563 (up to six significant digits), above the threshold 0.01.  \n'fixed acidity'          The approximate Jensen-Shannon divergence between training and serving is 0.026148 (up to six significant digits), above the threshold 0.01.  \n'alcohol'               The approximate Jensen-Shannon divergence between training and serving is 0.0151935 (up to six significant digits), above the threshold 0.01.  \n'free sulfur dioxide'   The approximate Jensen-Shannon divergence between training and serving is 0.0247023 (up to six significant digits), above the threshold 0.01.  \n'citric acid'           The approximate Jensen-Shannon divergence between training and serving is 0.0356787 (up to six significant digits), above the threshold 0.01.  \n'sulphates'             The approximate Jensen-Shannon divergence between training and serving is 0.0382172 (up to six significant digits), above the threshold 0.01.  \n'volatile acidity'      The approximate Jensen-Shannon divergence between training and serving is 0.0318468 (up to six significant digits), above the threshold 0.01.  \n'residual sugar'        The approximate Jensen-Shannon divergence between training and serving is 0.0556679 (up to six significant digits), above the threshold 0.01.  \n'density'               The approximate Jensen-Shannon divergence between training and serving is 0.0690513 (up to six significant digits), above the threshold 0.01.  \n'chlorides'             The approximate Jensen-Shannon divergence between training and serving is 0.0295839 (up to six significant digits), above the threshold 0.01.  ",
      "text/html": "<div>\n<style scoped>\n    .dataframe tbody tr th:only-of-type {\n        vertical-align: middle;\n    }\n\n    .dataframe tbody tr th {\n        vertical-align: top;\n    }\n\n    .dataframe thead th {\n        text-align: right;\n    }\n</style>\n<table border=\"1\" class=\"dataframe\">\n  <thead>\n    <tr style=\"text-align: right;\">\n      <th></th>\n      <th>Anomaly short description</th>\n      <th>Anomaly long description</th>\n    </tr>\n    <tr>\n      <th>Feature name</th>\n      <th></th>\n      <th></th>\n    </tr>\n  </thead>\n  <tbody>\n    <tr>\n      <th>'wine_type'</th>\n      <td>High approximate Jensen-Shannon divergence between training and serving</td>\n      <td>The approximate Jensen-Shannon divergence between training and serving is 0.195302 (up to six significant digits), above the threshold 0.01.</td>\n    </tr>\n    <tr>\n      <th>'pH'</th>\n      <td>High approximate Jensen-Shannon divergence between training and serving</td>\n      <td>The approximate Jensen-Shannon divergence between training and serving is 0.0249625 (up to six significant digits), above the threshold 0.01.</td>\n    </tr>\n    <tr>\n      <th>'total sulfur dioxide'</th>\n      <td>High approximate Jensen-Shannon divergence between training and serving</td>\n      <td>The approximate Jensen-Shannon divergence between training and serving is 0.0127563 (up to six significant digits), above the threshold 0.01.</td>\n    </tr>\n    <tr>\n      <th>'fixed acidity'</th>\n      <td>High approximate Jensen-Shannon divergence between training and serving</td>\n      <td>The approximate Jensen-Shannon divergence between training and serving is 0.026148 (up to six significant digits), above the threshold 0.01.</td>\n    </tr>\n    <tr>\n      <th>'alcohol'</th>\n      <td>High approximate Jensen-Shannon divergence between training and serving</td>\n      <td>The approximate Jensen-Shannon divergence between training and serving is 0.0151935 (up to six significant digits), above the threshold 0.01.</td>\n    </tr>\n    <tr>\n      <th>'free sulfur dioxide'</th>\n      <td>High approximate Jensen-Shannon divergence between training and serving</td>\n      <td>The approximate Jensen-Shannon divergence between training and serving is 0.0247023 (up to six significant digits), above the threshold 0.01.</td>\n    </tr>\n    <tr>\n      <th>'citric acid'</th>\n      <td>High approximate Jensen-Shannon divergence between training and serving</td>\n      <td>The approximate Jensen-Shannon divergence between training and serving is 0.0356787 (up to six significant digits), above the threshold 0.01.</td>\n    </tr>\n    <tr>\n      <th>'sulphates'</th>\n      <td>High approximate Jensen-Shannon divergence between training and serving</td>\n      <td>The approximate Jensen-Shannon divergence between training and serving is 0.0382172 (up to six significant digits), above the threshold 0.01.</td>\n    </tr>\n    <tr>\n      <th>'volatile acidity'</th>\n      <td>High approximate Jensen-Shannon divergence between training and serving</td>\n      <td>The approximate Jensen-Shannon divergence between training and serving is 0.0318468 (up to six significant digits), above the threshold 0.01.</td>\n    </tr>\n    <tr>\n      <th>'residual sugar'</th>\n      <td>High approximate Jensen-Shannon divergence between training and serving</td>\n      <td>The approximate Jensen-Shannon divergence between training and serving is 0.0556679 (up to six significant digits), above the threshold 0.01.</td>\n    </tr>\n    <tr>\n      <th>'density'</th>\n      <td>High approximate Jensen-Shannon divergence between training and serving</td>\n      <td>The approximate Jensen-Shannon divergence between training and serving is 0.0690513 (up to six significant digits), above the threshold 0.01.</td>\n    </tr>\n    <tr>\n      <th>'chlorides'</th>\n      <td>High approximate Jensen-Shannon divergence between training and serving</td>\n      <td>The approximate Jensen-Shannon divergence between training and serving is 0.0295839 (up to six significant digits), above the threshold 0.01.</td>\n    </tr>\n  </tbody>\n</table>\n</div>"
     },
     "metadata": {},
     "output_type": "display_data"
    }
   ],
   "source": [
    "tensorflow_detectors.tensorflow_detect_drift(data_train=wine_dataset_train,\n",
    "                                             data_to_compare=wine_dataset_corrupted_wine_type,\n",
    "                                             label_col=\"quality\")"
   ],
   "metadata": {
    "collapsed": false,
    "pycharm": {
     "name": "#%%\n"
    }
   }
  },
  {
   "cell_type": "markdown",
   "source": [
    "### Drift Detectors with Labels\n"
   ],
   "metadata": {
    "collapsed": false
   }
  },
  {
   "cell_type": "code",
   "execution_count": 203,
   "outputs": [],
   "source": [
    "data_wine_wine_type = pd.concat([wine_dataset_train, wine_dataset_corrupted_wine_type], axis=0)\n"
   ],
   "metadata": {
    "collapsed": false,
    "pycharm": {
     "name": "#%%\n"
    }
   }
  },
  {
   "cell_type": "markdown",
   "source": [
    "#### EDDM\n"
   ],
   "metadata": {
    "collapsed": false
   }
  },
  {
   "cell_type": "code",
   "execution_count": 204,
   "outputs": [
    {
     "name": "stdout",
     "output_type": "stream",
     "text": [
      "Change detected at index 4091\n",
      "Change detected at index 4244\n",
      "Change detected at index 4495\n",
      "Change detected at index 4737\n",
      "Change detected at index 5020\n",
      "Change detected at index 5243\n",
      "Change detected at index 5449\n",
      "Change detected at index 5774\n",
      "Change detected at index 6022\n",
      "Warning detected at index 6275\n",
      "Change detected at index 6337\n"
     ]
    }
   ],
   "source": [
    "drift_detector_with_labels.drift_detector_with_labels_test(data_to_compare=data_wine_wine_type,\n",
    "                                                           label_col=\"quality\",\n",
    "                                                           model=lgbm_model,\n",
    "                                                           test_name=\"EDDM\")"
   ],
   "metadata": {
    "collapsed": false,
    "pycharm": {
     "name": "#%%\n"
    }
   }
  },
  {
   "cell_type": "markdown",
   "source": [
    "#### ADWIN\n"
   ],
   "metadata": {
    "collapsed": false
   }
  },
  {
   "cell_type": "code",
   "execution_count": 205,
   "outputs": [
    {
     "name": "stdout",
     "output_type": "stream",
     "text": [
      "Change detected at index 4031\n",
      "Change detected at index 4063\n",
      "Change detected at index 4095\n",
      "Change detected at index 4127\n",
      "Change detected at index 4159\n",
      "Change detected at index 4191\n",
      "Change detected at index 4223\n",
      "Change detected at index 4479\n"
     ]
    }
   ],
   "source": [
    "drift_detector_with_labels.drift_detector_with_labels_test(data_to_compare=data_wine_wine_type,\n",
    "                                                           label_col=\"quality\",\n",
    "                                                           model=lgbm_model,\n",
    "                                                           test_name=\"ADWIN\")"
   ],
   "metadata": {
    "collapsed": false,
    "pycharm": {
     "name": "#%%\n"
    }
   }
  },
  {
   "cell_type": "markdown",
   "source": [
    "#### HDDM_W\n"
   ],
   "metadata": {
    "collapsed": false
   }
  },
  {
   "cell_type": "code",
   "execution_count": 206,
   "outputs": [],
   "source": [
    "drift_detector_with_labels.drift_detector_with_labels_test(data_to_compare=data_wine_wine_type,\n",
    "                                                           label_col=\"quality\",\n",
    "                                                           model=lgbm_model,\n",
    "                                                           test_name=\"HDDM_W\")"
   ],
   "metadata": {
    "collapsed": false,
    "pycharm": {
     "name": "#%%\n"
    }
   }
  },
  {
   "cell_type": "markdown",
   "source": [
    "### Drift Detector Multivariate: HDDDM & MD3\n",
    "#### HDDDM\n"
   ],
   "metadata": {
    "collapsed": false
   }
  },
  {
   "cell_type": "code",
   "execution_count": 207,
   "outputs": [
    {
     "name": "stdout",
     "output_type": "stream",
     "text": [
      "None\n"
     ]
    }
   ],
   "source": [
    "X_train = wine_dataset_train.loc[:, wine_dataset_train.columns != \"quality\"]\n",
    "X_corrupted = wine_dataset_corrupted_wine_type.loc[:, wine_dataset_corrupted_wine_type.columns != \"quality\"]\n",
    "drift_detector_multivariate_hdddm.hdddm_detect_drift(data_train=X_train,\n",
    "                                                     data_to_compare=X_corrupted,\n",
    "                                                     gamma_level=0.05)"
   ],
   "metadata": {
    "collapsed": false,
    "pycharm": {
     "name": "#%%\n"
    }
   }
  },
  {
   "cell_type": "markdown",
   "source": [
    "#### MD3"
   ],
   "metadata": {
    "collapsed": false
   }
  },
  {
   "cell_type": "code",
   "execution_count": 208,
   "outputs": [
    {
     "name": "stdout",
     "output_type": "stream",
     "text": [
      "Alarm, drift Detected\n"
     ]
    }
   ],
   "source": [
    "drift_detector_multivariate_md3.md3_detect_drift(data_train=wine_dataset_train,\n",
    "                                                 data_to_compare=wine_dataset_corrupted_wine_type,\n",
    "                                                 label_col=\"quality\")"
   ],
   "metadata": {
    "collapsed": false,
    "pycharm": {
     "name": "#%%\n"
    }
   }
  },
  {
   "cell_type": "markdown",
   "source": [
    "#### OLINDDA"
   ],
   "metadata": {
    "collapsed": false
   }
  },
  {
   "cell_type": "code",
   "execution_count": 209,
   "outputs": [
    {
     "name": "stdout",
     "output_type": "stream",
     "text": [
      "No drift or novelty detected in batch\n"
     ]
    },
    {
     "data": {
      "text/plain": "False"
     },
     "execution_count": 209,
     "metadata": {},
     "output_type": "execute_result"
    }
   ],
   "source": [
    "drift_detector_multivariate_ollindda.olindda_detect_drift(x_train_data=X_train,\n",
    "                                                          x_test_data=X_corrupted,\n",
    "                                                          n_clusters=6)"
   ],
   "metadata": {
    "collapsed": false,
    "pycharm": {
     "name": "#%%\n"
    }
   }
  },
  {
   "cell_type": "markdown",
   "source": [
    "## Gradual Virtual Concept Drift: increase sulphates values by 0.1\n"
   ],
   "metadata": {
    "collapsed": false
   }
  },
  {
   "cell_type": "markdown",
   "source": [
    "### Deepcheck"
   ],
   "metadata": {
    "collapsed": false,
    "pycharm": {
     "name": "#%% md\n"
    }
   }
  },
  {
   "cell_type": "code",
   "execution_count": 210,
   "outputs": [
    {
     "name": "stdout",
     "output_type": "stream",
     "text": [
      "Day 0 :\n",
      "Warning sulphates\n",
      "Day 1 :\n",
      "Alarm sulphates\n",
      "Day 2 :\n",
      "Alarm sulphates\n",
      "Day 3 :\n",
      "Alarm sulphates\n",
      "Day 4 :\n",
      "Alarm sulphates\n",
      "Day 5 :\n",
      "Alarm sulphates\n"
     ]
    }
   ],
   "source": [
    "deepcheck_detectors.deepcheck_detect_gradual_drift(data_train=wine_dataset_train,\n",
    "                                                   data_to_compare=wine_dataset_test,\n",
    "                                                   label_col=\"quality\",\n",
    "                                                   cat_features=categorical_features_names,\n",
    "                                                   model=lgbm_model,\n",
    "                                                   action=\"increase\",\n",
    "                                                   value_drift=0.1,\n",
    "                                                   column_name=\"sulphates\",\n",
    "                                                   test_type=\"feature_drift\",\n",
    "                                                   nb_sample=100,\n",
    "                                                   nb_days=5)"
   ],
   "metadata": {
    "collapsed": false,
    "pycharm": {
     "name": "#%%\n"
    }
   }
  },
  {
   "cell_type": "code",
   "execution_count": 211,
   "outputs": [
    {
     "name": "stdout",
     "output_type": "stream",
     "text": [
      "Day 0 :\n",
      "No drift detected\n",
      "Day 1 :\n",
      "No drift detected\n",
      "Day 2 :\n",
      "No drift detected\n",
      "Day 3 :\n",
      "No drift detected\n",
      "Day 4 :\n",
      "No drift detected\n",
      "Day 5 :\n",
      "No drift detected\n"
     ]
    }
   ],
   "source": [
    "deepcheck_detectors.deepcheck_detect_gradual_drift(data_train=wine_dataset_train,\n",
    "                                                   data_to_compare=wine_dataset_test,\n",
    "                                                   label_col=\"quality\",\n",
    "                                                   cat_features=categorical_features_names,\n",
    "                                                   model=lgbm_model,\n",
    "                                                   action=\"increase\",\n",
    "                                                   value_drift=0.1,\n",
    "                                                   column_name=\"sulphates\",\n",
    "                                                   test_type=\"prediction_drift\",\n",
    "                                                   nb_sample=100,\n",
    "                                                   nb_days=5)"
   ],
   "metadata": {
    "collapsed": false,
    "pycharm": {
     "name": "#%%\n"
    }
   }
  },
  {
   "cell_type": "code",
   "execution_count": null,
   "outputs": [],
   "source": [
    "#deepcheck_detectors.deepcheck_detect_gradual_drift(data_train=wine_dataset_train,\n",
    "#                                                  data_to_compare=wine_dataset_test,\n",
    "#                                                   label_col=\"quality\",\n",
    "#                                                   cat_features=categorical_features_names,\n",
    "#                                                   model=lgbm_model,\n",
    "#                                                   action=\"increase\",\n",
    "#                                                   value_drift=0.1,\n",
    "#                                                   column_name=\"sulphates\",\n",
    "#                                                   test_type=\"dataset_drift\",\n",
    "#                                                   nb_sample=100,\n",
    "#                                                   nb_days=5)"
   ],
   "metadata": {
    "collapsed": false,
    "pycharm": {
     "name": "#%%\n"
    }
   }
  },
  {
   "cell_type": "markdown",
   "source": [
    "### Evidently AI\n"
   ],
   "metadata": {
    "collapsed": false
   }
  },
  {
   "cell_type": "code",
   "execution_count": 212,
   "outputs": [
    {
     "name": "stdout",
     "output_type": "stream",
     "text": [
      "Day 0 :\n",
      "Alarm fixed acidity\n",
      "Alarm citric acid\n",
      "Alarm chlorides\n",
      "Alarm pH\n",
      "Alarm sulphates\n",
      "Alarm alcohol\n",
      "Day 1 :\n",
      "Alarm fixed acidity\n",
      "Alarm volatile acidity\n",
      "Alarm citric acid\n",
      "Alarm residual sugar\n",
      "Alarm chlorides\n",
      "Alarm free sulfur dioxide\n",
      "Alarm total sulfur dioxide\n",
      "Alarm density\n",
      "Alarm pH\n",
      "Alarm sulphates\n",
      "Alarm alcohol\n",
      "Day 2 :\n",
      "Alarm citric acid\n",
      "Alarm chlorides\n",
      "Alarm sulphates\n",
      "Alarm alcohol\n",
      "Day 3 :\n",
      "Alarm citric acid\n",
      "Alarm residual sugar\n",
      "Alarm chlorides\n",
      "Alarm free sulfur dioxide\n",
      "Alarm total sulfur dioxide\n",
      "Alarm density\n",
      "Alarm sulphates\n",
      "Alarm alcohol\n",
      "Day 4 :\n",
      "Alarm fixed acidity\n",
      "Alarm volatile acidity\n",
      "Alarm citric acid\n",
      "Alarm chlorides\n",
      "Alarm total sulfur dioxide\n",
      "Alarm pH\n",
      "Alarm sulphates\n",
      "Alarm alcohol\n",
      "Day 5 :\n",
      "Alarm fixed acidity\n",
      "Alarm citric acid\n",
      "Alarm total sulfur dioxide\n",
      "Alarm pH\n",
      "Alarm sulphates\n"
     ]
    }
   ],
   "source": [
    "evidently_ai_detectors.evidently_ai_detect_gradual_drift(data_train=wine_dataset_train,\n",
    "                                                         data_to_compare=wine_dataset_test,\n",
    "                                                         label_col=\"quality\",\n",
    "                                                         cat_features=categorical_features_names,\n",
    "                                                         action=\"increase\",\n",
    "                                                         value_drift=0.1,\n",
    "                                                         column_name=\"sulphates\",\n",
    "                                                         nb_sample=100,\n",
    "                                                         nb_days=5)"
   ],
   "metadata": {
    "collapsed": false,
    "pycharm": {
     "name": "#%%\n"
    }
   }
  },
  {
   "cell_type": "markdown",
   "source": [
    "### Tensorflow\n"
   ],
   "metadata": {
    "collapsed": false
   }
  },
  {
   "cell_type": "code",
   "execution_count": 213,
   "outputs": [
    {
     "name": "stdout",
     "output_type": "stream",
     "text": [
      "Day 0 :\n"
     ]
    },
    {
     "data": {
      "text/plain": "                                                                      Anomaly short description  \\\nFeature name                                                                                      \n'chlorides'             High approximate Jensen-Shannon divergence between training and serving   \n'sulphates'             High approximate Jensen-Shannon divergence between training and serving   \n'density'               High approximate Jensen-Shannon divergence between training and serving   \n'residual sugar'        High approximate Jensen-Shannon divergence between training and serving   \n'total sulfur dioxide'  High approximate Jensen-Shannon divergence between training and serving   \n'fixed acidity'         High approximate Jensen-Shannon divergence between training and serving   \n'alcohol'               High approximate Jensen-Shannon divergence between training and serving   \n'free sulfur dioxide'   High approximate Jensen-Shannon divergence between training and serving   \n'citric acid'           High approximate Jensen-Shannon divergence between training and serving   \n'pH'                    High approximate Jensen-Shannon divergence between training and serving   \n'volatile acidity'      High approximate Jensen-Shannon divergence between training and serving   \n\n                                                                                                                                             Anomaly long description  \nFeature name                                                                                                                                                           \n'chlorides'              The approximate Jensen-Shannon divergence between training and serving is 0.186419 (up to six significant digits), above the threshold 0.01.  \n'sulphates'                     The approximate Jensen-Shannon divergence between training and serving is 1 (up to six significant digits), above the threshold 0.01.  \n'density'                The approximate Jensen-Shannon divergence between training and serving is 0.122935 (up to six significant digits), above the threshold 0.01.  \n'residual sugar'          The approximate Jensen-Shannon divergence between training and serving is 0.15975 (up to six significant digits), above the threshold 0.01.  \n'total sulfur dioxide'  The approximate Jensen-Shannon divergence between training and serving is 0.0271687 (up to six significant digits), above the threshold 0.01.  \n'fixed acidity'         The approximate Jensen-Shannon divergence between training and serving is 0.0660109 (up to six significant digits), above the threshold 0.01.  \n'alcohol'               The approximate Jensen-Shannon divergence between training and serving is 0.0541923 (up to six significant digits), above the threshold 0.01.  \n'free sulfur dioxide'   The approximate Jensen-Shannon divergence between training and serving is 0.0343012 (up to six significant digits), above the threshold 0.01.  \n'citric acid'           The approximate Jensen-Shannon divergence between training and serving is 0.0520243 (up to six significant digits), above the threshold 0.01.  \n'pH'                    The approximate Jensen-Shannon divergence between training and serving is 0.0472159 (up to six significant digits), above the threshold 0.01.  \n'volatile acidity'      The approximate Jensen-Shannon divergence between training and serving is 0.0537726 (up to six significant digits), above the threshold 0.01.  ",
      "text/html": "<div>\n<style scoped>\n    .dataframe tbody tr th:only-of-type {\n        vertical-align: middle;\n    }\n\n    .dataframe tbody tr th {\n        vertical-align: top;\n    }\n\n    .dataframe thead th {\n        text-align: right;\n    }\n</style>\n<table border=\"1\" class=\"dataframe\">\n  <thead>\n    <tr style=\"text-align: right;\">\n      <th></th>\n      <th>Anomaly short description</th>\n      <th>Anomaly long description</th>\n    </tr>\n    <tr>\n      <th>Feature name</th>\n      <th></th>\n      <th></th>\n    </tr>\n  </thead>\n  <tbody>\n    <tr>\n      <th>'chlorides'</th>\n      <td>High approximate Jensen-Shannon divergence between training and serving</td>\n      <td>The approximate Jensen-Shannon divergence between training and serving is 0.186419 (up to six significant digits), above the threshold 0.01.</td>\n    </tr>\n    <tr>\n      <th>'sulphates'</th>\n      <td>High approximate Jensen-Shannon divergence between training and serving</td>\n      <td>The approximate Jensen-Shannon divergence between training and serving is 1 (up to six significant digits), above the threshold 0.01.</td>\n    </tr>\n    <tr>\n      <th>'density'</th>\n      <td>High approximate Jensen-Shannon divergence between training and serving</td>\n      <td>The approximate Jensen-Shannon divergence between training and serving is 0.122935 (up to six significant digits), above the threshold 0.01.</td>\n    </tr>\n    <tr>\n      <th>'residual sugar'</th>\n      <td>High approximate Jensen-Shannon divergence between training and serving</td>\n      <td>The approximate Jensen-Shannon divergence between training and serving is 0.15975 (up to six significant digits), above the threshold 0.01.</td>\n    </tr>\n    <tr>\n      <th>'total sulfur dioxide'</th>\n      <td>High approximate Jensen-Shannon divergence between training and serving</td>\n      <td>The approximate Jensen-Shannon divergence between training and serving is 0.0271687 (up to six significant digits), above the threshold 0.01.</td>\n    </tr>\n    <tr>\n      <th>'fixed acidity'</th>\n      <td>High approximate Jensen-Shannon divergence between training and serving</td>\n      <td>The approximate Jensen-Shannon divergence between training and serving is 0.0660109 (up to six significant digits), above the threshold 0.01.</td>\n    </tr>\n    <tr>\n      <th>'alcohol'</th>\n      <td>High approximate Jensen-Shannon divergence between training and serving</td>\n      <td>The approximate Jensen-Shannon divergence between training and serving is 0.0541923 (up to six significant digits), above the threshold 0.01.</td>\n    </tr>\n    <tr>\n      <th>'free sulfur dioxide'</th>\n      <td>High approximate Jensen-Shannon divergence between training and serving</td>\n      <td>The approximate Jensen-Shannon divergence between training and serving is 0.0343012 (up to six significant digits), above the threshold 0.01.</td>\n    </tr>\n    <tr>\n      <th>'citric acid'</th>\n      <td>High approximate Jensen-Shannon divergence between training and serving</td>\n      <td>The approximate Jensen-Shannon divergence between training and serving is 0.0520243 (up to six significant digits), above the threshold 0.01.</td>\n    </tr>\n    <tr>\n      <th>'pH'</th>\n      <td>High approximate Jensen-Shannon divergence between training and serving</td>\n      <td>The approximate Jensen-Shannon divergence between training and serving is 0.0472159 (up to six significant digits), above the threshold 0.01.</td>\n    </tr>\n    <tr>\n      <th>'volatile acidity'</th>\n      <td>High approximate Jensen-Shannon divergence between training and serving</td>\n      <td>The approximate Jensen-Shannon divergence between training and serving is 0.0537726 (up to six significant digits), above the threshold 0.01.</td>\n    </tr>\n  </tbody>\n</table>\n</div>"
     },
     "metadata": {},
     "output_type": "display_data"
    },
    {
     "name": "stdout",
     "output_type": "stream",
     "text": [
      "Day 1 :\n"
     ]
    },
    {
     "data": {
      "text/plain": "                                                                      Anomaly short description  \\\nFeature name                                                                                      \n'density'               High approximate Jensen-Shannon divergence between training and serving   \n'chlorides'             High approximate Jensen-Shannon divergence between training and serving   \n'alcohol'               High approximate Jensen-Shannon divergence between training and serving   \n'citric acid'           High approximate Jensen-Shannon divergence between training and serving   \n'sulphates'             High approximate Jensen-Shannon divergence between training and serving   \n'free sulfur dioxide'   High approximate Jensen-Shannon divergence between training and serving   \n'pH'                    High approximate Jensen-Shannon divergence between training and serving   \n'volatile acidity'      High approximate Jensen-Shannon divergence between training and serving   \n'fixed acidity'         High approximate Jensen-Shannon divergence between training and serving   \n'residual sugar'        High approximate Jensen-Shannon divergence between training and serving   \n'total sulfur dioxide'  High approximate Jensen-Shannon divergence between training and serving   \n\n                                                                                                                                             Anomaly long description  \nFeature name                                                                                                                                                           \n'density'               The approximate Jensen-Shannon divergence between training and serving is 0.0750489 (up to six significant digits), above the threshold 0.01.  \n'chlorides'              The approximate Jensen-Shannon divergence between training and serving is 0.147667 (up to six significant digits), above the threshold 0.01.  \n'alcohol'               The approximate Jensen-Shannon divergence between training and serving is 0.0469872 (up to six significant digits), above the threshold 0.01.  \n'citric acid'           The approximate Jensen-Shannon divergence between training and serving is 0.0343648 (up to six significant digits), above the threshold 0.01.  \n'sulphates'                     The approximate Jensen-Shannon divergence between training and serving is 1 (up to six significant digits), above the threshold 0.01.  \n'free sulfur dioxide'   The approximate Jensen-Shannon divergence between training and serving is 0.0491078 (up to six significant digits), above the threshold 0.01.  \n'pH'                    The approximate Jensen-Shannon divergence between training and serving is 0.0289179 (up to six significant digits), above the threshold 0.01.  \n'volatile acidity'      The approximate Jensen-Shannon divergence between training and serving is 0.0662771 (up to six significant digits), above the threshold 0.01.  \n'fixed acidity'         The approximate Jensen-Shannon divergence between training and serving is 0.0473311 (up to six significant digits), above the threshold 0.01.  \n'residual sugar'         The approximate Jensen-Shannon divergence between training and serving is 0.114105 (up to six significant digits), above the threshold 0.01.  \n'total sulfur dioxide'  The approximate Jensen-Shannon divergence between training and serving is 0.0330794 (up to six significant digits), above the threshold 0.01.  ",
      "text/html": "<div>\n<style scoped>\n    .dataframe tbody tr th:only-of-type {\n        vertical-align: middle;\n    }\n\n    .dataframe tbody tr th {\n        vertical-align: top;\n    }\n\n    .dataframe thead th {\n        text-align: right;\n    }\n</style>\n<table border=\"1\" class=\"dataframe\">\n  <thead>\n    <tr style=\"text-align: right;\">\n      <th></th>\n      <th>Anomaly short description</th>\n      <th>Anomaly long description</th>\n    </tr>\n    <tr>\n      <th>Feature name</th>\n      <th></th>\n      <th></th>\n    </tr>\n  </thead>\n  <tbody>\n    <tr>\n      <th>'density'</th>\n      <td>High approximate Jensen-Shannon divergence between training and serving</td>\n      <td>The approximate Jensen-Shannon divergence between training and serving is 0.0750489 (up to six significant digits), above the threshold 0.01.</td>\n    </tr>\n    <tr>\n      <th>'chlorides'</th>\n      <td>High approximate Jensen-Shannon divergence between training and serving</td>\n      <td>The approximate Jensen-Shannon divergence between training and serving is 0.147667 (up to six significant digits), above the threshold 0.01.</td>\n    </tr>\n    <tr>\n      <th>'alcohol'</th>\n      <td>High approximate Jensen-Shannon divergence between training and serving</td>\n      <td>The approximate Jensen-Shannon divergence between training and serving is 0.0469872 (up to six significant digits), above the threshold 0.01.</td>\n    </tr>\n    <tr>\n      <th>'citric acid'</th>\n      <td>High approximate Jensen-Shannon divergence between training and serving</td>\n      <td>The approximate Jensen-Shannon divergence between training and serving is 0.0343648 (up to six significant digits), above the threshold 0.01.</td>\n    </tr>\n    <tr>\n      <th>'sulphates'</th>\n      <td>High approximate Jensen-Shannon divergence between training and serving</td>\n      <td>The approximate Jensen-Shannon divergence between training and serving is 1 (up to six significant digits), above the threshold 0.01.</td>\n    </tr>\n    <tr>\n      <th>'free sulfur dioxide'</th>\n      <td>High approximate Jensen-Shannon divergence between training and serving</td>\n      <td>The approximate Jensen-Shannon divergence between training and serving is 0.0491078 (up to six significant digits), above the threshold 0.01.</td>\n    </tr>\n    <tr>\n      <th>'pH'</th>\n      <td>High approximate Jensen-Shannon divergence between training and serving</td>\n      <td>The approximate Jensen-Shannon divergence between training and serving is 0.0289179 (up to six significant digits), above the threshold 0.01.</td>\n    </tr>\n    <tr>\n      <th>'volatile acidity'</th>\n      <td>High approximate Jensen-Shannon divergence between training and serving</td>\n      <td>The approximate Jensen-Shannon divergence between training and serving is 0.0662771 (up to six significant digits), above the threshold 0.01.</td>\n    </tr>\n    <tr>\n      <th>'fixed acidity'</th>\n      <td>High approximate Jensen-Shannon divergence between training and serving</td>\n      <td>The approximate Jensen-Shannon divergence between training and serving is 0.0473311 (up to six significant digits), above the threshold 0.01.</td>\n    </tr>\n    <tr>\n      <th>'residual sugar'</th>\n      <td>High approximate Jensen-Shannon divergence between training and serving</td>\n      <td>The approximate Jensen-Shannon divergence between training and serving is 0.114105 (up to six significant digits), above the threshold 0.01.</td>\n    </tr>\n    <tr>\n      <th>'total sulfur dioxide'</th>\n      <td>High approximate Jensen-Shannon divergence between training and serving</td>\n      <td>The approximate Jensen-Shannon divergence between training and serving is 0.0330794 (up to six significant digits), above the threshold 0.01.</td>\n    </tr>\n  </tbody>\n</table>\n</div>"
     },
     "metadata": {},
     "output_type": "display_data"
    },
    {
     "name": "stdout",
     "output_type": "stream",
     "text": [
      "Day 2 :\n"
     ]
    },
    {
     "data": {
      "text/plain": "                                                                      Anomaly short description  \\\nFeature name                                                                                      \n'alcohol'               High approximate Jensen-Shannon divergence between training and serving   \n'free sulfur dioxide'   High approximate Jensen-Shannon divergence between training and serving   \n'volatile acidity'      High approximate Jensen-Shannon divergence between training and serving   \n'sulphates'             High approximate Jensen-Shannon divergence between training and serving   \n'citric acid'           High approximate Jensen-Shannon divergence between training and serving   \n'residual sugar'        High approximate Jensen-Shannon divergence between training and serving   \n'fixed acidity'         High approximate Jensen-Shannon divergence between training and serving   \n'pH'                    High approximate Jensen-Shannon divergence between training and serving   \n'density'               High approximate Jensen-Shannon divergence between training and serving   \n'total sulfur dioxide'  High approximate Jensen-Shannon divergence between training and serving   \n'chlorides'             High approximate Jensen-Shannon divergence between training and serving   \n\n                                                                                                                                             Anomaly long description  \nFeature name                                                                                                                                                           \n'alcohol'               The approximate Jensen-Shannon divergence between training and serving is 0.0491631 (up to six significant digits), above the threshold 0.01.  \n'free sulfur dioxide'   The approximate Jensen-Shannon divergence between training and serving is 0.0841266 (up to six significant digits), above the threshold 0.01.  \n'volatile acidity'      The approximate Jensen-Shannon divergence between training and serving is 0.0716742 (up to six significant digits), above the threshold 0.01.  \n'sulphates'              The approximate Jensen-Shannon divergence between training and serving is 0.891851 (up to six significant digits), above the threshold 0.01.  \n'citric acid'           The approximate Jensen-Shannon divergence between training and serving is 0.0444997 (up to six significant digits), above the threshold 0.01.  \n'residual sugar'        The approximate Jensen-Shannon divergence between training and serving is 0.0955683 (up to six significant digits), above the threshold 0.01.  \n'fixed acidity'         The approximate Jensen-Shannon divergence between training and serving is 0.0569463 (up to six significant digits), above the threshold 0.01.  \n'pH'                    The approximate Jensen-Shannon divergence between training and serving is 0.0306712 (up to six significant digits), above the threshold 0.01.  \n'density'                The approximate Jensen-Shannon divergence between training and serving is 0.118814 (up to six significant digits), above the threshold 0.01.  \n'total sulfur dioxide'  The approximate Jensen-Shannon divergence between training and serving is 0.0494786 (up to six significant digits), above the threshold 0.01.  \n'chlorides'              The approximate Jensen-Shannon divergence between training and serving is 0.153965 (up to six significant digits), above the threshold 0.01.  ",
      "text/html": "<div>\n<style scoped>\n    .dataframe tbody tr th:only-of-type {\n        vertical-align: middle;\n    }\n\n    .dataframe tbody tr th {\n        vertical-align: top;\n    }\n\n    .dataframe thead th {\n        text-align: right;\n    }\n</style>\n<table border=\"1\" class=\"dataframe\">\n  <thead>\n    <tr style=\"text-align: right;\">\n      <th></th>\n      <th>Anomaly short description</th>\n      <th>Anomaly long description</th>\n    </tr>\n    <tr>\n      <th>Feature name</th>\n      <th></th>\n      <th></th>\n    </tr>\n  </thead>\n  <tbody>\n    <tr>\n      <th>'alcohol'</th>\n      <td>High approximate Jensen-Shannon divergence between training and serving</td>\n      <td>The approximate Jensen-Shannon divergence between training and serving is 0.0491631 (up to six significant digits), above the threshold 0.01.</td>\n    </tr>\n    <tr>\n      <th>'free sulfur dioxide'</th>\n      <td>High approximate Jensen-Shannon divergence between training and serving</td>\n      <td>The approximate Jensen-Shannon divergence between training and serving is 0.0841266 (up to six significant digits), above the threshold 0.01.</td>\n    </tr>\n    <tr>\n      <th>'volatile acidity'</th>\n      <td>High approximate Jensen-Shannon divergence between training and serving</td>\n      <td>The approximate Jensen-Shannon divergence between training and serving is 0.0716742 (up to six significant digits), above the threshold 0.01.</td>\n    </tr>\n    <tr>\n      <th>'sulphates'</th>\n      <td>High approximate Jensen-Shannon divergence between training and serving</td>\n      <td>The approximate Jensen-Shannon divergence between training and serving is 0.891851 (up to six significant digits), above the threshold 0.01.</td>\n    </tr>\n    <tr>\n      <th>'citric acid'</th>\n      <td>High approximate Jensen-Shannon divergence between training and serving</td>\n      <td>The approximate Jensen-Shannon divergence between training and serving is 0.0444997 (up to six significant digits), above the threshold 0.01.</td>\n    </tr>\n    <tr>\n      <th>'residual sugar'</th>\n      <td>High approximate Jensen-Shannon divergence between training and serving</td>\n      <td>The approximate Jensen-Shannon divergence between training and serving is 0.0955683 (up to six significant digits), above the threshold 0.01.</td>\n    </tr>\n    <tr>\n      <th>'fixed acidity'</th>\n      <td>High approximate Jensen-Shannon divergence between training and serving</td>\n      <td>The approximate Jensen-Shannon divergence between training and serving is 0.0569463 (up to six significant digits), above the threshold 0.01.</td>\n    </tr>\n    <tr>\n      <th>'pH'</th>\n      <td>High approximate Jensen-Shannon divergence between training and serving</td>\n      <td>The approximate Jensen-Shannon divergence between training and serving is 0.0306712 (up to six significant digits), above the threshold 0.01.</td>\n    </tr>\n    <tr>\n      <th>'density'</th>\n      <td>High approximate Jensen-Shannon divergence between training and serving</td>\n      <td>The approximate Jensen-Shannon divergence between training and serving is 0.118814 (up to six significant digits), above the threshold 0.01.</td>\n    </tr>\n    <tr>\n      <th>'total sulfur dioxide'</th>\n      <td>High approximate Jensen-Shannon divergence between training and serving</td>\n      <td>The approximate Jensen-Shannon divergence between training and serving is 0.0494786 (up to six significant digits), above the threshold 0.01.</td>\n    </tr>\n    <tr>\n      <th>'chlorides'</th>\n      <td>High approximate Jensen-Shannon divergence between training and serving</td>\n      <td>The approximate Jensen-Shannon divergence between training and serving is 0.153965 (up to six significant digits), above the threshold 0.01.</td>\n    </tr>\n  </tbody>\n</table>\n</div>"
     },
     "metadata": {},
     "output_type": "display_data"
    },
    {
     "name": "stdout",
     "output_type": "stream",
     "text": [
      "Day 3 :\n"
     ]
    },
    {
     "data": {
      "text/plain": "                                                                      Anomaly short description  \\\nFeature name                                                                                      \n'sulphates'             High approximate Jensen-Shannon divergence between training and serving   \n'chlorides'             High approximate Jensen-Shannon divergence between training and serving   \n'pH'                    High approximate Jensen-Shannon divergence between training and serving   \n'alcohol'               High approximate Jensen-Shannon divergence between training and serving   \n'free sulfur dioxide'   High approximate Jensen-Shannon divergence between training and serving   \n'total sulfur dioxide'  High approximate Jensen-Shannon divergence between training and serving   \n'citric acid'           High approximate Jensen-Shannon divergence between training and serving   \n'fixed acidity'         High approximate Jensen-Shannon divergence between training and serving   \n'residual sugar'        High approximate Jensen-Shannon divergence between training and serving   \n'volatile acidity'      High approximate Jensen-Shannon divergence between training and serving   \n'density'               High approximate Jensen-Shannon divergence between training and serving   \n\n                                                                                                                                             Anomaly long description  \nFeature name                                                                                                                                                           \n'sulphates'                 The approximate Jensen-Shannon divergence between training and serving is 0.767 (up to six significant digits), above the threshold 0.01.  \n'chlorides'              The approximate Jensen-Shannon divergence between training and serving is 0.163016 (up to six significant digits), above the threshold 0.01.  \n'pH'                    The approximate Jensen-Shannon divergence between training and serving is 0.0576444 (up to six significant digits), above the threshold 0.01.  \n'alcohol'               The approximate Jensen-Shannon divergence between training and serving is 0.0454991 (up to six significant digits), above the threshold 0.01.  \n'free sulfur dioxide'    The approximate Jensen-Shannon divergence between training and serving is 0.104724 (up to six significant digits), above the threshold 0.01.  \n'total sulfur dioxide'  The approximate Jensen-Shannon divergence between training and serving is 0.0341484 (up to six significant digits), above the threshold 0.01.  \n'citric acid'           The approximate Jensen-Shannon divergence between training and serving is 0.0386768 (up to six significant digits), above the threshold 0.01.  \n'fixed acidity'         The approximate Jensen-Shannon divergence between training and serving is 0.0785898 (up to six significant digits), above the threshold 0.01.  \n'residual sugar'         The approximate Jensen-Shannon divergence between training and serving is 0.147112 (up to six significant digits), above the threshold 0.01.  \n'volatile acidity'      The approximate Jensen-Shannon divergence between training and serving is 0.0525183 (up to six significant digits), above the threshold 0.01.  \n'density'                The approximate Jensen-Shannon divergence between training and serving is 0.110313 (up to six significant digits), above the threshold 0.01.  ",
      "text/html": "<div>\n<style scoped>\n    .dataframe tbody tr th:only-of-type {\n        vertical-align: middle;\n    }\n\n    .dataframe tbody tr th {\n        vertical-align: top;\n    }\n\n    .dataframe thead th {\n        text-align: right;\n    }\n</style>\n<table border=\"1\" class=\"dataframe\">\n  <thead>\n    <tr style=\"text-align: right;\">\n      <th></th>\n      <th>Anomaly short description</th>\n      <th>Anomaly long description</th>\n    </tr>\n    <tr>\n      <th>Feature name</th>\n      <th></th>\n      <th></th>\n    </tr>\n  </thead>\n  <tbody>\n    <tr>\n      <th>'sulphates'</th>\n      <td>High approximate Jensen-Shannon divergence between training and serving</td>\n      <td>The approximate Jensen-Shannon divergence between training and serving is 0.767 (up to six significant digits), above the threshold 0.01.</td>\n    </tr>\n    <tr>\n      <th>'chlorides'</th>\n      <td>High approximate Jensen-Shannon divergence between training and serving</td>\n      <td>The approximate Jensen-Shannon divergence between training and serving is 0.163016 (up to six significant digits), above the threshold 0.01.</td>\n    </tr>\n    <tr>\n      <th>'pH'</th>\n      <td>High approximate Jensen-Shannon divergence between training and serving</td>\n      <td>The approximate Jensen-Shannon divergence between training and serving is 0.0576444 (up to six significant digits), above the threshold 0.01.</td>\n    </tr>\n    <tr>\n      <th>'alcohol'</th>\n      <td>High approximate Jensen-Shannon divergence between training and serving</td>\n      <td>The approximate Jensen-Shannon divergence between training and serving is 0.0454991 (up to six significant digits), above the threshold 0.01.</td>\n    </tr>\n    <tr>\n      <th>'free sulfur dioxide'</th>\n      <td>High approximate Jensen-Shannon divergence between training and serving</td>\n      <td>The approximate Jensen-Shannon divergence between training and serving is 0.104724 (up to six significant digits), above the threshold 0.01.</td>\n    </tr>\n    <tr>\n      <th>'total sulfur dioxide'</th>\n      <td>High approximate Jensen-Shannon divergence between training and serving</td>\n      <td>The approximate Jensen-Shannon divergence between training and serving is 0.0341484 (up to six significant digits), above the threshold 0.01.</td>\n    </tr>\n    <tr>\n      <th>'citric acid'</th>\n      <td>High approximate Jensen-Shannon divergence between training and serving</td>\n      <td>The approximate Jensen-Shannon divergence between training and serving is 0.0386768 (up to six significant digits), above the threshold 0.01.</td>\n    </tr>\n    <tr>\n      <th>'fixed acidity'</th>\n      <td>High approximate Jensen-Shannon divergence between training and serving</td>\n      <td>The approximate Jensen-Shannon divergence between training and serving is 0.0785898 (up to six significant digits), above the threshold 0.01.</td>\n    </tr>\n    <tr>\n      <th>'residual sugar'</th>\n      <td>High approximate Jensen-Shannon divergence between training and serving</td>\n      <td>The approximate Jensen-Shannon divergence between training and serving is 0.147112 (up to six significant digits), above the threshold 0.01.</td>\n    </tr>\n    <tr>\n      <th>'volatile acidity'</th>\n      <td>High approximate Jensen-Shannon divergence between training and serving</td>\n      <td>The approximate Jensen-Shannon divergence between training and serving is 0.0525183 (up to six significant digits), above the threshold 0.01.</td>\n    </tr>\n    <tr>\n      <th>'density'</th>\n      <td>High approximate Jensen-Shannon divergence between training and serving</td>\n      <td>The approximate Jensen-Shannon divergence between training and serving is 0.110313 (up to six significant digits), above the threshold 0.01.</td>\n    </tr>\n  </tbody>\n</table>\n</div>"
     },
     "metadata": {},
     "output_type": "display_data"
    },
    {
     "name": "stdout",
     "output_type": "stream",
     "text": [
      "Day 4 :\n"
     ]
    },
    {
     "data": {
      "text/plain": "                                                                      Anomaly short description  \\\nFeature name                                                                                      \n'chlorides'             High approximate Jensen-Shannon divergence between training and serving   \n'sulphates'             High approximate Jensen-Shannon divergence between training and serving   \n'density'               High approximate Jensen-Shannon divergence between training and serving   \n'residual sugar'        High approximate Jensen-Shannon divergence between training and serving   \n'total sulfur dioxide'  High approximate Jensen-Shannon divergence between training and serving   \n'fixed acidity'         High approximate Jensen-Shannon divergence between training and serving   \n'alcohol'               High approximate Jensen-Shannon divergence between training and serving   \n'free sulfur dioxide'   High approximate Jensen-Shannon divergence between training and serving   \n'citric acid'           High approximate Jensen-Shannon divergence between training and serving   \n'pH'                    High approximate Jensen-Shannon divergence between training and serving   \n'volatile acidity'      High approximate Jensen-Shannon divergence between training and serving   \n\n                                                                                                                                             Anomaly long description  \nFeature name                                                                                                                                                           \n'chlorides'              The approximate Jensen-Shannon divergence between training and serving is 0.128416 (up to six significant digits), above the threshold 0.01.  \n'sulphates'              The approximate Jensen-Shannon divergence between training and serving is 0.658427 (up to six significant digits), above the threshold 0.01.  \n'density'                The approximate Jensen-Shannon divergence between training and serving is 0.116058 (up to six significant digits), above the threshold 0.01.  \n'residual sugar'         The approximate Jensen-Shannon divergence between training and serving is 0.099558 (up to six significant digits), above the threshold 0.01.  \n'total sulfur dioxide'  The approximate Jensen-Shannon divergence between training and serving is 0.0217083 (up to six significant digits), above the threshold 0.01.  \n'fixed acidity'          The approximate Jensen-Shannon divergence between training and serving is 0.050184 (up to six significant digits), above the threshold 0.01.  \n'alcohol'               The approximate Jensen-Shannon divergence between training and serving is 0.0289192 (up to six significant digits), above the threshold 0.01.  \n'free sulfur dioxide'   The approximate Jensen-Shannon divergence between training and serving is 0.0587585 (up to six significant digits), above the threshold 0.01.  \n'citric acid'           The approximate Jensen-Shannon divergence between training and serving is 0.0492725 (up to six significant digits), above the threshold 0.01.  \n'pH'                    The approximate Jensen-Shannon divergence between training and serving is 0.0207054 (up to six significant digits), above the threshold 0.01.  \n'volatile acidity'      The approximate Jensen-Shannon divergence between training and serving is 0.0856695 (up to six significant digits), above the threshold 0.01.  ",
      "text/html": "<div>\n<style scoped>\n    .dataframe tbody tr th:only-of-type {\n        vertical-align: middle;\n    }\n\n    .dataframe tbody tr th {\n        vertical-align: top;\n    }\n\n    .dataframe thead th {\n        text-align: right;\n    }\n</style>\n<table border=\"1\" class=\"dataframe\">\n  <thead>\n    <tr style=\"text-align: right;\">\n      <th></th>\n      <th>Anomaly short description</th>\n      <th>Anomaly long description</th>\n    </tr>\n    <tr>\n      <th>Feature name</th>\n      <th></th>\n      <th></th>\n    </tr>\n  </thead>\n  <tbody>\n    <tr>\n      <th>'chlorides'</th>\n      <td>High approximate Jensen-Shannon divergence between training and serving</td>\n      <td>The approximate Jensen-Shannon divergence between training and serving is 0.128416 (up to six significant digits), above the threshold 0.01.</td>\n    </tr>\n    <tr>\n      <th>'sulphates'</th>\n      <td>High approximate Jensen-Shannon divergence between training and serving</td>\n      <td>The approximate Jensen-Shannon divergence between training and serving is 0.658427 (up to six significant digits), above the threshold 0.01.</td>\n    </tr>\n    <tr>\n      <th>'density'</th>\n      <td>High approximate Jensen-Shannon divergence between training and serving</td>\n      <td>The approximate Jensen-Shannon divergence between training and serving is 0.116058 (up to six significant digits), above the threshold 0.01.</td>\n    </tr>\n    <tr>\n      <th>'residual sugar'</th>\n      <td>High approximate Jensen-Shannon divergence between training and serving</td>\n      <td>The approximate Jensen-Shannon divergence between training and serving is 0.099558 (up to six significant digits), above the threshold 0.01.</td>\n    </tr>\n    <tr>\n      <th>'total sulfur dioxide'</th>\n      <td>High approximate Jensen-Shannon divergence between training and serving</td>\n      <td>The approximate Jensen-Shannon divergence between training and serving is 0.0217083 (up to six significant digits), above the threshold 0.01.</td>\n    </tr>\n    <tr>\n      <th>'fixed acidity'</th>\n      <td>High approximate Jensen-Shannon divergence between training and serving</td>\n      <td>The approximate Jensen-Shannon divergence between training and serving is 0.050184 (up to six significant digits), above the threshold 0.01.</td>\n    </tr>\n    <tr>\n      <th>'alcohol'</th>\n      <td>High approximate Jensen-Shannon divergence between training and serving</td>\n      <td>The approximate Jensen-Shannon divergence between training and serving is 0.0289192 (up to six significant digits), above the threshold 0.01.</td>\n    </tr>\n    <tr>\n      <th>'free sulfur dioxide'</th>\n      <td>High approximate Jensen-Shannon divergence between training and serving</td>\n      <td>The approximate Jensen-Shannon divergence between training and serving is 0.0587585 (up to six significant digits), above the threshold 0.01.</td>\n    </tr>\n    <tr>\n      <th>'citric acid'</th>\n      <td>High approximate Jensen-Shannon divergence between training and serving</td>\n      <td>The approximate Jensen-Shannon divergence between training and serving is 0.0492725 (up to six significant digits), above the threshold 0.01.</td>\n    </tr>\n    <tr>\n      <th>'pH'</th>\n      <td>High approximate Jensen-Shannon divergence between training and serving</td>\n      <td>The approximate Jensen-Shannon divergence between training and serving is 0.0207054 (up to six significant digits), above the threshold 0.01.</td>\n    </tr>\n    <tr>\n      <th>'volatile acidity'</th>\n      <td>High approximate Jensen-Shannon divergence between training and serving</td>\n      <td>The approximate Jensen-Shannon divergence between training and serving is 0.0856695 (up to six significant digits), above the threshold 0.01.</td>\n    </tr>\n  </tbody>\n</table>\n</div>"
     },
     "metadata": {},
     "output_type": "display_data"
    },
    {
     "name": "stdout",
     "output_type": "stream",
     "text": [
      "Day 5 :\n"
     ]
    },
    {
     "data": {
      "text/plain": "                                                                      Anomaly short description  \\\nFeature name                                                                                      \n'volatile acidity'      High approximate Jensen-Shannon divergence between training and serving   \n'citric acid'           High approximate Jensen-Shannon divergence between training and serving   \n'residual sugar'        High approximate Jensen-Shannon divergence between training and serving   \n'chlorides'             High approximate Jensen-Shannon divergence between training and serving   \n'alcohol'               High approximate Jensen-Shannon divergence between training and serving   \n'density'               High approximate Jensen-Shannon divergence between training and serving   \n'pH'                    High approximate Jensen-Shannon divergence between training and serving   \n'fixed acidity'         High approximate Jensen-Shannon divergence between training and serving   \n'total sulfur dioxide'  High approximate Jensen-Shannon divergence between training and serving   \n'sulphates'             High approximate Jensen-Shannon divergence between training and serving   \n'free sulfur dioxide'   High approximate Jensen-Shannon divergence between training and serving   \n\n                                                                                                                                             Anomaly long description  \nFeature name                                                                                                                                                           \n'volatile acidity'       The approximate Jensen-Shannon divergence between training and serving is 0.112435 (up to six significant digits), above the threshold 0.01.  \n'citric acid'           The approximate Jensen-Shannon divergence between training and serving is 0.0499088 (up to six significant digits), above the threshold 0.01.  \n'residual sugar'        The approximate Jensen-Shannon divergence between training and serving is 0.0995603 (up to six significant digits), above the threshold 0.01.  \n'chlorides'              The approximate Jensen-Shannon divergence between training and serving is 0.117103 (up to six significant digits), above the threshold 0.01.  \n'alcohol'               The approximate Jensen-Shannon divergence between training and serving is 0.0396991 (up to six significant digits), above the threshold 0.01.  \n'density'                The approximate Jensen-Shannon divergence between training and serving is 0.121429 (up to six significant digits), above the threshold 0.01.  \n'pH'                    The approximate Jensen-Shannon divergence between training and serving is 0.0551317 (up to six significant digits), above the threshold 0.01.  \n'fixed acidity'         The approximate Jensen-Shannon divergence between training and serving is 0.0541513 (up to six significant digits), above the threshold 0.01.  \n'total sulfur dioxide'  The approximate Jensen-Shannon divergence between training and serving is 0.0280939 (up to six significant digits), above the threshold 0.01.  \n'sulphates'              The approximate Jensen-Shannon divergence between training and serving is 0.424132 (up to six significant digits), above the threshold 0.01.  \n'free sulfur dioxide'   The approximate Jensen-Shannon divergence between training and serving is 0.0523956 (up to six significant digits), above the threshold 0.01.  ",
      "text/html": "<div>\n<style scoped>\n    .dataframe tbody tr th:only-of-type {\n        vertical-align: middle;\n    }\n\n    .dataframe tbody tr th {\n        vertical-align: top;\n    }\n\n    .dataframe thead th {\n        text-align: right;\n    }\n</style>\n<table border=\"1\" class=\"dataframe\">\n  <thead>\n    <tr style=\"text-align: right;\">\n      <th></th>\n      <th>Anomaly short description</th>\n      <th>Anomaly long description</th>\n    </tr>\n    <tr>\n      <th>Feature name</th>\n      <th></th>\n      <th></th>\n    </tr>\n  </thead>\n  <tbody>\n    <tr>\n      <th>'volatile acidity'</th>\n      <td>High approximate Jensen-Shannon divergence between training and serving</td>\n      <td>The approximate Jensen-Shannon divergence between training and serving is 0.112435 (up to six significant digits), above the threshold 0.01.</td>\n    </tr>\n    <tr>\n      <th>'citric acid'</th>\n      <td>High approximate Jensen-Shannon divergence between training and serving</td>\n      <td>The approximate Jensen-Shannon divergence between training and serving is 0.0499088 (up to six significant digits), above the threshold 0.01.</td>\n    </tr>\n    <tr>\n      <th>'residual sugar'</th>\n      <td>High approximate Jensen-Shannon divergence between training and serving</td>\n      <td>The approximate Jensen-Shannon divergence between training and serving is 0.0995603 (up to six significant digits), above the threshold 0.01.</td>\n    </tr>\n    <tr>\n      <th>'chlorides'</th>\n      <td>High approximate Jensen-Shannon divergence between training and serving</td>\n      <td>The approximate Jensen-Shannon divergence between training and serving is 0.117103 (up to six significant digits), above the threshold 0.01.</td>\n    </tr>\n    <tr>\n      <th>'alcohol'</th>\n      <td>High approximate Jensen-Shannon divergence between training and serving</td>\n      <td>The approximate Jensen-Shannon divergence between training and serving is 0.0396991 (up to six significant digits), above the threshold 0.01.</td>\n    </tr>\n    <tr>\n      <th>'density'</th>\n      <td>High approximate Jensen-Shannon divergence between training and serving</td>\n      <td>The approximate Jensen-Shannon divergence between training and serving is 0.121429 (up to six significant digits), above the threshold 0.01.</td>\n    </tr>\n    <tr>\n      <th>'pH'</th>\n      <td>High approximate Jensen-Shannon divergence between training and serving</td>\n      <td>The approximate Jensen-Shannon divergence between training and serving is 0.0551317 (up to six significant digits), above the threshold 0.01.</td>\n    </tr>\n    <tr>\n      <th>'fixed acidity'</th>\n      <td>High approximate Jensen-Shannon divergence between training and serving</td>\n      <td>The approximate Jensen-Shannon divergence between training and serving is 0.0541513 (up to six significant digits), above the threshold 0.01.</td>\n    </tr>\n    <tr>\n      <th>'total sulfur dioxide'</th>\n      <td>High approximate Jensen-Shannon divergence between training and serving</td>\n      <td>The approximate Jensen-Shannon divergence between training and serving is 0.0280939 (up to six significant digits), above the threshold 0.01.</td>\n    </tr>\n    <tr>\n      <th>'sulphates'</th>\n      <td>High approximate Jensen-Shannon divergence between training and serving</td>\n      <td>The approximate Jensen-Shannon divergence between training and serving is 0.424132 (up to six significant digits), above the threshold 0.01.</td>\n    </tr>\n    <tr>\n      <th>'free sulfur dioxide'</th>\n      <td>High approximate Jensen-Shannon divergence between training and serving</td>\n      <td>The approximate Jensen-Shannon divergence between training and serving is 0.0523956 (up to six significant digits), above the threshold 0.01.</td>\n    </tr>\n  </tbody>\n</table>\n</div>"
     },
     "metadata": {},
     "output_type": "display_data"
    }
   ],
   "source": [
    "tensorflow_detectors.tensorflow_detect_gradual_drift(data_train=wine_dataset_train,\n",
    "                                                     data_to_compare=wine_dataset_test,\n",
    "                                                     label_col=\"quality\",\n",
    "                                                     value_drift=0.1,\n",
    "                                                     column_name=\"sulphates\",\n",
    "                                                     nb_sample=100,\n",
    "                                                     nb_days=5)"
   ],
   "metadata": {
    "collapsed": false,
    "pycharm": {
     "name": "#%%\n"
    }
   }
  },
  {
   "cell_type": "markdown",
   "source": [
    "### Drift Detector with Labels\n"
   ],
   "metadata": {
    "collapsed": false
   }
  },
  {
   "cell_type": "markdown",
   "source": [
    "#### EDDM"
   ],
   "metadata": {
    "collapsed": false
   }
  },
  {
   "cell_type": "code",
   "execution_count": 214,
   "outputs": [
    {
     "name": "stdout",
     "output_type": "stream",
     "text": [
      "Day 0 :\n",
      "Day 1 :\n",
      "Day 2 :\n",
      "Day 3 :\n",
      "Day 4 :\n",
      "Day 5 :\n"
     ]
    }
   ],
   "source": [
    "drift_detector_with_labels.drift_detector_labels_gradual_drift(data_train=wine_dataset_train,\n",
    "                                                               data_to_compare=wine_dataset_test,\n",
    "                                                               column_name=\"sulphates\",\n",
    "                                                               label_col=\"quality\",\n",
    "                                                               model=lgbm_model,\n",
    "                                                               value_drift=0.1,\n",
    "                                                               action=\"increase\",\n",
    "                                                               test_name=\"EDDM\",\n",
    "                                                               nb_sample=100,\n",
    "                                                               nb_days=5)"
   ],
   "metadata": {
    "collapsed": false,
    "pycharm": {
     "name": "#%%\n"
    }
   }
  },
  {
   "cell_type": "markdown",
   "source": [
    "#### ADWIN"
   ],
   "metadata": {
    "collapsed": false
   }
  },
  {
   "cell_type": "code",
   "execution_count": 215,
   "outputs": [
    {
     "name": "stdout",
     "output_type": "stream",
     "text": [
      "Day 0 :\n",
      "Day 1 :\n",
      "Day 2 :\n",
      "Day 3 :\n",
      "Day 4 :\n",
      "Day 5 :\n"
     ]
    }
   ],
   "source": [
    "drift_detector_with_labels.drift_detector_labels_gradual_drift(data_train=wine_dataset_train,\n",
    "                                                               data_to_compare=wine_dataset_test,\n",
    "                                                               column_name=\"sulphates\",\n",
    "                                                               label_col=\"quality\",\n",
    "                                                               model=lgbm_model,\n",
    "                                                               value_drift=0.1,\n",
    "                                                               action=\"increase\",\n",
    "                                                               test_name=\"EDDM\",\n",
    "                                                               nb_sample=100,\n",
    "                                                               nb_days=5)"
   ],
   "metadata": {
    "collapsed": false,
    "pycharm": {
     "name": "#%%\n"
    }
   }
  },
  {
   "cell_type": "markdown",
   "source": [
    "#### HDDM_W"
   ],
   "metadata": {
    "collapsed": false
   }
  },
  {
   "cell_type": "code",
   "execution_count": 216,
   "outputs": [
    {
     "name": "stdout",
     "output_type": "stream",
     "text": [
      "Day 0 :\n",
      "Day 1 :\n",
      "Day 2 :\n",
      "Day 3 :\n",
      "Day 4 :\n",
      "Day 5 :\n"
     ]
    }
   ],
   "source": [
    "drift_detector_with_labels.drift_detector_labels_gradual_drift(data_train=wine_dataset_train,\n",
    "                                                               data_to_compare=wine_dataset_test,\n",
    "                                                               column_name=\"sulphates\",\n",
    "                                                               label_col=\"quality\",\n",
    "                                                               model=lgbm_model,\n",
    "                                                               value_drift=0.1,\n",
    "                                                               action=\"increase\",\n",
    "                                                               test_name=\"EDDM\",\n",
    "                                                               nb_sample=100,\n",
    "                                                               nb_days=5)"
   ],
   "metadata": {
    "collapsed": false,
    "pycharm": {
     "name": "#%%\n"
    }
   }
  },
  {
   "cell_type": "markdown",
   "source": [
    "### Drift Detector Multivariate: HDDDM & MD3\n",
    "#### HDDDM"
   ],
   "metadata": {
    "collapsed": false
   }
  },
  {
   "cell_type": "code",
   "execution_count": 217,
   "outputs": [],
   "source": [
    "X_train = wine_dataset_train.loc[:, wine_dataset_train.columns != \"quality\"]\n",
    "X_corrupted = wine_dataset_test.loc[:, wine_dataset_test.columns != \"quality\"]"
   ],
   "metadata": {
    "collapsed": false,
    "pycharm": {
     "name": "#%%\n"
    }
   }
  },
  {
   "cell_type": "code",
   "execution_count": 218,
   "outputs": [
    {
     "name": "stdout",
     "output_type": "stream",
     "text": [
      "Day 0 :\n",
      "None\n",
      "Day 1 :\n",
      "None\n",
      "Day 2 :\n",
      "None\n",
      "Day 3 :\n",
      "None\n",
      "Day 4 :\n",
      "None\n",
      "Day 5 :\n",
      "None\n"
     ]
    }
   ],
   "source": [
    "drift_detector_multivariate_hdddm.hdddm_detect_gradual_drift(data_train=X_train,\n",
    "                                                             data_to_compare=X_corrupted,\n",
    "                                                             column_name=\"sulphates\",\n",
    "                                                             value_drift=0.1,\n",
    "                                                             action=\"increase\",\n",
    "                                                             nb_sample=100,\n",
    "                                                             nb_days=5)"
   ],
   "metadata": {
    "collapsed": false,
    "pycharm": {
     "name": "#%%\n"
    }
   }
  },
  {
   "cell_type": "markdown",
   "source": [
    "#### MD3"
   ],
   "metadata": {
    "collapsed": false
   }
  },
  {
   "cell_type": "code",
   "execution_count": 219,
   "outputs": [
    {
     "name": "stdout",
     "output_type": "stream",
     "text": [
      "Day 0 :\n",
      "Alarm, drift Detected\n",
      "Day 1 :\n",
      "Alarm, drift Detected\n",
      "Day 2 :\n",
      "Day 3 :\n",
      "Alarm, drift Detected\n",
      "Day 4 :\n",
      "Alarm, drift Detected\n",
      "Day 5 :\n",
      "Alarm, drift Detected\n"
     ]
    }
   ],
   "source": [
    "drift_detector_multivariate_md3.md3_gradual_drift(data_train=wine_dataset_train,\n",
    "                                                  data_to_compare=wine_dataset_test,\n",
    "                                                  label_col=\"quality\",\n",
    "                                                  column_name=\"sulphates\",\n",
    "                                                  value_drift=0.1,\n",
    "                                                  action=\"increase\",\n",
    "                                                  nb_sample=100,\n",
    "                                                  nb_days=5)"
   ],
   "metadata": {
    "collapsed": false,
    "pycharm": {
     "name": "#%%\n"
    }
   }
  },
  {
   "cell_type": "markdown",
   "source": [
    "#### OLINDDA"
   ],
   "metadata": {
    "collapsed": false
   }
  },
  {
   "cell_type": "code",
   "execution_count": 220,
   "outputs": [
    {
     "name": "stdout",
     "output_type": "stream",
     "text": [
      "Day 0 :\n",
      "No drift or novelty detected in batch\n",
      "Day 1 :\n",
      "No drift or novelty detected in batch\n",
      "Day 2 :\n",
      "No drift or novelty detected in batch\n",
      "Day 3 :\n",
      "No drift or novelty detected in batch\n",
      "Day 4 :\n",
      "No drift or novelty detected in batch\n",
      "Day 5 :\n",
      "No drift or novelty detected in batch\n"
     ]
    }
   ],
   "source": [
    "drift_detector_multivariate_ollindda.olindda_gradual_drift(data_train=X_train,\n",
    "                                                             data_to_compare=X_corrupted,\n",
    "                                                           n_clusters=6,\n",
    "                                                             column_name=\"sulphates\",\n",
    "                                                             value_drift=0.1,\n",
    "                                                             action=\"increase\",\n",
    "                                                             nb_sample=100,\n",
    "                                                             nb_days=5)"
   ],
   "metadata": {
    "collapsed": false,
    "pycharm": {
     "name": "#%%\n"
    }
   }
  },
  {
   "cell_type": "markdown",
   "source": [],
   "metadata": {
    "collapsed": false
   }
  },
  {
   "cell_type": "markdown",
   "source": [
    "## Seasonal Virtual Concept Drift: increase pH by 50% every two days"
   ],
   "metadata": {
    "collapsed": false
   }
  },
  {
   "cell_type": "markdown",
   "source": [
    "### Deepcheck\n"
   ],
   "metadata": {
    "collapsed": false
   }
  },
  {
   "cell_type": "code",
   "execution_count": 221,
   "outputs": [
    {
     "name": "stdout",
     "output_type": "stream",
     "text": [
      "Day 0 :\n",
      "Alarm pH\n",
      "Day 1 :\n",
      "Day 2 :\n",
      "Day 3 :\n",
      "Alarm pH\n",
      "Day 4 :\n",
      "Day 5 :\n",
      "Day 6 :\n",
      "Alarm pH\n",
      "Day 7 :\n",
      "Day 8 :\n",
      "Day 9 :\n",
      "Alarm pH\n",
      "Day 10 :\n"
     ]
    }
   ],
   "source": [
    "deepcheck_detectors.deepcheck_detect_seasonal_drift(data_train=wine_dataset_train,\n",
    "                                                   data_to_compare=wine_dataset_test,\n",
    "                                                   label_col=\"quality\",\n",
    "                                                   cat_features=categorical_features_names,\n",
    "                                                   model=lgbm_model,\n",
    "                                                   action=\"multiply\",\n",
    "                                                   value_drift=1.5,\n",
    "                                                   column_name=\"pH\",\n",
    "                                                   test_type=\"feature_drift\",\n",
    "                                                   nb_sample=100,\n",
    "                                                    frequency=3,\n",
    "                                                   nb_days=10)"
   ],
   "metadata": {
    "collapsed": false,
    "pycharm": {
     "name": "#%%\n"
    }
   }
  },
  {
   "cell_type": "code",
   "execution_count": 222,
   "outputs": [
    {
     "name": "stdout",
     "output_type": "stream",
     "text": [
      "Day 0 :\n",
      "No drift detected\n",
      "Day 1 :\n",
      "No drift detected\n",
      "Day 2 :\n",
      "No drift detected\n",
      "Day 3 :\n",
      "No drift detected\n",
      "Day 4 :\n",
      "No drift detected\n",
      "Day 5 :\n",
      "No drift detected\n",
      "Day 6 :\n",
      "No drift detected\n",
      "Day 7 :\n",
      "No drift detected\n",
      "Day 8 :\n",
      "No drift detected\n",
      "Day 9 :\n",
      "No drift detected\n",
      "Day 10 :\n",
      "No drift detected\n"
     ]
    }
   ],
   "source": [
    "deepcheck_detectors.deepcheck_detect_seasonal_drift(data_train=wine_dataset_train,\n",
    "                                                   data_to_compare=wine_dataset_test,\n",
    "                                                   label_col=\"quality\",\n",
    "                                                   cat_features=categorical_features_names,\n",
    "                                                   model=lgbm_model,\n",
    "                                                   action=\"multiply\",\n",
    "                                                   value_drift=1.5,\n",
    "                                                   column_name=\"pH\",\n",
    "                                                   test_type=\"prediction_drift\",\n",
    "                                                   nb_sample=100,\n",
    "                                                    frequency=3,\n",
    "                                                   nb_days=10)"
   ],
   "metadata": {
    "collapsed": false,
    "pycharm": {
     "name": "#%%\n"
    }
   }
  },
  {
   "cell_type": "code",
   "execution_count": null,
   "outputs": [],
   "source": [
    "#deepcheck_detectors.deepcheck_detect_seasonal_drift(data_train=wine_dataset_train,\n",
    "#                                                   data_to_compare=wine_dataset_test,\n",
    "#                                                   label_col=\"quality\",\n",
    "#                                                   cat_features=categorical_features_names,\n",
    "#                                                   model=lgbm_model,\n",
    "#                                                   action=\"multiply\",\n",
    "#                                                   value_drift=1.5,\n",
    "#                                                   column_name=\"pH\",\n",
    "#                                                   test_type=\"dataset_drift\",\n",
    "#                                                   nb_sample=100,\n",
    "#                                                    frequency=3,\n",
    "#                                                   nb_days=10)"
   ],
   "metadata": {
    "collapsed": false,
    "pycharm": {
     "name": "#%%\n"
    }
   }
  },
  {
   "cell_type": "markdown",
   "source": [
    "### Evidently AI\n"
   ],
   "metadata": {
    "collapsed": false
   }
  },
  {
   "cell_type": "code",
   "execution_count": 223,
   "outputs": [
    {
     "name": "stdout",
     "output_type": "stream",
     "text": [
      "Day 0 :\n",
      "Alarm fixed acidity\n",
      "Alarm citric acid\n",
      "Alarm residual sugar\n",
      "Alarm chlorides\n",
      "Alarm free sulfur dioxide\n",
      "Alarm total sulfur dioxide\n",
      "Alarm density\n",
      "Alarm pH\n",
      "Alarm sulphates\n",
      "Alarm alcohol\n",
      "Day 1 :\n",
      "Alarm fixed acidity\n",
      "Alarm volatile acidity\n",
      "Alarm citric acid\n",
      "Alarm residual sugar\n",
      "Alarm chlorides\n",
      "Alarm free sulfur dioxide\n",
      "Alarm total sulfur dioxide\n",
      "Alarm density\n",
      "Alarm pH\n",
      "Alarm sulphates\n",
      "Alarm alcohol\n",
      "Day 2 :\n",
      "Alarm fixed acidity\n",
      "Alarm volatile acidity\n",
      "Alarm citric acid\n",
      "Alarm chlorides\n",
      "Alarm pH\n",
      "Alarm sulphates\n",
      "Alarm alcohol\n",
      "Alarm quality\n",
      "Day 3 :\n",
      "Alarm fixed acidity\n",
      "Alarm volatile acidity\n",
      "Alarm citric acid\n",
      "Alarm chlorides\n",
      "Alarm free sulfur dioxide\n",
      "Alarm total sulfur dioxide\n",
      "Alarm pH\n",
      "Alarm sulphates\n",
      "Day 4 :\n",
      "Alarm citric acid\n",
      "Alarm chlorides\n",
      "Alarm pH\n",
      "Alarm sulphates\n",
      "Day 5 :\n",
      "Alarm volatile acidity\n",
      "Alarm chlorides\n",
      "Alarm free sulfur dioxide\n",
      "Alarm alcohol\n",
      "Day 6 :\n",
      "Alarm fixed acidity\n",
      "Alarm volatile acidity\n",
      "Alarm free sulfur dioxide\n",
      "Alarm pH\n",
      "Alarm alcohol\n",
      "Day 7 :\n",
      "Alarm citric acid\n",
      "Alarm free sulfur dioxide\n",
      "Alarm total sulfur dioxide\n",
      "Alarm pH\n",
      "Alarm sulphates\n",
      "Alarm alcohol\n",
      "Day 8 :\n",
      "Alarm fixed acidity\n",
      "Alarm volatile acidity\n",
      "Alarm citric acid\n",
      "Alarm chlorides\n",
      "Alarm free sulfur dioxide\n",
      "Alarm total sulfur dioxide\n",
      "Alarm pH\n",
      "Day 9 :\n",
      "Alarm volatile acidity\n",
      "Alarm citric acid\n",
      "Alarm residual sugar\n",
      "Alarm chlorides\n",
      "Alarm free sulfur dioxide\n",
      "Alarm total sulfur dioxide\n",
      "Alarm density\n",
      "Alarm pH\n",
      "Alarm sulphates\n",
      "Day 10 :\n",
      "Alarm fixed acidity\n",
      "Alarm citric acid\n",
      "Alarm chlorides\n",
      "Alarm total sulfur dioxide\n",
      "Alarm sulphates\n",
      "Alarm alcohol\n"
     ]
    }
   ],
   "source": [
    "evidently_ai_detectors.evidently_ai_detect_seasonal_drift(data_train=wine_dataset_train,\n",
    "                                                         data_to_compare=wine_dataset_test,\n",
    "                                                         label_col=\"quality\",\n",
    "                                                         cat_features=categorical_features_names,\n",
    "                                                         action=\"multiply\",\n",
    "                                                         value_drift=1.5,\n",
    "                                                         column_name=\"pH\",\n",
    "                                                         frequency=3,\n",
    "                                                         nb_sample=100,\n",
    "                                                         nb_days=10)"
   ],
   "metadata": {
    "collapsed": false,
    "pycharm": {
     "name": "#%%\n"
    }
   }
  },
  {
   "cell_type": "markdown",
   "source": [
    "### Tensorflow"
   ],
   "metadata": {
    "collapsed": false
   }
  },
  {
   "cell_type": "code",
   "execution_count": 224,
   "outputs": [
    {
     "name": "stdout",
     "output_type": "stream",
     "text": [
      "Day 0 :\n"
     ]
    },
    {
     "data": {
      "text/plain": "                                                                      Anomaly short description  \\\nFeature name                                                                                      \n'chlorides'             High approximate Jensen-Shannon divergence between training and serving   \n'total sulfur dioxide'  High approximate Jensen-Shannon divergence between training and serving   \n'volatile acidity'      High approximate Jensen-Shannon divergence between training and serving   \n'free sulfur dioxide'   High approximate Jensen-Shannon divergence between training and serving   \n'fixed acidity'         High approximate Jensen-Shannon divergence between training and serving   \n'pH'                    High approximate Jensen-Shannon divergence between training and serving   \n'density'               High approximate Jensen-Shannon divergence between training and serving   \n'alcohol'               High approximate Jensen-Shannon divergence between training and serving   \n'residual sugar'        High approximate Jensen-Shannon divergence between training and serving   \n'citric acid'           High approximate Jensen-Shannon divergence between training and serving   \n'sulphates'             High approximate Jensen-Shannon divergence between training and serving   \n\n                                                                                                                                             Anomaly long description  \nFeature name                                                                                                                                                           \n'chlorides'              The approximate Jensen-Shannon divergence between training and serving is 0.105419 (up to six significant digits), above the threshold 0.01.  \n'total sulfur dioxide'  The approximate Jensen-Shannon divergence between training and serving is 0.0408722 (up to six significant digits), above the threshold 0.01.  \n'volatile acidity'      The approximate Jensen-Shannon divergence between training and serving is 0.0521241 (up to six significant digits), above the threshold 0.01.  \n'free sulfur dioxide'   The approximate Jensen-Shannon divergence between training and serving is 0.0407245 (up to six significant digits), above the threshold 0.01.  \n'fixed acidity'         The approximate Jensen-Shannon divergence between training and serving is 0.0493097 (up to six significant digits), above the threshold 0.01.  \n'pH'                            The approximate Jensen-Shannon divergence between training and serving is 1 (up to six significant digits), above the threshold 0.01.  \n'density'                The approximate Jensen-Shannon divergence between training and serving is 0.129452 (up to six significant digits), above the threshold 0.01.  \n'alcohol'               The approximate Jensen-Shannon divergence between training and serving is 0.0404995 (up to six significant digits), above the threshold 0.01.  \n'residual sugar'         The approximate Jensen-Shannon divergence between training and serving is 0.107767 (up to six significant digits), above the threshold 0.01.  \n'citric acid'           The approximate Jensen-Shannon divergence between training and serving is 0.0310195 (up to six significant digits), above the threshold 0.01.  \n'sulphates'               The approximate Jensen-Shannon divergence between training and serving is 0.11074 (up to six significant digits), above the threshold 0.01.  ",
      "text/html": "<div>\n<style scoped>\n    .dataframe tbody tr th:only-of-type {\n        vertical-align: middle;\n    }\n\n    .dataframe tbody tr th {\n        vertical-align: top;\n    }\n\n    .dataframe thead th {\n        text-align: right;\n    }\n</style>\n<table border=\"1\" class=\"dataframe\">\n  <thead>\n    <tr style=\"text-align: right;\">\n      <th></th>\n      <th>Anomaly short description</th>\n      <th>Anomaly long description</th>\n    </tr>\n    <tr>\n      <th>Feature name</th>\n      <th></th>\n      <th></th>\n    </tr>\n  </thead>\n  <tbody>\n    <tr>\n      <th>'chlorides'</th>\n      <td>High approximate Jensen-Shannon divergence between training and serving</td>\n      <td>The approximate Jensen-Shannon divergence between training and serving is 0.105419 (up to six significant digits), above the threshold 0.01.</td>\n    </tr>\n    <tr>\n      <th>'total sulfur dioxide'</th>\n      <td>High approximate Jensen-Shannon divergence between training and serving</td>\n      <td>The approximate Jensen-Shannon divergence between training and serving is 0.0408722 (up to six significant digits), above the threshold 0.01.</td>\n    </tr>\n    <tr>\n      <th>'volatile acidity'</th>\n      <td>High approximate Jensen-Shannon divergence between training and serving</td>\n      <td>The approximate Jensen-Shannon divergence between training and serving is 0.0521241 (up to six significant digits), above the threshold 0.01.</td>\n    </tr>\n    <tr>\n      <th>'free sulfur dioxide'</th>\n      <td>High approximate Jensen-Shannon divergence between training and serving</td>\n      <td>The approximate Jensen-Shannon divergence between training and serving is 0.0407245 (up to six significant digits), above the threshold 0.01.</td>\n    </tr>\n    <tr>\n      <th>'fixed acidity'</th>\n      <td>High approximate Jensen-Shannon divergence between training and serving</td>\n      <td>The approximate Jensen-Shannon divergence between training and serving is 0.0493097 (up to six significant digits), above the threshold 0.01.</td>\n    </tr>\n    <tr>\n      <th>'pH'</th>\n      <td>High approximate Jensen-Shannon divergence between training and serving</td>\n      <td>The approximate Jensen-Shannon divergence between training and serving is 1 (up to six significant digits), above the threshold 0.01.</td>\n    </tr>\n    <tr>\n      <th>'density'</th>\n      <td>High approximate Jensen-Shannon divergence between training and serving</td>\n      <td>The approximate Jensen-Shannon divergence between training and serving is 0.129452 (up to six significant digits), above the threshold 0.01.</td>\n    </tr>\n    <tr>\n      <th>'alcohol'</th>\n      <td>High approximate Jensen-Shannon divergence between training and serving</td>\n      <td>The approximate Jensen-Shannon divergence between training and serving is 0.0404995 (up to six significant digits), above the threshold 0.01.</td>\n    </tr>\n    <tr>\n      <th>'residual sugar'</th>\n      <td>High approximate Jensen-Shannon divergence between training and serving</td>\n      <td>The approximate Jensen-Shannon divergence between training and serving is 0.107767 (up to six significant digits), above the threshold 0.01.</td>\n    </tr>\n    <tr>\n      <th>'citric acid'</th>\n      <td>High approximate Jensen-Shannon divergence between training and serving</td>\n      <td>The approximate Jensen-Shannon divergence between training and serving is 0.0310195 (up to six significant digits), above the threshold 0.01.</td>\n    </tr>\n    <tr>\n      <th>'sulphates'</th>\n      <td>High approximate Jensen-Shannon divergence between training and serving</td>\n      <td>The approximate Jensen-Shannon divergence between training and serving is 0.11074 (up to six significant digits), above the threshold 0.01.</td>\n    </tr>\n  </tbody>\n</table>\n</div>"
     },
     "metadata": {},
     "output_type": "display_data"
    },
    {
     "name": "stdout",
     "output_type": "stream",
     "text": [
      "Day 1 :\n"
     ]
    },
    {
     "data": {
      "text/plain": "                                                                      Anomaly short description  \\\nFeature name                                                                                      \n'volatile acidity'      High approximate Jensen-Shannon divergence between training and serving   \n'fixed acidity'         High approximate Jensen-Shannon divergence between training and serving   \n'residual sugar'        High approximate Jensen-Shannon divergence between training and serving   \n'density'               High approximate Jensen-Shannon divergence between training and serving   \n'sulphates'             High approximate Jensen-Shannon divergence between training and serving   \n'chlorides'             High approximate Jensen-Shannon divergence between training and serving   \n'pH'                    High approximate Jensen-Shannon divergence between training and serving   \n'alcohol'               High approximate Jensen-Shannon divergence between training and serving   \n'total sulfur dioxide'  High approximate Jensen-Shannon divergence between training and serving   \n'citric acid'           High approximate Jensen-Shannon divergence between training and serving   \n'free sulfur dioxide'   High approximate Jensen-Shannon divergence between training and serving   \n\n                                                                                                                                             Anomaly long description  \nFeature name                                                                                                                                                           \n'volatile acidity'      The approximate Jensen-Shannon divergence between training and serving is 0.0866928 (up to six significant digits), above the threshold 0.01.  \n'fixed acidity'         The approximate Jensen-Shannon divergence between training and serving is 0.0750086 (up to six significant digits), above the threshold 0.01.  \n'residual sugar'        The approximate Jensen-Shannon divergence between training and serving is 0.0847827 (up to six significant digits), above the threshold 0.01.  \n'density'                 The approximate Jensen-Shannon divergence between training and serving is 0.10768 (up to six significant digits), above the threshold 0.01.  \n'sulphates'             The approximate Jensen-Shannon divergence between training and serving is 0.0685906 (up to six significant digits), above the threshold 0.01.  \n'chlorides'              The approximate Jensen-Shannon divergence between training and serving is 0.107076 (up to six significant digits), above the threshold 0.01.  \n'pH'                    The approximate Jensen-Shannon divergence between training and serving is 0.0350716 (up to six significant digits), above the threshold 0.01.  \n'alcohol'               The approximate Jensen-Shannon divergence between training and serving is 0.0405337 (up to six significant digits), above the threshold 0.01.  \n'total sulfur dioxide'  The approximate Jensen-Shannon divergence between training and serving is 0.0386404 (up to six significant digits), above the threshold 0.01.  \n'citric acid'           The approximate Jensen-Shannon divergence between training and serving is 0.0436163 (up to six significant digits), above the threshold 0.01.  \n'free sulfur dioxide'   The approximate Jensen-Shannon divergence between training and serving is 0.0809199 (up to six significant digits), above the threshold 0.01.  ",
      "text/html": "<div>\n<style scoped>\n    .dataframe tbody tr th:only-of-type {\n        vertical-align: middle;\n    }\n\n    .dataframe tbody tr th {\n        vertical-align: top;\n    }\n\n    .dataframe thead th {\n        text-align: right;\n    }\n</style>\n<table border=\"1\" class=\"dataframe\">\n  <thead>\n    <tr style=\"text-align: right;\">\n      <th></th>\n      <th>Anomaly short description</th>\n      <th>Anomaly long description</th>\n    </tr>\n    <tr>\n      <th>Feature name</th>\n      <th></th>\n      <th></th>\n    </tr>\n  </thead>\n  <tbody>\n    <tr>\n      <th>'volatile acidity'</th>\n      <td>High approximate Jensen-Shannon divergence between training and serving</td>\n      <td>The approximate Jensen-Shannon divergence between training and serving is 0.0866928 (up to six significant digits), above the threshold 0.01.</td>\n    </tr>\n    <tr>\n      <th>'fixed acidity'</th>\n      <td>High approximate Jensen-Shannon divergence between training and serving</td>\n      <td>The approximate Jensen-Shannon divergence between training and serving is 0.0750086 (up to six significant digits), above the threshold 0.01.</td>\n    </tr>\n    <tr>\n      <th>'residual sugar'</th>\n      <td>High approximate Jensen-Shannon divergence between training and serving</td>\n      <td>The approximate Jensen-Shannon divergence between training and serving is 0.0847827 (up to six significant digits), above the threshold 0.01.</td>\n    </tr>\n    <tr>\n      <th>'density'</th>\n      <td>High approximate Jensen-Shannon divergence between training and serving</td>\n      <td>The approximate Jensen-Shannon divergence between training and serving is 0.10768 (up to six significant digits), above the threshold 0.01.</td>\n    </tr>\n    <tr>\n      <th>'sulphates'</th>\n      <td>High approximate Jensen-Shannon divergence between training and serving</td>\n      <td>The approximate Jensen-Shannon divergence between training and serving is 0.0685906 (up to six significant digits), above the threshold 0.01.</td>\n    </tr>\n    <tr>\n      <th>'chlorides'</th>\n      <td>High approximate Jensen-Shannon divergence between training and serving</td>\n      <td>The approximate Jensen-Shannon divergence between training and serving is 0.107076 (up to six significant digits), above the threshold 0.01.</td>\n    </tr>\n    <tr>\n      <th>'pH'</th>\n      <td>High approximate Jensen-Shannon divergence between training and serving</td>\n      <td>The approximate Jensen-Shannon divergence between training and serving is 0.0350716 (up to six significant digits), above the threshold 0.01.</td>\n    </tr>\n    <tr>\n      <th>'alcohol'</th>\n      <td>High approximate Jensen-Shannon divergence between training and serving</td>\n      <td>The approximate Jensen-Shannon divergence between training and serving is 0.0405337 (up to six significant digits), above the threshold 0.01.</td>\n    </tr>\n    <tr>\n      <th>'total sulfur dioxide'</th>\n      <td>High approximate Jensen-Shannon divergence between training and serving</td>\n      <td>The approximate Jensen-Shannon divergence between training and serving is 0.0386404 (up to six significant digits), above the threshold 0.01.</td>\n    </tr>\n    <tr>\n      <th>'citric acid'</th>\n      <td>High approximate Jensen-Shannon divergence between training and serving</td>\n      <td>The approximate Jensen-Shannon divergence between training and serving is 0.0436163 (up to six significant digits), above the threshold 0.01.</td>\n    </tr>\n    <tr>\n      <th>'free sulfur dioxide'</th>\n      <td>High approximate Jensen-Shannon divergence between training and serving</td>\n      <td>The approximate Jensen-Shannon divergence between training and serving is 0.0809199 (up to six significant digits), above the threshold 0.01.</td>\n    </tr>\n  </tbody>\n</table>\n</div>"
     },
     "metadata": {},
     "output_type": "display_data"
    },
    {
     "name": "stdout",
     "output_type": "stream",
     "text": [
      "Day 2 :\n"
     ]
    },
    {
     "data": {
      "text/plain": "                                                                      Anomaly short description  \\\nFeature name                                                                                      \n'total sulfur dioxide'  High approximate Jensen-Shannon divergence between training and serving   \n'sulphates'             High approximate Jensen-Shannon divergence between training and serving   \n'residual sugar'        High approximate Jensen-Shannon divergence between training and serving   \n'chlorides'             High approximate Jensen-Shannon divergence between training and serving   \n'alcohol'               High approximate Jensen-Shannon divergence between training and serving   \n'density'               High approximate Jensen-Shannon divergence between training and serving   \n'fixed acidity'         High approximate Jensen-Shannon divergence between training and serving   \n'pH'                    High approximate Jensen-Shannon divergence between training and serving   \n'free sulfur dioxide'   High approximate Jensen-Shannon divergence between training and serving   \n'citric acid'           High approximate Jensen-Shannon divergence between training and serving   \n'volatile acidity'      High approximate Jensen-Shannon divergence between training and serving   \n\n                                                                                                                                             Anomaly long description  \nFeature name                                                                                                                                                           \n'total sulfur dioxide'  The approximate Jensen-Shannon divergence between training and serving is 0.0389974 (up to six significant digits), above the threshold 0.01.  \n'sulphates'             The approximate Jensen-Shannon divergence between training and serving is 0.0681078 (up to six significant digits), above the threshold 0.01.  \n'residual sugar'         The approximate Jensen-Shannon divergence between training and serving is 0.162326 (up to six significant digits), above the threshold 0.01.  \n'chlorides'              The approximate Jensen-Shannon divergence between training and serving is 0.158128 (up to six significant digits), above the threshold 0.01.  \n'alcohol'               The approximate Jensen-Shannon divergence between training and serving is 0.0221075 (up to six significant digits), above the threshold 0.01.  \n'density'                The approximate Jensen-Shannon divergence between training and serving is 0.104628 (up to six significant digits), above the threshold 0.01.  \n'fixed acidity'         The approximate Jensen-Shannon divergence between training and serving is 0.0565165 (up to six significant digits), above the threshold 0.01.  \n'pH'                    The approximate Jensen-Shannon divergence between training and serving is 0.0337828 (up to six significant digits), above the threshold 0.01.  \n'free sulfur dioxide'   The approximate Jensen-Shannon divergence between training and serving is 0.0510565 (up to six significant digits), above the threshold 0.01.  \n'citric acid'           The approximate Jensen-Shannon divergence between training and serving is 0.0362333 (up to six significant digits), above the threshold 0.01.  \n'volatile acidity'      The approximate Jensen-Shannon divergence between training and serving is 0.0530367 (up to six significant digits), above the threshold 0.01.  ",
      "text/html": "<div>\n<style scoped>\n    .dataframe tbody tr th:only-of-type {\n        vertical-align: middle;\n    }\n\n    .dataframe tbody tr th {\n        vertical-align: top;\n    }\n\n    .dataframe thead th {\n        text-align: right;\n    }\n</style>\n<table border=\"1\" class=\"dataframe\">\n  <thead>\n    <tr style=\"text-align: right;\">\n      <th></th>\n      <th>Anomaly short description</th>\n      <th>Anomaly long description</th>\n    </tr>\n    <tr>\n      <th>Feature name</th>\n      <th></th>\n      <th></th>\n    </tr>\n  </thead>\n  <tbody>\n    <tr>\n      <th>'total sulfur dioxide'</th>\n      <td>High approximate Jensen-Shannon divergence between training and serving</td>\n      <td>The approximate Jensen-Shannon divergence between training and serving is 0.0389974 (up to six significant digits), above the threshold 0.01.</td>\n    </tr>\n    <tr>\n      <th>'sulphates'</th>\n      <td>High approximate Jensen-Shannon divergence between training and serving</td>\n      <td>The approximate Jensen-Shannon divergence between training and serving is 0.0681078 (up to six significant digits), above the threshold 0.01.</td>\n    </tr>\n    <tr>\n      <th>'residual sugar'</th>\n      <td>High approximate Jensen-Shannon divergence between training and serving</td>\n      <td>The approximate Jensen-Shannon divergence between training and serving is 0.162326 (up to six significant digits), above the threshold 0.01.</td>\n    </tr>\n    <tr>\n      <th>'chlorides'</th>\n      <td>High approximate Jensen-Shannon divergence between training and serving</td>\n      <td>The approximate Jensen-Shannon divergence between training and serving is 0.158128 (up to six significant digits), above the threshold 0.01.</td>\n    </tr>\n    <tr>\n      <th>'alcohol'</th>\n      <td>High approximate Jensen-Shannon divergence between training and serving</td>\n      <td>The approximate Jensen-Shannon divergence between training and serving is 0.0221075 (up to six significant digits), above the threshold 0.01.</td>\n    </tr>\n    <tr>\n      <th>'density'</th>\n      <td>High approximate Jensen-Shannon divergence between training and serving</td>\n      <td>The approximate Jensen-Shannon divergence between training and serving is 0.104628 (up to six significant digits), above the threshold 0.01.</td>\n    </tr>\n    <tr>\n      <th>'fixed acidity'</th>\n      <td>High approximate Jensen-Shannon divergence between training and serving</td>\n      <td>The approximate Jensen-Shannon divergence between training and serving is 0.0565165 (up to six significant digits), above the threshold 0.01.</td>\n    </tr>\n    <tr>\n      <th>'pH'</th>\n      <td>High approximate Jensen-Shannon divergence between training and serving</td>\n      <td>The approximate Jensen-Shannon divergence between training and serving is 0.0337828 (up to six significant digits), above the threshold 0.01.</td>\n    </tr>\n    <tr>\n      <th>'free sulfur dioxide'</th>\n      <td>High approximate Jensen-Shannon divergence between training and serving</td>\n      <td>The approximate Jensen-Shannon divergence between training and serving is 0.0510565 (up to six significant digits), above the threshold 0.01.</td>\n    </tr>\n    <tr>\n      <th>'citric acid'</th>\n      <td>High approximate Jensen-Shannon divergence between training and serving</td>\n      <td>The approximate Jensen-Shannon divergence between training and serving is 0.0362333 (up to six significant digits), above the threshold 0.01.</td>\n    </tr>\n    <tr>\n      <th>'volatile acidity'</th>\n      <td>High approximate Jensen-Shannon divergence between training and serving</td>\n      <td>The approximate Jensen-Shannon divergence between training and serving is 0.0530367 (up to six significant digits), above the threshold 0.01.</td>\n    </tr>\n  </tbody>\n</table>\n</div>"
     },
     "metadata": {},
     "output_type": "display_data"
    },
    {
     "name": "stdout",
     "output_type": "stream",
     "text": [
      "Day 3 :\n"
     ]
    },
    {
     "data": {
      "text/plain": "                                                                      Anomaly short description  \\\nFeature name                                                                                      \n'sulphates'             High approximate Jensen-Shannon divergence between training and serving   \n'free sulfur dioxide'   High approximate Jensen-Shannon divergence between training and serving   \n'density'               High approximate Jensen-Shannon divergence between training and serving   \n'total sulfur dioxide'  High approximate Jensen-Shannon divergence between training and serving   \n'residual sugar'        High approximate Jensen-Shannon divergence between training and serving   \n'volatile acidity'      High approximate Jensen-Shannon divergence between training and serving   \n'chlorides'             High approximate Jensen-Shannon divergence between training and serving   \n'pH'                    High approximate Jensen-Shannon divergence between training and serving   \n'citric acid'           High approximate Jensen-Shannon divergence between training and serving   \n'alcohol'               High approximate Jensen-Shannon divergence between training and serving   \n'fixed acidity'         High approximate Jensen-Shannon divergence between training and serving   \n\n                                                                                                                                             Anomaly long description  \nFeature name                                                                                                                                                           \n'sulphates'             The approximate Jensen-Shannon divergence between training and serving is 0.0735388 (up to six significant digits), above the threshold 0.01.  \n'free sulfur dioxide'   The approximate Jensen-Shannon divergence between training and serving is 0.0486961 (up to six significant digits), above the threshold 0.01.  \n'density'               The approximate Jensen-Shannon divergence between training and serving is 0.0965831 (up to six significant digits), above the threshold 0.01.  \n'total sulfur dioxide'   The approximate Jensen-Shannon divergence between training and serving is 0.026806 (up to six significant digits), above the threshold 0.01.  \n'residual sugar'         The approximate Jensen-Shannon divergence between training and serving is 0.109211 (up to six significant digits), above the threshold 0.01.  \n'volatile acidity'      The approximate Jensen-Shannon divergence between training and serving is 0.0656055 (up to six significant digits), above the threshold 0.01.  \n'chlorides'              The approximate Jensen-Shannon divergence between training and serving is 0.105643 (up to six significant digits), above the threshold 0.01.  \n'pH'                            The approximate Jensen-Shannon divergence between training and serving is 1 (up to six significant digits), above the threshold 0.01.  \n'citric acid'           The approximate Jensen-Shannon divergence between training and serving is 0.0464593 (up to six significant digits), above the threshold 0.01.  \n'alcohol'               The approximate Jensen-Shannon divergence between training and serving is 0.0613509 (up to six significant digits), above the threshold 0.01.  \n'fixed acidity'          The approximate Jensen-Shannon divergence between training and serving is 0.042628 (up to six significant digits), above the threshold 0.01.  ",
      "text/html": "<div>\n<style scoped>\n    .dataframe tbody tr th:only-of-type {\n        vertical-align: middle;\n    }\n\n    .dataframe tbody tr th {\n        vertical-align: top;\n    }\n\n    .dataframe thead th {\n        text-align: right;\n    }\n</style>\n<table border=\"1\" class=\"dataframe\">\n  <thead>\n    <tr style=\"text-align: right;\">\n      <th></th>\n      <th>Anomaly short description</th>\n      <th>Anomaly long description</th>\n    </tr>\n    <tr>\n      <th>Feature name</th>\n      <th></th>\n      <th></th>\n    </tr>\n  </thead>\n  <tbody>\n    <tr>\n      <th>'sulphates'</th>\n      <td>High approximate Jensen-Shannon divergence between training and serving</td>\n      <td>The approximate Jensen-Shannon divergence between training and serving is 0.0735388 (up to six significant digits), above the threshold 0.01.</td>\n    </tr>\n    <tr>\n      <th>'free sulfur dioxide'</th>\n      <td>High approximate Jensen-Shannon divergence between training and serving</td>\n      <td>The approximate Jensen-Shannon divergence between training and serving is 0.0486961 (up to six significant digits), above the threshold 0.01.</td>\n    </tr>\n    <tr>\n      <th>'density'</th>\n      <td>High approximate Jensen-Shannon divergence between training and serving</td>\n      <td>The approximate Jensen-Shannon divergence between training and serving is 0.0965831 (up to six significant digits), above the threshold 0.01.</td>\n    </tr>\n    <tr>\n      <th>'total sulfur dioxide'</th>\n      <td>High approximate Jensen-Shannon divergence between training and serving</td>\n      <td>The approximate Jensen-Shannon divergence between training and serving is 0.026806 (up to six significant digits), above the threshold 0.01.</td>\n    </tr>\n    <tr>\n      <th>'residual sugar'</th>\n      <td>High approximate Jensen-Shannon divergence between training and serving</td>\n      <td>The approximate Jensen-Shannon divergence between training and serving is 0.109211 (up to six significant digits), above the threshold 0.01.</td>\n    </tr>\n    <tr>\n      <th>'volatile acidity'</th>\n      <td>High approximate Jensen-Shannon divergence between training and serving</td>\n      <td>The approximate Jensen-Shannon divergence between training and serving is 0.0656055 (up to six significant digits), above the threshold 0.01.</td>\n    </tr>\n    <tr>\n      <th>'chlorides'</th>\n      <td>High approximate Jensen-Shannon divergence between training and serving</td>\n      <td>The approximate Jensen-Shannon divergence between training and serving is 0.105643 (up to six significant digits), above the threshold 0.01.</td>\n    </tr>\n    <tr>\n      <th>'pH'</th>\n      <td>High approximate Jensen-Shannon divergence between training and serving</td>\n      <td>The approximate Jensen-Shannon divergence between training and serving is 1 (up to six significant digits), above the threshold 0.01.</td>\n    </tr>\n    <tr>\n      <th>'citric acid'</th>\n      <td>High approximate Jensen-Shannon divergence between training and serving</td>\n      <td>The approximate Jensen-Shannon divergence between training and serving is 0.0464593 (up to six significant digits), above the threshold 0.01.</td>\n    </tr>\n    <tr>\n      <th>'alcohol'</th>\n      <td>High approximate Jensen-Shannon divergence between training and serving</td>\n      <td>The approximate Jensen-Shannon divergence between training and serving is 0.0613509 (up to six significant digits), above the threshold 0.01.</td>\n    </tr>\n    <tr>\n      <th>'fixed acidity'</th>\n      <td>High approximate Jensen-Shannon divergence between training and serving</td>\n      <td>The approximate Jensen-Shannon divergence between training and serving is 0.042628 (up to six significant digits), above the threshold 0.01.</td>\n    </tr>\n  </tbody>\n</table>\n</div>"
     },
     "metadata": {},
     "output_type": "display_data"
    },
    {
     "name": "stdout",
     "output_type": "stream",
     "text": [
      "Day 4 :\n"
     ]
    },
    {
     "data": {
      "text/plain": "                                                                      Anomaly short description  \\\nFeature name                                                                                      \n'volatile acidity'      High approximate Jensen-Shannon divergence between training and serving   \n'residual sugar'        High approximate Jensen-Shannon divergence between training and serving   \n'fixed acidity'         High approximate Jensen-Shannon divergence between training and serving   \n'sulphates'             High approximate Jensen-Shannon divergence between training and serving   \n'density'               High approximate Jensen-Shannon divergence between training and serving   \n'chlorides'             High approximate Jensen-Shannon divergence between training and serving   \n'pH'                    High approximate Jensen-Shannon divergence between training and serving   \n'alcohol'               High approximate Jensen-Shannon divergence between training and serving   \n'total sulfur dioxide'  High approximate Jensen-Shannon divergence between training and serving   \n'free sulfur dioxide'   High approximate Jensen-Shannon divergence between training and serving   \n'citric acid'           High approximate Jensen-Shannon divergence between training and serving   \n\n                                                                                                                                             Anomaly long description  \nFeature name                                                                                                                                                           \n'volatile acidity'      The approximate Jensen-Shannon divergence between training and serving is 0.0626326 (up to six significant digits), above the threshold 0.01.  \n'residual sugar'        The approximate Jensen-Shannon divergence between training and serving is 0.0888775 (up to six significant digits), above the threshold 0.01.  \n'fixed acidity'         The approximate Jensen-Shannon divergence between training and serving is 0.0850696 (up to six significant digits), above the threshold 0.01.  \n'sulphates'             The approximate Jensen-Shannon divergence between training and serving is 0.0885827 (up to six significant digits), above the threshold 0.01.  \n'density'               The approximate Jensen-Shannon divergence between training and serving is 0.0999085 (up to six significant digits), above the threshold 0.01.  \n'chlorides'               The approximate Jensen-Shannon divergence between training and serving is 0.14453 (up to six significant digits), above the threshold 0.01.  \n'pH'                    The approximate Jensen-Shannon divergence between training and serving is 0.0455463 (up to six significant digits), above the threshold 0.01.  \n'alcohol'               The approximate Jensen-Shannon divergence between training and serving is 0.0353798 (up to six significant digits), above the threshold 0.01.  \n'total sulfur dioxide'  The approximate Jensen-Shannon divergence between training and serving is 0.0394304 (up to six significant digits), above the threshold 0.01.  \n'free sulfur dioxide'   The approximate Jensen-Shannon divergence between training and serving is 0.0495376 (up to six significant digits), above the threshold 0.01.  \n'citric acid'            The approximate Jensen-Shannon divergence between training and serving is 0.050325 (up to six significant digits), above the threshold 0.01.  ",
      "text/html": "<div>\n<style scoped>\n    .dataframe tbody tr th:only-of-type {\n        vertical-align: middle;\n    }\n\n    .dataframe tbody tr th {\n        vertical-align: top;\n    }\n\n    .dataframe thead th {\n        text-align: right;\n    }\n</style>\n<table border=\"1\" class=\"dataframe\">\n  <thead>\n    <tr style=\"text-align: right;\">\n      <th></th>\n      <th>Anomaly short description</th>\n      <th>Anomaly long description</th>\n    </tr>\n    <tr>\n      <th>Feature name</th>\n      <th></th>\n      <th></th>\n    </tr>\n  </thead>\n  <tbody>\n    <tr>\n      <th>'volatile acidity'</th>\n      <td>High approximate Jensen-Shannon divergence between training and serving</td>\n      <td>The approximate Jensen-Shannon divergence between training and serving is 0.0626326 (up to six significant digits), above the threshold 0.01.</td>\n    </tr>\n    <tr>\n      <th>'residual sugar'</th>\n      <td>High approximate Jensen-Shannon divergence between training and serving</td>\n      <td>The approximate Jensen-Shannon divergence between training and serving is 0.0888775 (up to six significant digits), above the threshold 0.01.</td>\n    </tr>\n    <tr>\n      <th>'fixed acidity'</th>\n      <td>High approximate Jensen-Shannon divergence between training and serving</td>\n      <td>The approximate Jensen-Shannon divergence between training and serving is 0.0850696 (up to six significant digits), above the threshold 0.01.</td>\n    </tr>\n    <tr>\n      <th>'sulphates'</th>\n      <td>High approximate Jensen-Shannon divergence between training and serving</td>\n      <td>The approximate Jensen-Shannon divergence between training and serving is 0.0885827 (up to six significant digits), above the threshold 0.01.</td>\n    </tr>\n    <tr>\n      <th>'density'</th>\n      <td>High approximate Jensen-Shannon divergence between training and serving</td>\n      <td>The approximate Jensen-Shannon divergence between training and serving is 0.0999085 (up to six significant digits), above the threshold 0.01.</td>\n    </tr>\n    <tr>\n      <th>'chlorides'</th>\n      <td>High approximate Jensen-Shannon divergence between training and serving</td>\n      <td>The approximate Jensen-Shannon divergence between training and serving is 0.14453 (up to six significant digits), above the threshold 0.01.</td>\n    </tr>\n    <tr>\n      <th>'pH'</th>\n      <td>High approximate Jensen-Shannon divergence between training and serving</td>\n      <td>The approximate Jensen-Shannon divergence between training and serving is 0.0455463 (up to six significant digits), above the threshold 0.01.</td>\n    </tr>\n    <tr>\n      <th>'alcohol'</th>\n      <td>High approximate Jensen-Shannon divergence between training and serving</td>\n      <td>The approximate Jensen-Shannon divergence between training and serving is 0.0353798 (up to six significant digits), above the threshold 0.01.</td>\n    </tr>\n    <tr>\n      <th>'total sulfur dioxide'</th>\n      <td>High approximate Jensen-Shannon divergence between training and serving</td>\n      <td>The approximate Jensen-Shannon divergence between training and serving is 0.0394304 (up to six significant digits), above the threshold 0.01.</td>\n    </tr>\n    <tr>\n      <th>'free sulfur dioxide'</th>\n      <td>High approximate Jensen-Shannon divergence between training and serving</td>\n      <td>The approximate Jensen-Shannon divergence between training and serving is 0.0495376 (up to six significant digits), above the threshold 0.01.</td>\n    </tr>\n    <tr>\n      <th>'citric acid'</th>\n      <td>High approximate Jensen-Shannon divergence between training and serving</td>\n      <td>The approximate Jensen-Shannon divergence between training and serving is 0.050325 (up to six significant digits), above the threshold 0.01.</td>\n    </tr>\n  </tbody>\n</table>\n</div>"
     },
     "metadata": {},
     "output_type": "display_data"
    },
    {
     "name": "stdout",
     "output_type": "stream",
     "text": [
      "Day 5 :\n"
     ]
    },
    {
     "data": {
      "text/plain": "                                                                      Anomaly short description  \\\nFeature name                                                                                      \n'free sulfur dioxide'   High approximate Jensen-Shannon divergence between training and serving   \n'citric acid'           High approximate Jensen-Shannon divergence between training and serving   \n'pH'                    High approximate Jensen-Shannon divergence between training and serving   \n'total sulfur dioxide'  High approximate Jensen-Shannon divergence between training and serving   \n'fixed acidity'         High approximate Jensen-Shannon divergence between training and serving   \n'volatile acidity'      High approximate Jensen-Shannon divergence between training and serving   \n'residual sugar'        High approximate Jensen-Shannon divergence between training and serving   \n'chlorides'             High approximate Jensen-Shannon divergence between training and serving   \n'sulphates'             High approximate Jensen-Shannon divergence between training and serving   \n'density'               High approximate Jensen-Shannon divergence between training and serving   \n'alcohol'               High approximate Jensen-Shannon divergence between training and serving   \n\n                                                                                                                                             Anomaly long description  \nFeature name                                                                                                                                                           \n'free sulfur dioxide'   The approximate Jensen-Shannon divergence between training and serving is 0.0705766 (up to six significant digits), above the threshold 0.01.  \n'citric acid'           The approximate Jensen-Shannon divergence between training and serving is 0.0337264 (up to six significant digits), above the threshold 0.01.  \n'pH'                    The approximate Jensen-Shannon divergence between training and serving is 0.0543864 (up to six significant digits), above the threshold 0.01.  \n'total sulfur dioxide'  The approximate Jensen-Shannon divergence between training and serving is 0.0735305 (up to six significant digits), above the threshold 0.01.  \n'fixed acidity'         The approximate Jensen-Shannon divergence between training and serving is 0.0690575 (up to six significant digits), above the threshold 0.01.  \n'volatile acidity'      The approximate Jensen-Shannon divergence between training and serving is 0.0254778 (up to six significant digits), above the threshold 0.01.  \n'residual sugar'         The approximate Jensen-Shannon divergence between training and serving is 0.142981 (up to six significant digits), above the threshold 0.01.  \n'chlorides'              The approximate Jensen-Shannon divergence between training and serving is 0.126881 (up to six significant digits), above the threshold 0.01.  \n'sulphates'             The approximate Jensen-Shannon divergence between training and serving is 0.0851038 (up to six significant digits), above the threshold 0.01.  \n'density'                 The approximate Jensen-Shannon divergence between training and serving is 0.09519 (up to six significant digits), above the threshold 0.01.  \n'alcohol'               The approximate Jensen-Shannon divergence between training and serving is 0.0305412 (up to six significant digits), above the threshold 0.01.  ",
      "text/html": "<div>\n<style scoped>\n    .dataframe tbody tr th:only-of-type {\n        vertical-align: middle;\n    }\n\n    .dataframe tbody tr th {\n        vertical-align: top;\n    }\n\n    .dataframe thead th {\n        text-align: right;\n    }\n</style>\n<table border=\"1\" class=\"dataframe\">\n  <thead>\n    <tr style=\"text-align: right;\">\n      <th></th>\n      <th>Anomaly short description</th>\n      <th>Anomaly long description</th>\n    </tr>\n    <tr>\n      <th>Feature name</th>\n      <th></th>\n      <th></th>\n    </tr>\n  </thead>\n  <tbody>\n    <tr>\n      <th>'free sulfur dioxide'</th>\n      <td>High approximate Jensen-Shannon divergence between training and serving</td>\n      <td>The approximate Jensen-Shannon divergence between training and serving is 0.0705766 (up to six significant digits), above the threshold 0.01.</td>\n    </tr>\n    <tr>\n      <th>'citric acid'</th>\n      <td>High approximate Jensen-Shannon divergence between training and serving</td>\n      <td>The approximate Jensen-Shannon divergence between training and serving is 0.0337264 (up to six significant digits), above the threshold 0.01.</td>\n    </tr>\n    <tr>\n      <th>'pH'</th>\n      <td>High approximate Jensen-Shannon divergence between training and serving</td>\n      <td>The approximate Jensen-Shannon divergence between training and serving is 0.0543864 (up to six significant digits), above the threshold 0.01.</td>\n    </tr>\n    <tr>\n      <th>'total sulfur dioxide'</th>\n      <td>High approximate Jensen-Shannon divergence between training and serving</td>\n      <td>The approximate Jensen-Shannon divergence between training and serving is 0.0735305 (up to six significant digits), above the threshold 0.01.</td>\n    </tr>\n    <tr>\n      <th>'fixed acidity'</th>\n      <td>High approximate Jensen-Shannon divergence between training and serving</td>\n      <td>The approximate Jensen-Shannon divergence between training and serving is 0.0690575 (up to six significant digits), above the threshold 0.01.</td>\n    </tr>\n    <tr>\n      <th>'volatile acidity'</th>\n      <td>High approximate Jensen-Shannon divergence between training and serving</td>\n      <td>The approximate Jensen-Shannon divergence between training and serving is 0.0254778 (up to six significant digits), above the threshold 0.01.</td>\n    </tr>\n    <tr>\n      <th>'residual sugar'</th>\n      <td>High approximate Jensen-Shannon divergence between training and serving</td>\n      <td>The approximate Jensen-Shannon divergence between training and serving is 0.142981 (up to six significant digits), above the threshold 0.01.</td>\n    </tr>\n    <tr>\n      <th>'chlorides'</th>\n      <td>High approximate Jensen-Shannon divergence between training and serving</td>\n      <td>The approximate Jensen-Shannon divergence between training and serving is 0.126881 (up to six significant digits), above the threshold 0.01.</td>\n    </tr>\n    <tr>\n      <th>'sulphates'</th>\n      <td>High approximate Jensen-Shannon divergence between training and serving</td>\n      <td>The approximate Jensen-Shannon divergence between training and serving is 0.0851038 (up to six significant digits), above the threshold 0.01.</td>\n    </tr>\n    <tr>\n      <th>'density'</th>\n      <td>High approximate Jensen-Shannon divergence between training and serving</td>\n      <td>The approximate Jensen-Shannon divergence between training and serving is 0.09519 (up to six significant digits), above the threshold 0.01.</td>\n    </tr>\n    <tr>\n      <th>'alcohol'</th>\n      <td>High approximate Jensen-Shannon divergence between training and serving</td>\n      <td>The approximate Jensen-Shannon divergence between training and serving is 0.0305412 (up to six significant digits), above the threshold 0.01.</td>\n    </tr>\n  </tbody>\n</table>\n</div>"
     },
     "metadata": {},
     "output_type": "display_data"
    },
    {
     "name": "stdout",
     "output_type": "stream",
     "text": [
      "Day 6 :\n"
     ]
    },
    {
     "data": {
      "text/plain": "                                                                      Anomaly short description  \\\nFeature name                                                                                      \n'volatile acidity'      High approximate Jensen-Shannon divergence between training and serving   \n'sulphates'             High approximate Jensen-Shannon divergence between training and serving   \n'alcohol'               High approximate Jensen-Shannon divergence between training and serving   \n'total sulfur dioxide'  High approximate Jensen-Shannon divergence between training and serving   \n'citric acid'           High approximate Jensen-Shannon divergence between training and serving   \n'fixed acidity'         High approximate Jensen-Shannon divergence between training and serving   \n'free sulfur dioxide'   High approximate Jensen-Shannon divergence between training and serving   \n'density'               High approximate Jensen-Shannon divergence between training and serving   \n'pH'                    High approximate Jensen-Shannon divergence between training and serving   \n'residual sugar'        High approximate Jensen-Shannon divergence between training and serving   \n'chlorides'             High approximate Jensen-Shannon divergence between training and serving   \n\n                                                                                                                                             Anomaly long description  \nFeature name                                                                                                                                                           \n'volatile acidity'      The approximate Jensen-Shannon divergence between training and serving is 0.0496833 (up to six significant digits), above the threshold 0.01.  \n'sulphates'             The approximate Jensen-Shannon divergence between training and serving is 0.0761056 (up to six significant digits), above the threshold 0.01.  \n'alcohol'                The approximate Jensen-Shannon divergence between training and serving is 0.039518 (up to six significant digits), above the threshold 0.01.  \n'total sulfur dioxide'  The approximate Jensen-Shannon divergence between training and serving is 0.0338968 (up to six significant digits), above the threshold 0.01.  \n'citric acid'            The approximate Jensen-Shannon divergence between training and serving is 0.038734 (up to six significant digits), above the threshold 0.01.  \n'fixed acidity'         The approximate Jensen-Shannon divergence between training and serving is 0.0818452 (up to six significant digits), above the threshold 0.01.  \n'free sulfur dioxide'    The approximate Jensen-Shannon divergence between training and serving is 0.059496 (up to six significant digits), above the threshold 0.01.  \n'density'                The approximate Jensen-Shannon divergence between training and serving is 0.105458 (up to six significant digits), above the threshold 0.01.  \n'pH'                            The approximate Jensen-Shannon divergence between training and serving is 1 (up to six significant digits), above the threshold 0.01.  \n'residual sugar'        The approximate Jensen-Shannon divergence between training and serving is 0.0741271 (up to six significant digits), above the threshold 0.01.  \n'chlorides'              The approximate Jensen-Shannon divergence between training and serving is 0.161965 (up to six significant digits), above the threshold 0.01.  ",
      "text/html": "<div>\n<style scoped>\n    .dataframe tbody tr th:only-of-type {\n        vertical-align: middle;\n    }\n\n    .dataframe tbody tr th {\n        vertical-align: top;\n    }\n\n    .dataframe thead th {\n        text-align: right;\n    }\n</style>\n<table border=\"1\" class=\"dataframe\">\n  <thead>\n    <tr style=\"text-align: right;\">\n      <th></th>\n      <th>Anomaly short description</th>\n      <th>Anomaly long description</th>\n    </tr>\n    <tr>\n      <th>Feature name</th>\n      <th></th>\n      <th></th>\n    </tr>\n  </thead>\n  <tbody>\n    <tr>\n      <th>'volatile acidity'</th>\n      <td>High approximate Jensen-Shannon divergence between training and serving</td>\n      <td>The approximate Jensen-Shannon divergence between training and serving is 0.0496833 (up to six significant digits), above the threshold 0.01.</td>\n    </tr>\n    <tr>\n      <th>'sulphates'</th>\n      <td>High approximate Jensen-Shannon divergence between training and serving</td>\n      <td>The approximate Jensen-Shannon divergence between training and serving is 0.0761056 (up to six significant digits), above the threshold 0.01.</td>\n    </tr>\n    <tr>\n      <th>'alcohol'</th>\n      <td>High approximate Jensen-Shannon divergence between training and serving</td>\n      <td>The approximate Jensen-Shannon divergence between training and serving is 0.039518 (up to six significant digits), above the threshold 0.01.</td>\n    </tr>\n    <tr>\n      <th>'total sulfur dioxide'</th>\n      <td>High approximate Jensen-Shannon divergence between training and serving</td>\n      <td>The approximate Jensen-Shannon divergence between training and serving is 0.0338968 (up to six significant digits), above the threshold 0.01.</td>\n    </tr>\n    <tr>\n      <th>'citric acid'</th>\n      <td>High approximate Jensen-Shannon divergence between training and serving</td>\n      <td>The approximate Jensen-Shannon divergence between training and serving is 0.038734 (up to six significant digits), above the threshold 0.01.</td>\n    </tr>\n    <tr>\n      <th>'fixed acidity'</th>\n      <td>High approximate Jensen-Shannon divergence between training and serving</td>\n      <td>The approximate Jensen-Shannon divergence between training and serving is 0.0818452 (up to six significant digits), above the threshold 0.01.</td>\n    </tr>\n    <tr>\n      <th>'free sulfur dioxide'</th>\n      <td>High approximate Jensen-Shannon divergence between training and serving</td>\n      <td>The approximate Jensen-Shannon divergence between training and serving is 0.059496 (up to six significant digits), above the threshold 0.01.</td>\n    </tr>\n    <tr>\n      <th>'density'</th>\n      <td>High approximate Jensen-Shannon divergence between training and serving</td>\n      <td>The approximate Jensen-Shannon divergence between training and serving is 0.105458 (up to six significant digits), above the threshold 0.01.</td>\n    </tr>\n    <tr>\n      <th>'pH'</th>\n      <td>High approximate Jensen-Shannon divergence between training and serving</td>\n      <td>The approximate Jensen-Shannon divergence between training and serving is 1 (up to six significant digits), above the threshold 0.01.</td>\n    </tr>\n    <tr>\n      <th>'residual sugar'</th>\n      <td>High approximate Jensen-Shannon divergence between training and serving</td>\n      <td>The approximate Jensen-Shannon divergence between training and serving is 0.0741271 (up to six significant digits), above the threshold 0.01.</td>\n    </tr>\n    <tr>\n      <th>'chlorides'</th>\n      <td>High approximate Jensen-Shannon divergence between training and serving</td>\n      <td>The approximate Jensen-Shannon divergence between training and serving is 0.161965 (up to six significant digits), above the threshold 0.01.</td>\n    </tr>\n  </tbody>\n</table>\n</div>"
     },
     "metadata": {},
     "output_type": "display_data"
    },
    {
     "name": "stdout",
     "output_type": "stream",
     "text": [
      "Day 7 :\n"
     ]
    },
    {
     "data": {
      "text/plain": "                                                                      Anomaly short description  \\\nFeature name                                                                                      \n'alcohol'               High approximate Jensen-Shannon divergence between training and serving   \n'sulphates'             High approximate Jensen-Shannon divergence between training and serving   \n'citric acid'           High approximate Jensen-Shannon divergence between training and serving   \n'density'               High approximate Jensen-Shannon divergence between training and serving   \n'volatile acidity'      High approximate Jensen-Shannon divergence between training and serving   \n'total sulfur dioxide'  High approximate Jensen-Shannon divergence between training and serving   \n'chlorides'             High approximate Jensen-Shannon divergence between training and serving   \n'residual sugar'        High approximate Jensen-Shannon divergence between training and serving   \n'pH'                    High approximate Jensen-Shannon divergence between training and serving   \n'fixed acidity'         High approximate Jensen-Shannon divergence between training and serving   \n'free sulfur dioxide'   High approximate Jensen-Shannon divergence between training and serving   \n\n                                                                                                                                             Anomaly long description  \nFeature name                                                                                                                                                           \n'alcohol'               The approximate Jensen-Shannon divergence between training and serving is 0.0312068 (up to six significant digits), above the threshold 0.01.  \n'sulphates'             The approximate Jensen-Shannon divergence between training and serving is 0.0869457 (up to six significant digits), above the threshold 0.01.  \n'citric acid'           The approximate Jensen-Shannon divergence between training and serving is 0.0473816 (up to six significant digits), above the threshold 0.01.  \n'density'               The approximate Jensen-Shannon divergence between training and serving is 0.0964337 (up to six significant digits), above the threshold 0.01.  \n'volatile acidity'      The approximate Jensen-Shannon divergence between training and serving is 0.0749396 (up to six significant digits), above the threshold 0.01.  \n'total sulfur dioxide'   The approximate Jensen-Shannon divergence between training and serving is 0.022238 (up to six significant digits), above the threshold 0.01.  \n'chlorides'              The approximate Jensen-Shannon divergence between training and serving is 0.143933 (up to six significant digits), above the threshold 0.01.  \n'residual sugar'         The approximate Jensen-Shannon divergence between training and serving is 0.119963 (up to six significant digits), above the threshold 0.01.  \n'pH'                    The approximate Jensen-Shannon divergence between training and serving is 0.0317723 (up to six significant digits), above the threshold 0.01.  \n'fixed acidity'          The approximate Jensen-Shannon divergence between training and serving is 0.099682 (up to six significant digits), above the threshold 0.01.  \n'free sulfur dioxide'   The approximate Jensen-Shannon divergence between training and serving is 0.0555869 (up to six significant digits), above the threshold 0.01.  ",
      "text/html": "<div>\n<style scoped>\n    .dataframe tbody tr th:only-of-type {\n        vertical-align: middle;\n    }\n\n    .dataframe tbody tr th {\n        vertical-align: top;\n    }\n\n    .dataframe thead th {\n        text-align: right;\n    }\n</style>\n<table border=\"1\" class=\"dataframe\">\n  <thead>\n    <tr style=\"text-align: right;\">\n      <th></th>\n      <th>Anomaly short description</th>\n      <th>Anomaly long description</th>\n    </tr>\n    <tr>\n      <th>Feature name</th>\n      <th></th>\n      <th></th>\n    </tr>\n  </thead>\n  <tbody>\n    <tr>\n      <th>'alcohol'</th>\n      <td>High approximate Jensen-Shannon divergence between training and serving</td>\n      <td>The approximate Jensen-Shannon divergence between training and serving is 0.0312068 (up to six significant digits), above the threshold 0.01.</td>\n    </tr>\n    <tr>\n      <th>'sulphates'</th>\n      <td>High approximate Jensen-Shannon divergence between training and serving</td>\n      <td>The approximate Jensen-Shannon divergence between training and serving is 0.0869457 (up to six significant digits), above the threshold 0.01.</td>\n    </tr>\n    <tr>\n      <th>'citric acid'</th>\n      <td>High approximate Jensen-Shannon divergence between training and serving</td>\n      <td>The approximate Jensen-Shannon divergence between training and serving is 0.0473816 (up to six significant digits), above the threshold 0.01.</td>\n    </tr>\n    <tr>\n      <th>'density'</th>\n      <td>High approximate Jensen-Shannon divergence between training and serving</td>\n      <td>The approximate Jensen-Shannon divergence between training and serving is 0.0964337 (up to six significant digits), above the threshold 0.01.</td>\n    </tr>\n    <tr>\n      <th>'volatile acidity'</th>\n      <td>High approximate Jensen-Shannon divergence between training and serving</td>\n      <td>The approximate Jensen-Shannon divergence between training and serving is 0.0749396 (up to six significant digits), above the threshold 0.01.</td>\n    </tr>\n    <tr>\n      <th>'total sulfur dioxide'</th>\n      <td>High approximate Jensen-Shannon divergence between training and serving</td>\n      <td>The approximate Jensen-Shannon divergence between training and serving is 0.022238 (up to six significant digits), above the threshold 0.01.</td>\n    </tr>\n    <tr>\n      <th>'chlorides'</th>\n      <td>High approximate Jensen-Shannon divergence between training and serving</td>\n      <td>The approximate Jensen-Shannon divergence between training and serving is 0.143933 (up to six significant digits), above the threshold 0.01.</td>\n    </tr>\n    <tr>\n      <th>'residual sugar'</th>\n      <td>High approximate Jensen-Shannon divergence between training and serving</td>\n      <td>The approximate Jensen-Shannon divergence between training and serving is 0.119963 (up to six significant digits), above the threshold 0.01.</td>\n    </tr>\n    <tr>\n      <th>'pH'</th>\n      <td>High approximate Jensen-Shannon divergence between training and serving</td>\n      <td>The approximate Jensen-Shannon divergence between training and serving is 0.0317723 (up to six significant digits), above the threshold 0.01.</td>\n    </tr>\n    <tr>\n      <th>'fixed acidity'</th>\n      <td>High approximate Jensen-Shannon divergence between training and serving</td>\n      <td>The approximate Jensen-Shannon divergence between training and serving is 0.099682 (up to six significant digits), above the threshold 0.01.</td>\n    </tr>\n    <tr>\n      <th>'free sulfur dioxide'</th>\n      <td>High approximate Jensen-Shannon divergence between training and serving</td>\n      <td>The approximate Jensen-Shannon divergence between training and serving is 0.0555869 (up to six significant digits), above the threshold 0.01.</td>\n    </tr>\n  </tbody>\n</table>\n</div>"
     },
     "metadata": {},
     "output_type": "display_data"
    },
    {
     "name": "stdout",
     "output_type": "stream",
     "text": [
      "Day 8 :\n"
     ]
    },
    {
     "data": {
      "text/plain": "                                                                      Anomaly short description  \\\nFeature name                                                                                      \n'alcohol'               High approximate Jensen-Shannon divergence between training and serving   \n'volatile acidity'      High approximate Jensen-Shannon divergence between training and serving   \n'pH'                    High approximate Jensen-Shannon divergence between training and serving   \n'citric acid'           High approximate Jensen-Shannon divergence between training and serving   \n'residual sugar'        High approximate Jensen-Shannon divergence between training and serving   \n'total sulfur dioxide'  High approximate Jensen-Shannon divergence between training and serving   \n'chlorides'             High approximate Jensen-Shannon divergence between training and serving   \n'density'               High approximate Jensen-Shannon divergence between training and serving   \n'sulphates'             High approximate Jensen-Shannon divergence between training and serving   \n'free sulfur dioxide'   High approximate Jensen-Shannon divergence between training and serving   \n'fixed acidity'         High approximate Jensen-Shannon divergence between training and serving   \n\n                                                                                                                                             Anomaly long description  \nFeature name                                                                                                                                                           \n'alcohol'               The approximate Jensen-Shannon divergence between training and serving is 0.0256879 (up to six significant digits), above the threshold 0.01.  \n'volatile acidity'      The approximate Jensen-Shannon divergence between training and serving is 0.0804303 (up to six significant digits), above the threshold 0.01.  \n'pH'                    The approximate Jensen-Shannon divergence between training and serving is 0.0500445 (up to six significant digits), above the threshold 0.01.  \n'citric acid'           The approximate Jensen-Shannon divergence between training and serving is 0.0697686 (up to six significant digits), above the threshold 0.01.  \n'residual sugar'         The approximate Jensen-Shannon divergence between training and serving is 0.130599 (up to six significant digits), above the threshold 0.01.  \n'total sulfur dioxide'  The approximate Jensen-Shannon divergence between training and serving is 0.0420976 (up to six significant digits), above the threshold 0.01.  \n'chlorides'               The approximate Jensen-Shannon divergence between training and serving is 0.15624 (up to six significant digits), above the threshold 0.01.  \n'density'                The approximate Jensen-Shannon divergence between training and serving is 0.137453 (up to six significant digits), above the threshold 0.01.  \n'sulphates'             The approximate Jensen-Shannon divergence between training and serving is 0.0809762 (up to six significant digits), above the threshold 0.01.  \n'free sulfur dioxide'   The approximate Jensen-Shannon divergence between training and serving is 0.0539546 (up to six significant digits), above the threshold 0.01.  \n'fixed acidity'         The approximate Jensen-Shannon divergence between training and serving is 0.0585053 (up to six significant digits), above the threshold 0.01.  ",
      "text/html": "<div>\n<style scoped>\n    .dataframe tbody tr th:only-of-type {\n        vertical-align: middle;\n    }\n\n    .dataframe tbody tr th {\n        vertical-align: top;\n    }\n\n    .dataframe thead th {\n        text-align: right;\n    }\n</style>\n<table border=\"1\" class=\"dataframe\">\n  <thead>\n    <tr style=\"text-align: right;\">\n      <th></th>\n      <th>Anomaly short description</th>\n      <th>Anomaly long description</th>\n    </tr>\n    <tr>\n      <th>Feature name</th>\n      <th></th>\n      <th></th>\n    </tr>\n  </thead>\n  <tbody>\n    <tr>\n      <th>'alcohol'</th>\n      <td>High approximate Jensen-Shannon divergence between training and serving</td>\n      <td>The approximate Jensen-Shannon divergence between training and serving is 0.0256879 (up to six significant digits), above the threshold 0.01.</td>\n    </tr>\n    <tr>\n      <th>'volatile acidity'</th>\n      <td>High approximate Jensen-Shannon divergence between training and serving</td>\n      <td>The approximate Jensen-Shannon divergence between training and serving is 0.0804303 (up to six significant digits), above the threshold 0.01.</td>\n    </tr>\n    <tr>\n      <th>'pH'</th>\n      <td>High approximate Jensen-Shannon divergence between training and serving</td>\n      <td>The approximate Jensen-Shannon divergence between training and serving is 0.0500445 (up to six significant digits), above the threshold 0.01.</td>\n    </tr>\n    <tr>\n      <th>'citric acid'</th>\n      <td>High approximate Jensen-Shannon divergence between training and serving</td>\n      <td>The approximate Jensen-Shannon divergence between training and serving is 0.0697686 (up to six significant digits), above the threshold 0.01.</td>\n    </tr>\n    <tr>\n      <th>'residual sugar'</th>\n      <td>High approximate Jensen-Shannon divergence between training and serving</td>\n      <td>The approximate Jensen-Shannon divergence between training and serving is 0.130599 (up to six significant digits), above the threshold 0.01.</td>\n    </tr>\n    <tr>\n      <th>'total sulfur dioxide'</th>\n      <td>High approximate Jensen-Shannon divergence between training and serving</td>\n      <td>The approximate Jensen-Shannon divergence between training and serving is 0.0420976 (up to six significant digits), above the threshold 0.01.</td>\n    </tr>\n    <tr>\n      <th>'chlorides'</th>\n      <td>High approximate Jensen-Shannon divergence between training and serving</td>\n      <td>The approximate Jensen-Shannon divergence between training and serving is 0.15624 (up to six significant digits), above the threshold 0.01.</td>\n    </tr>\n    <tr>\n      <th>'density'</th>\n      <td>High approximate Jensen-Shannon divergence between training and serving</td>\n      <td>The approximate Jensen-Shannon divergence between training and serving is 0.137453 (up to six significant digits), above the threshold 0.01.</td>\n    </tr>\n    <tr>\n      <th>'sulphates'</th>\n      <td>High approximate Jensen-Shannon divergence between training and serving</td>\n      <td>The approximate Jensen-Shannon divergence between training and serving is 0.0809762 (up to six significant digits), above the threshold 0.01.</td>\n    </tr>\n    <tr>\n      <th>'free sulfur dioxide'</th>\n      <td>High approximate Jensen-Shannon divergence between training and serving</td>\n      <td>The approximate Jensen-Shannon divergence between training and serving is 0.0539546 (up to six significant digits), above the threshold 0.01.</td>\n    </tr>\n    <tr>\n      <th>'fixed acidity'</th>\n      <td>High approximate Jensen-Shannon divergence between training and serving</td>\n      <td>The approximate Jensen-Shannon divergence between training and serving is 0.0585053 (up to six significant digits), above the threshold 0.01.</td>\n    </tr>\n  </tbody>\n</table>\n</div>"
     },
     "metadata": {},
     "output_type": "display_data"
    },
    {
     "name": "stdout",
     "output_type": "stream",
     "text": [
      "Day 9 :\n"
     ]
    },
    {
     "data": {
      "text/plain": "                                                                      Anomaly short description  \\\nFeature name                                                                                      \n'pH'                    High approximate Jensen-Shannon divergence between training and serving   \n'total sulfur dioxide'  High approximate Jensen-Shannon divergence between training and serving   \n'citric acid'           High approximate Jensen-Shannon divergence between training and serving   \n'density'               High approximate Jensen-Shannon divergence between training and serving   \n'chlorides'             High approximate Jensen-Shannon divergence between training and serving   \n'free sulfur dioxide'   High approximate Jensen-Shannon divergence between training and serving   \n'fixed acidity'         High approximate Jensen-Shannon divergence between training and serving   \n'sulphates'             High approximate Jensen-Shannon divergence between training and serving   \n'alcohol'               High approximate Jensen-Shannon divergence between training and serving   \n'residual sugar'        High approximate Jensen-Shannon divergence between training and serving   \n'volatile acidity'      High approximate Jensen-Shannon divergence between training and serving   \n\n                                                                                                                                             Anomaly long description  \nFeature name                                                                                                                                                           \n'pH'                            The approximate Jensen-Shannon divergence between training and serving is 1 (up to six significant digits), above the threshold 0.01.  \n'total sulfur dioxide'  The approximate Jensen-Shannon divergence between training and serving is 0.0505399 (up to six significant digits), above the threshold 0.01.  \n'citric acid'            The approximate Jensen-Shannon divergence between training and serving is 0.047133 (up to six significant digits), above the threshold 0.01.  \n'density'                The approximate Jensen-Shannon divergence between training and serving is 0.133966 (up to six significant digits), above the threshold 0.01.  \n'chlorides'              The approximate Jensen-Shannon divergence between training and serving is 0.130124 (up to six significant digits), above the threshold 0.01.  \n'free sulfur dioxide'   The approximate Jensen-Shannon divergence between training and serving is 0.0811279 (up to six significant digits), above the threshold 0.01.  \n'fixed acidity'         The approximate Jensen-Shannon divergence between training and serving is 0.0536629 (up to six significant digits), above the threshold 0.01.  \n'sulphates'             The approximate Jensen-Shannon divergence between training and serving is 0.0803298 (up to six significant digits), above the threshold 0.01.  \n'alcohol'               The approximate Jensen-Shannon divergence between training and serving is 0.0451772 (up to six significant digits), above the threshold 0.01.  \n'residual sugar'        The approximate Jensen-Shannon divergence between training and serving is 0.0818962 (up to six significant digits), above the threshold 0.01.  \n'volatile acidity'      The approximate Jensen-Shannon divergence between training and serving is 0.0830926 (up to six significant digits), above the threshold 0.01.  ",
      "text/html": "<div>\n<style scoped>\n    .dataframe tbody tr th:only-of-type {\n        vertical-align: middle;\n    }\n\n    .dataframe tbody tr th {\n        vertical-align: top;\n    }\n\n    .dataframe thead th {\n        text-align: right;\n    }\n</style>\n<table border=\"1\" class=\"dataframe\">\n  <thead>\n    <tr style=\"text-align: right;\">\n      <th></th>\n      <th>Anomaly short description</th>\n      <th>Anomaly long description</th>\n    </tr>\n    <tr>\n      <th>Feature name</th>\n      <th></th>\n      <th></th>\n    </tr>\n  </thead>\n  <tbody>\n    <tr>\n      <th>'pH'</th>\n      <td>High approximate Jensen-Shannon divergence between training and serving</td>\n      <td>The approximate Jensen-Shannon divergence between training and serving is 1 (up to six significant digits), above the threshold 0.01.</td>\n    </tr>\n    <tr>\n      <th>'total sulfur dioxide'</th>\n      <td>High approximate Jensen-Shannon divergence between training and serving</td>\n      <td>The approximate Jensen-Shannon divergence between training and serving is 0.0505399 (up to six significant digits), above the threshold 0.01.</td>\n    </tr>\n    <tr>\n      <th>'citric acid'</th>\n      <td>High approximate Jensen-Shannon divergence between training and serving</td>\n      <td>The approximate Jensen-Shannon divergence between training and serving is 0.047133 (up to six significant digits), above the threshold 0.01.</td>\n    </tr>\n    <tr>\n      <th>'density'</th>\n      <td>High approximate Jensen-Shannon divergence between training and serving</td>\n      <td>The approximate Jensen-Shannon divergence between training and serving is 0.133966 (up to six significant digits), above the threshold 0.01.</td>\n    </tr>\n    <tr>\n      <th>'chlorides'</th>\n      <td>High approximate Jensen-Shannon divergence between training and serving</td>\n      <td>The approximate Jensen-Shannon divergence between training and serving is 0.130124 (up to six significant digits), above the threshold 0.01.</td>\n    </tr>\n    <tr>\n      <th>'free sulfur dioxide'</th>\n      <td>High approximate Jensen-Shannon divergence between training and serving</td>\n      <td>The approximate Jensen-Shannon divergence between training and serving is 0.0811279 (up to six significant digits), above the threshold 0.01.</td>\n    </tr>\n    <tr>\n      <th>'fixed acidity'</th>\n      <td>High approximate Jensen-Shannon divergence between training and serving</td>\n      <td>The approximate Jensen-Shannon divergence between training and serving is 0.0536629 (up to six significant digits), above the threshold 0.01.</td>\n    </tr>\n    <tr>\n      <th>'sulphates'</th>\n      <td>High approximate Jensen-Shannon divergence between training and serving</td>\n      <td>The approximate Jensen-Shannon divergence between training and serving is 0.0803298 (up to six significant digits), above the threshold 0.01.</td>\n    </tr>\n    <tr>\n      <th>'alcohol'</th>\n      <td>High approximate Jensen-Shannon divergence between training and serving</td>\n      <td>The approximate Jensen-Shannon divergence between training and serving is 0.0451772 (up to six significant digits), above the threshold 0.01.</td>\n    </tr>\n    <tr>\n      <th>'residual sugar'</th>\n      <td>High approximate Jensen-Shannon divergence between training and serving</td>\n      <td>The approximate Jensen-Shannon divergence between training and serving is 0.0818962 (up to six significant digits), above the threshold 0.01.</td>\n    </tr>\n    <tr>\n      <th>'volatile acidity'</th>\n      <td>High approximate Jensen-Shannon divergence between training and serving</td>\n      <td>The approximate Jensen-Shannon divergence between training and serving is 0.0830926 (up to six significant digits), above the threshold 0.01.</td>\n    </tr>\n  </tbody>\n</table>\n</div>"
     },
     "metadata": {},
     "output_type": "display_data"
    },
    {
     "name": "stdout",
     "output_type": "stream",
     "text": [
      "Day 10 :\n"
     ]
    },
    {
     "data": {
      "text/plain": "                                                                      Anomaly short description  \\\nFeature name                                                                                      \n'alcohol'               High approximate Jensen-Shannon divergence between training and serving   \n'free sulfur dioxide'   High approximate Jensen-Shannon divergence between training and serving   \n'citric acid'           High approximate Jensen-Shannon divergence between training and serving   \n'fixed acidity'         High approximate Jensen-Shannon divergence between training and serving   \n'sulphates'             High approximate Jensen-Shannon divergence between training and serving   \n'residual sugar'        High approximate Jensen-Shannon divergence between training and serving   \n'volatile acidity'      High approximate Jensen-Shannon divergence between training and serving   \n'pH'                    High approximate Jensen-Shannon divergence between training and serving   \n'density'               High approximate Jensen-Shannon divergence between training and serving   \n'total sulfur dioxide'  High approximate Jensen-Shannon divergence between training and serving   \n'chlorides'             High approximate Jensen-Shannon divergence between training and serving   \n\n                                                                                                                                             Anomaly long description  \nFeature name                                                                                                                                                           \n'alcohol'               The approximate Jensen-Shannon divergence between training and serving is 0.0743059 (up to six significant digits), above the threshold 0.01.  \n'free sulfur dioxide'   The approximate Jensen-Shannon divergence between training and serving is 0.0510628 (up to six significant digits), above the threshold 0.01.  \n'citric acid'           The approximate Jensen-Shannon divergence between training and serving is 0.0585808 (up to six significant digits), above the threshold 0.01.  \n'fixed acidity'         The approximate Jensen-Shannon divergence between training and serving is 0.0353849 (up to six significant digits), above the threshold 0.01.  \n'sulphates'              The approximate Jensen-Shannon divergence between training and serving is 0.109554 (up to six significant digits), above the threshold 0.01.  \n'residual sugar'         The approximate Jensen-Shannon divergence between training and serving is 0.122924 (up to six significant digits), above the threshold 0.01.  \n'volatile acidity'      The approximate Jensen-Shannon divergence between training and serving is 0.0750442 (up to six significant digits), above the threshold 0.01.  \n'pH'                    The approximate Jensen-Shannon divergence between training and serving is 0.0401817 (up to six significant digits), above the threshold 0.01.  \n'density'               The approximate Jensen-Shannon divergence between training and serving is 0.0713843 (up to six significant digits), above the threshold 0.01.  \n'total sulfur dioxide'     The approximate Jensen-Shannon divergence between training and serving is 0.0319 (up to six significant digits), above the threshold 0.01.  \n'chlorides'              The approximate Jensen-Shannon divergence between training and serving is 0.119279 (up to six significant digits), above the threshold 0.01.  ",
      "text/html": "<div>\n<style scoped>\n    .dataframe tbody tr th:only-of-type {\n        vertical-align: middle;\n    }\n\n    .dataframe tbody tr th {\n        vertical-align: top;\n    }\n\n    .dataframe thead th {\n        text-align: right;\n    }\n</style>\n<table border=\"1\" class=\"dataframe\">\n  <thead>\n    <tr style=\"text-align: right;\">\n      <th></th>\n      <th>Anomaly short description</th>\n      <th>Anomaly long description</th>\n    </tr>\n    <tr>\n      <th>Feature name</th>\n      <th></th>\n      <th></th>\n    </tr>\n  </thead>\n  <tbody>\n    <tr>\n      <th>'alcohol'</th>\n      <td>High approximate Jensen-Shannon divergence between training and serving</td>\n      <td>The approximate Jensen-Shannon divergence between training and serving is 0.0743059 (up to six significant digits), above the threshold 0.01.</td>\n    </tr>\n    <tr>\n      <th>'free sulfur dioxide'</th>\n      <td>High approximate Jensen-Shannon divergence between training and serving</td>\n      <td>The approximate Jensen-Shannon divergence between training and serving is 0.0510628 (up to six significant digits), above the threshold 0.01.</td>\n    </tr>\n    <tr>\n      <th>'citric acid'</th>\n      <td>High approximate Jensen-Shannon divergence between training and serving</td>\n      <td>The approximate Jensen-Shannon divergence between training and serving is 0.0585808 (up to six significant digits), above the threshold 0.01.</td>\n    </tr>\n    <tr>\n      <th>'fixed acidity'</th>\n      <td>High approximate Jensen-Shannon divergence between training and serving</td>\n      <td>The approximate Jensen-Shannon divergence between training and serving is 0.0353849 (up to six significant digits), above the threshold 0.01.</td>\n    </tr>\n    <tr>\n      <th>'sulphates'</th>\n      <td>High approximate Jensen-Shannon divergence between training and serving</td>\n      <td>The approximate Jensen-Shannon divergence between training and serving is 0.109554 (up to six significant digits), above the threshold 0.01.</td>\n    </tr>\n    <tr>\n      <th>'residual sugar'</th>\n      <td>High approximate Jensen-Shannon divergence between training and serving</td>\n      <td>The approximate Jensen-Shannon divergence between training and serving is 0.122924 (up to six significant digits), above the threshold 0.01.</td>\n    </tr>\n    <tr>\n      <th>'volatile acidity'</th>\n      <td>High approximate Jensen-Shannon divergence between training and serving</td>\n      <td>The approximate Jensen-Shannon divergence between training and serving is 0.0750442 (up to six significant digits), above the threshold 0.01.</td>\n    </tr>\n    <tr>\n      <th>'pH'</th>\n      <td>High approximate Jensen-Shannon divergence between training and serving</td>\n      <td>The approximate Jensen-Shannon divergence between training and serving is 0.0401817 (up to six significant digits), above the threshold 0.01.</td>\n    </tr>\n    <tr>\n      <th>'density'</th>\n      <td>High approximate Jensen-Shannon divergence between training and serving</td>\n      <td>The approximate Jensen-Shannon divergence between training and serving is 0.0713843 (up to six significant digits), above the threshold 0.01.</td>\n    </tr>\n    <tr>\n      <th>'total sulfur dioxide'</th>\n      <td>High approximate Jensen-Shannon divergence between training and serving</td>\n      <td>The approximate Jensen-Shannon divergence between training and serving is 0.0319 (up to six significant digits), above the threshold 0.01.</td>\n    </tr>\n    <tr>\n      <th>'chlorides'</th>\n      <td>High approximate Jensen-Shannon divergence between training and serving</td>\n      <td>The approximate Jensen-Shannon divergence between training and serving is 0.119279 (up to six significant digits), above the threshold 0.01.</td>\n    </tr>\n  </tbody>\n</table>\n</div>"
     },
     "metadata": {},
     "output_type": "display_data"
    }
   ],
   "source": [
    "tensorflow_detectors.tensorflow_detect_seasonal_drift(data_train=wine_dataset_train,\n",
    "                                                     data_to_compare=wine_dataset_test,\n",
    "                                                     label_col=\"quality\",\n",
    "                                                     value_drift=1.5,\n",
    "                                                     column_name=\"pH\",\n",
    "                                                      action=\"multiply\",\n",
    "                                                     frequency=3,\n",
    "                                                     nb_sample=100,\n",
    "                                                     nb_days=10)"
   ],
   "metadata": {
    "collapsed": false,
    "pycharm": {
     "name": "#%%\n"
    }
   }
  },
  {
   "cell_type": "markdown",
   "source": [
    "### Drift Detector with Labels\n",
    "#### EDDM"
   ],
   "metadata": {
    "collapsed": false
   }
  },
  {
   "cell_type": "code",
   "execution_count": 231,
   "outputs": [
    {
     "name": "stdout",
     "output_type": "stream",
     "text": [
      "Day 0 :\n",
      "Day 1 :\n",
      "Day 2 :\n",
      "Day 3 :\n",
      "Day 4 :\n",
      "Day 5 :\n",
      "Day 6 :\n",
      "Day 7 :\n",
      "Day 8 :\n",
      "Day 9 :\n",
      "Day 10 :\n"
     ]
    }
   ],
   "source": [
    "drift_detector_with_labels.drift_detector_labels_seasonal_drift(data_train=wine_dataset_train,\n",
    "                                                               data_to_compare=wine_dataset_test,\n",
    "                                                               column_name=\"pH\",\n",
    "                                                               label_col=\"quality\",\n",
    "                                                               model=lgbm_model,\n",
    "                                                               frequency=3,\n",
    "                                                               value_drift=1.5,\n",
    "                                                               action=\"multiply\",\n",
    "                                                               test_name=\"EDDM\",\n",
    "                                                               nb_sample=100,\n",
    "                                                               nb_days=10)"
   ],
   "metadata": {
    "collapsed": false,
    "pycharm": {
     "name": "#%%\n"
    }
   }
  },
  {
   "cell_type": "code",
   "execution_count": 232,
   "outputs": [
    {
     "name": "stdout",
     "output_type": "stream",
     "text": [
      "Day 0 :\n",
      "Day 1 :\n",
      "Day 2 :\n",
      "Day 3 :\n",
      "Day 4 :\n",
      "Day 5 :\n",
      "Day 6 :\n",
      "Day 7 :\n",
      "Day 8 :\n",
      "Day 9 :\n",
      "Day 10 :\n"
     ]
    }
   ],
   "source": [
    "drift_detector_with_labels.drift_detector_labels_seasonal_drift(data_train=wine_dataset_train,\n",
    "                                                               data_to_compare=wine_dataset_test,\n",
    "                                                               column_name=\"pH\",\n",
    "                                                               label_col=\"quality\",\n",
    "                                                               model=lgbm_model,\n",
    "                                                               frequency=3,\n",
    "                                                               value_drift=1.5,\n",
    "                                                               action=\"multiply\",\n",
    "                                                               test_name=\"HDDM_W\",\n",
    "                                                               nb_sample=100,\n",
    "                                                               nb_days=10)"
   ],
   "metadata": {
    "collapsed": false,
    "pycharm": {
     "name": "#%%\n"
    }
   }
  },
  {
   "cell_type": "code",
   "execution_count": 233,
   "outputs": [
    {
     "name": "stdout",
     "output_type": "stream",
     "text": [
      "Day 0 :\n",
      "Day 1 :\n",
      "Day 2 :\n",
      "Day 3 :\n",
      "Day 4 :\n",
      "Day 5 :\n",
      "Day 6 :\n",
      "Day 7 :\n",
      "Day 8 :\n",
      "Day 9 :\n",
      "Day 10 :\n"
     ]
    }
   ],
   "source": [
    "drift_detector_with_labels.drift_detector_labels_seasonal_drift(data_train=wine_dataset_train,\n",
    "                                                               data_to_compare=wine_dataset_test,\n",
    "                                                               column_name=\"pH\",\n",
    "                                                               label_col=\"quality\",\n",
    "                                                               model=lgbm_model,\n",
    "                                                               frequency=3,\n",
    "                                                               value_drift=1.5,\n",
    "                                                               action=\"multiply\",\n",
    "                                                               test_name=\"ADWIN\",\n",
    "                                                               nb_sample=100,\n",
    "                                                               nb_days=10)"
   ],
   "metadata": {
    "collapsed": false,
    "pycharm": {
     "name": "#%%\n"
    }
   }
  },
  {
   "cell_type": "markdown",
   "source": [
    "### Drift Detector Multivariate: HDDDM & MD3\n",
    "#### HDDDM"
   ],
   "metadata": {
    "collapsed": false
   }
  },
  {
   "cell_type": "code",
   "execution_count": 228,
   "outputs": [
    {
     "name": "stdout",
     "output_type": "stream",
     "text": [
      "Day 0 :\n",
      "None\n",
      "Day 1 :\n",
      "None\n",
      "Day 2 :\n",
      "None\n",
      "Day 3 :\n",
      "drift\n",
      "Day 4 :\n",
      "None\n",
      "Day 5 :\n",
      "None\n",
      "Day 6 :\n",
      "None\n",
      "Day 7 :\n",
      "None\n",
      "Day 8 :\n",
      "drift\n",
      "Day 9 :\n",
      "None\n",
      "Day 10 :\n",
      "None\n"
     ]
    }
   ],
   "source": [
    "X_train = wine_dataset_train.loc[:, wine_dataset_train.columns != \"quality\"]\n",
    "X_corrupted = wine_dataset_test.loc[:, wine_dataset_test.columns != \"quality\"]\n",
    "drift_detector_multivariate_hdddm.hdddm_detect_seasonal_drift(data_train=X_train,\n",
    "                                                             data_to_compare=X_corrupted,\n",
    "                                                             column_name=\"pH\",\n",
    "                                                             value_drift=1.5,\n",
    "                                                             action=\"multiply\",\n",
    "                                                             nb_sample=100,\n",
    "                                                             frequency=3,\n",
    "                                                             nb_days=10)"
   ],
   "metadata": {
    "collapsed": false,
    "pycharm": {
     "name": "#%%\n"
    }
   }
  },
  {
   "cell_type": "markdown",
   "source": [
    "#### MD3"
   ],
   "metadata": {
    "collapsed": false
   }
  },
  {
   "cell_type": "code",
   "execution_count": 229,
   "outputs": [
    {
     "name": "stdout",
     "output_type": "stream",
     "text": [
      "Day 0 :\n",
      "Alarm, drift Detected\n",
      "Day 1 :\n",
      "Alarm, drift Detected\n",
      "Day 2 :\n",
      "Alarm, drift Detected\n",
      "Day 3 :\n",
      "Alarm, drift Detected\n",
      "Day 4 :\n",
      "Alarm, drift Detected\n",
      "Day 5 :\n",
      "Day 6 :\n",
      "Alarm, drift Detected\n",
      "Day 7 :\n",
      "Alarm, drift Detected\n",
      "Day 8 :\n",
      "Alarm, drift Detected\n",
      "Day 9 :\n",
      "Alarm, drift Detected\n",
      "Day 10 :\n",
      "Alarm, drift Detected\n"
     ]
    }
   ],
   "source": [
    "drift_detector_multivariate_md3.md3_seasonal_drift(data_train=wine_dataset_train,\n",
    "                                                   data_to_compare=wine_dataset_test,\n",
    "                                                   label_col=\"quality\",\n",
    "                                                   column_name=\"pH\",\n",
    "                                                   value_drift=1.5,\n",
    "                                                   action=\"multiply\",\n",
    "                                                   nb_sample=100,\n",
    "                                                   frequency=3,\n",
    "                                                   nb_days=10)"
   ],
   "metadata": {
    "collapsed": false,
    "pycharm": {
     "name": "#%%\n"
    }
   }
  },
  {
   "cell_type": "markdown",
   "source": [
    "#### OLINDDA"
   ],
   "metadata": {
    "collapsed": false
   }
  },
  {
   "cell_type": "code",
   "execution_count": 230,
   "outputs": [
    {
     "name": "stdout",
     "output_type": "stream",
     "text": [
      "Day 0 :\n",
      "No drift or novelty detected in batch\n",
      "Day 1 :\n",
      "No drift or novelty detected in batch\n",
      "Day 2 :\n",
      "No drift or novelty detected in batch\n",
      "Day 3 :\n",
      "No drift or novelty detected in batch\n",
      "Day 4 :\n",
      "No drift or novelty detected in batch\n",
      "Day 5 :\n",
      "No drift or novelty detected in batch\n",
      "Day 6 :\n",
      "No drift or novelty detected in batch\n",
      "Day 7 :\n",
      "No drift or novelty detected in batch\n",
      "Day 8 :\n",
      "No drift or novelty detected in batch\n",
      "Day 9 :\n",
      "No drift or novelty detected in batch\n",
      "Day 10 :\n",
      "No drift or novelty detected in batch\n"
     ]
    }
   ],
   "source": [
    "drift_detector_multivariate_ollindda.olindda_seasonal_drift(data_train=X_train,\n",
    "                                                   data_to_compare=X_corrupted,\n",
    "                                                            n_clusters=6,\n",
    "                                                   column_name=\"pH\",\n",
    "                                                   value_drift=1.5,\n",
    "                                                   action=\"multiply\",\n",
    "                                                   nb_sample=100,\n",
    "                                                   frequency=3,\n",
    "                                                   nb_days=10)"
   ],
   "metadata": {
    "collapsed": false,
    "pycharm": {
     "name": "#%%\n"
    }
   }
  }
 ],
 "metadata": {
  "kernelspec": {
   "display_name": "Python 3",
   "language": "python",
   "name": "python3"
  },
  "language_info": {
   "codemirror_mode": {
    "name": "ipython",
    "version": 2
   },
   "file_extension": ".py",
   "mimetype": "text/x-python",
   "name": "python",
   "nbconvert_exporter": "python",
   "pygments_lexer": "ipython2",
   "version": "2.7.6"
  }
 },
 "nbformat": 4,
 "nbformat_minor": 0
}